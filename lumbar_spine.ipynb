{
  "cells": [
    {
      "cell_type": "markdown",
      "metadata": {
        "id": "view-in-github",
        "colab_type": "text"
      },
      "source": [
        "<a href=\"https://colab.research.google.com/github/easoplee/spine_segmentation/blob/main/lumbar_spine.ipynb\" target=\"_parent\"><img src=\"https://colab.research.google.com/assets/colab-badge.svg\" alt=\"Open In Colab\"/></a>"
      ]
    },
    {
      "cell_type": "markdown",
      "metadata": {
        "id": "TOm42xiov8Eq"
      },
      "source": [
        "# Lumbar Spine Bone (L1-S1) Segmentation\n",
        "- dataset can be accessed from: https://data.mendeley.com/datasets/k3b363f3vz/2"
      ]
    },
    {
      "cell_type": "markdown",
      "metadata": {
        "id": "Do4_hZsTOqO6"
      },
      "source": [
        "### Import necessary packages"
      ]
    },
    {
      "cell_type": "code",
      "execution_count": 1,
      "metadata": {
        "colab": {
          "base_uri": "https://localhost:8080/",
          "height": 1000
        },
        "id": "StodJyjVO5Mm",
        "outputId": "979a1997-01dc-469d-a5a2-2ed96e29baf0"
      },
      "outputs": [
        {
          "output_type": "stream",
          "name": "stdout",
          "text": [
            "Looking in indexes: https://pypi.org/simple, https://us-python.pkg.dev/colab-wheels/public/simple/\n",
            "Requirement already satisfied: itk in /usr/local/lib/python3.7/dist-packages (5.2.1.post1)\n",
            "Requirement already satisfied: itk-numerics==5.2.1.post1 in /usr/local/lib/python3.7/dist-packages (from itk) (5.2.1.post1)\n",
            "Requirement already satisfied: itk-core==5.2.1.post1 in /usr/local/lib/python3.7/dist-packages (from itk) (5.2.1.post1)\n",
            "Requirement already satisfied: itk-registration==5.2.1.post1 in /usr/local/lib/python3.7/dist-packages (from itk) (5.2.1.post1)\n",
            "Requirement already satisfied: itk-filtering==5.2.1.post1 in /usr/local/lib/python3.7/dist-packages (from itk) (5.2.1.post1)\n",
            "Requirement already satisfied: itk-segmentation==5.2.1.post1 in /usr/local/lib/python3.7/dist-packages (from itk) (5.2.1.post1)\n",
            "Requirement already satisfied: itk-io==5.2.1.post1 in /usr/local/lib/python3.7/dist-packages (from itk) (5.2.1.post1)\n",
            "Requirement already satisfied: numpy in /usr/local/lib/python3.7/dist-packages (from itk) (1.21.6)\n",
            "Looking in indexes: https://pypi.org/simple, https://us-python.pkg.dev/colab-wheels/public/simple/\n",
            "Requirement already satisfied: itkwidgets in /usr/local/lib/python3.7/dist-packages (0.32.1)\n",
            "Requirement already satisfied: itk-filtering>=5.2.0.post2 in /usr/local/lib/python3.7/dist-packages (from itkwidgets) (5.2.1.post1)\n",
            "Requirement already satisfied: six in /usr/local/lib/python3.7/dist-packages (from itkwidgets) (1.15.0)\n",
            "Requirement already satisfied: ipympl>=0.4.1 in /usr/local/lib/python3.7/dist-packages (from itkwidgets) (0.9.1)\n",
            "Requirement already satisfied: ipywidgets>=7.5.1 in /usr/local/lib/python3.7/dist-packages (from itkwidgets) (7.7.0)\n",
            "Requirement already satisfied: zstandard in /usr/local/lib/python3.7/dist-packages (from itkwidgets) (0.17.0)\n",
            "Requirement already satisfied: numpy in /usr/local/lib/python3.7/dist-packages (from itkwidgets) (1.21.6)\n",
            "Requirement already satisfied: itk-core>=5.2.0.post2 in /usr/local/lib/python3.7/dist-packages (from itkwidgets) (5.2.1.post1)\n",
            "Requirement already satisfied: itk-meshtopolydata>=0.7.1 in /usr/local/lib/python3.7/dist-packages (from itkwidgets) (0.8.1)\n",
            "Requirement already satisfied: ipydatawidgets>=4.0.1 in /usr/local/lib/python3.7/dist-packages (from itkwidgets) (4.3.1.post1)\n",
            "Requirement already satisfied: matplotlib in /usr/local/lib/python3.7/dist-packages (from itkwidgets) (3.1.3)\n",
            "Requirement already satisfied: colorcet in /usr/local/lib/python3.7/dist-packages (from itkwidgets) (3.0.0)\n",
            "Requirement already satisfied: traittypes>=0.2.0 in /usr/local/lib/python3.7/dist-packages (from ipydatawidgets>=4.0.1->itkwidgets) (0.2.1)\n",
            "Requirement already satisfied: ipython<9 in /usr/local/lib/python3.7/dist-packages (from ipympl>=0.4.1->itkwidgets) (5.5.0)\n",
            "Requirement already satisfied: ipython-genutils in /usr/local/lib/python3.7/dist-packages (from ipympl>=0.4.1->itkwidgets) (0.2.0)\n",
            "Requirement already satisfied: traitlets<6 in /usr/local/lib/python3.7/dist-packages (from ipympl>=0.4.1->itkwidgets) (5.1.1)\n",
            "Requirement already satisfied: pillow in /usr/local/lib/python3.7/dist-packages (from ipympl>=0.4.1->itkwidgets) (7.1.2)\n",
            "Collecting matplotlib\n",
            "  Using cached matplotlib-3.5.2-cp37-cp37m-manylinux_2_5_x86_64.manylinux1_x86_64.whl (11.2 MB)\n",
            "Requirement already satisfied: prompt-toolkit<2.0.0,>=1.0.4 in /usr/local/lib/python3.7/dist-packages (from ipython<9->ipympl>=0.4.1->itkwidgets) (1.0.18)\n",
            "Requirement already satisfied: pickleshare in /usr/local/lib/python3.7/dist-packages (from ipython<9->ipympl>=0.4.1->itkwidgets) (0.7.5)\n",
            "Requirement already satisfied: pexpect in /usr/local/lib/python3.7/dist-packages (from ipython<9->ipympl>=0.4.1->itkwidgets) (4.8.0)\n",
            "Requirement already satisfied: simplegeneric>0.8 in /usr/local/lib/python3.7/dist-packages (from ipython<9->ipympl>=0.4.1->itkwidgets) (0.8.1)\n",
            "Requirement already satisfied: setuptools>=18.5 in /usr/local/lib/python3.7/dist-packages (from ipython<9->ipympl>=0.4.1->itkwidgets) (57.4.0)\n",
            "Requirement already satisfied: pygments in /usr/local/lib/python3.7/dist-packages (from ipython<9->ipympl>=0.4.1->itkwidgets) (2.6.1)\n",
            "Requirement already satisfied: decorator in /usr/local/lib/python3.7/dist-packages (from ipython<9->ipympl>=0.4.1->itkwidgets) (4.4.2)\n",
            "Requirement already satisfied: widgetsnbextension~=3.6.0 in /usr/local/lib/python3.7/dist-packages (from ipywidgets>=7.5.1->itkwidgets) (3.6.0)\n",
            "Requirement already satisfied: ipykernel>=4.5.1 in /usr/local/lib/python3.7/dist-packages (from ipywidgets>=7.5.1->itkwidgets) (4.10.1)\n",
            "Requirement already satisfied: jupyterlab-widgets>=1.0.0 in /usr/local/lib/python3.7/dist-packages (from ipywidgets>=7.5.1->itkwidgets) (1.1.0)\n",
            "Requirement already satisfied: nbformat>=4.2.0 in /usr/local/lib/python3.7/dist-packages (from ipywidgets>=7.5.1->itkwidgets) (5.4.0)\n",
            "Requirement already satisfied: tornado>=4.0 in /usr/local/lib/python3.7/dist-packages (from ipykernel>=4.5.1->ipywidgets>=7.5.1->itkwidgets) (5.1.1)\n",
            "Requirement already satisfied: jupyter-client in /usr/local/lib/python3.7/dist-packages (from ipykernel>=4.5.1->ipywidgets>=7.5.1->itkwidgets) (5.3.5)\n",
            "Requirement already satisfied: itk-numerics==5.2.1.post1 in /usr/local/lib/python3.7/dist-packages (from itk-filtering>=5.2.0.post2->itkwidgets) (5.2.1.post1)\n",
            "Requirement already satisfied: pyparsing>=2.2.1 in /usr/local/lib/python3.7/dist-packages (from matplotlib->itkwidgets) (3.0.9)\n",
            "Requirement already satisfied: cycler>=0.10 in /usr/local/lib/python3.7/dist-packages (from matplotlib->itkwidgets) (0.11.0)\n",
            "Requirement already satisfied: packaging>=20.0 in /usr/local/lib/python3.7/dist-packages (from matplotlib->itkwidgets) (21.3)\n",
            "Requirement already satisfied: fonttools>=4.22.0 in /usr/local/lib/python3.7/dist-packages (from matplotlib->itkwidgets) (4.33.3)\n",
            "Requirement already satisfied: python-dateutil>=2.7 in /usr/local/lib/python3.7/dist-packages (from matplotlib->itkwidgets) (2.8.2)\n",
            "Requirement already satisfied: kiwisolver>=1.0.1 in /usr/local/lib/python3.7/dist-packages (from matplotlib->itkwidgets) (1.4.2)\n",
            "Requirement already satisfied: typing-extensions in /usr/local/lib/python3.7/dist-packages (from kiwisolver>=1.0.1->matplotlib->itkwidgets) (4.2.0)\n",
            "Requirement already satisfied: jsonschema>=2.6 in /usr/local/lib/python3.7/dist-packages (from nbformat>=4.2.0->ipywidgets>=7.5.1->itkwidgets) (4.3.3)\n",
            "Requirement already satisfied: jupyter-core in /usr/local/lib/python3.7/dist-packages (from nbformat>=4.2.0->ipywidgets>=7.5.1->itkwidgets) (4.10.0)\n",
            "Requirement already satisfied: fastjsonschema in /usr/local/lib/python3.7/dist-packages (from nbformat>=4.2.0->ipywidgets>=7.5.1->itkwidgets) (2.15.3)\n",
            "Requirement already satisfied: pyrsistent!=0.17.0,!=0.17.1,!=0.17.2,>=0.14.0 in /usr/local/lib/python3.7/dist-packages (from jsonschema>=2.6->nbformat>=4.2.0->ipywidgets>=7.5.1->itkwidgets) (0.18.1)\n",
            "Requirement already satisfied: attrs>=17.4.0 in /usr/local/lib/python3.7/dist-packages (from jsonschema>=2.6->nbformat>=4.2.0->ipywidgets>=7.5.1->itkwidgets) (21.4.0)\n",
            "Requirement already satisfied: importlib-resources>=1.4.0 in /usr/local/lib/python3.7/dist-packages (from jsonschema>=2.6->nbformat>=4.2.0->ipywidgets>=7.5.1->itkwidgets) (5.7.1)\n",
            "Requirement already satisfied: importlib-metadata in /usr/local/lib/python3.7/dist-packages (from jsonschema>=2.6->nbformat>=4.2.0->ipywidgets>=7.5.1->itkwidgets) (4.11.4)\n",
            "Requirement already satisfied: zipp>=3.1.0 in /usr/local/lib/python3.7/dist-packages (from importlib-resources>=1.4.0->jsonschema>=2.6->nbformat>=4.2.0->ipywidgets>=7.5.1->itkwidgets) (3.8.0)\n",
            "Requirement already satisfied: wcwidth in /usr/local/lib/python3.7/dist-packages (from prompt-toolkit<2.0.0,>=1.0.4->ipython<9->ipympl>=0.4.1->itkwidgets) (0.2.5)\n",
            "Requirement already satisfied: notebook>=4.4.1 in /usr/local/lib/python3.7/dist-packages (from widgetsnbextension~=3.6.0->ipywidgets>=7.5.1->itkwidgets) (5.3.1)\n",
            "Requirement already satisfied: nbconvert in /usr/local/lib/python3.7/dist-packages (from notebook>=4.4.1->widgetsnbextension~=3.6.0->ipywidgets>=7.5.1->itkwidgets) (5.6.1)\n",
            "Requirement already satisfied: Send2Trash in /usr/local/lib/python3.7/dist-packages (from notebook>=4.4.1->widgetsnbextension~=3.6.0->ipywidgets>=7.5.1->itkwidgets) (1.8.0)\n",
            "Requirement already satisfied: jinja2 in /usr/local/lib/python3.7/dist-packages (from notebook>=4.4.1->widgetsnbextension~=3.6.0->ipywidgets>=7.5.1->itkwidgets) (2.11.3)\n",
            "Requirement already satisfied: terminado>=0.8.1 in /usr/local/lib/python3.7/dist-packages (from notebook>=4.4.1->widgetsnbextension~=3.6.0->ipywidgets>=7.5.1->itkwidgets) (0.13.3)\n",
            "Requirement already satisfied: pyzmq>=13 in /usr/local/lib/python3.7/dist-packages (from jupyter-client->ipykernel>=4.5.1->ipywidgets>=7.5.1->itkwidgets) (23.0.0)\n",
            "Requirement already satisfied: ptyprocess in /usr/local/lib/python3.7/dist-packages (from terminado>=0.8.1->notebook>=4.4.1->widgetsnbextension~=3.6.0->ipywidgets>=7.5.1->itkwidgets) (0.7.0)\n",
            "Requirement already satisfied: param>=1.7.0 in /usr/local/lib/python3.7/dist-packages (from colorcet->itkwidgets) (1.12.1)\n",
            "Requirement already satisfied: pyct>=0.4.4 in /usr/local/lib/python3.7/dist-packages (from colorcet->itkwidgets) (0.4.8)\n",
            "Requirement already satisfied: MarkupSafe>=0.23 in /usr/local/lib/python3.7/dist-packages (from jinja2->notebook>=4.4.1->widgetsnbextension~=3.6.0->ipywidgets>=7.5.1->itkwidgets) (2.0.1)\n",
            "Requirement already satisfied: entrypoints>=0.2.2 in /usr/local/lib/python3.7/dist-packages (from nbconvert->notebook>=4.4.1->widgetsnbextension~=3.6.0->ipywidgets>=7.5.1->itkwidgets) (0.4)\n",
            "Requirement already satisfied: testpath in /usr/local/lib/python3.7/dist-packages (from nbconvert->notebook>=4.4.1->widgetsnbextension~=3.6.0->ipywidgets>=7.5.1->itkwidgets) (0.6.0)\n",
            "Requirement already satisfied: defusedxml in /usr/local/lib/python3.7/dist-packages (from nbconvert->notebook>=4.4.1->widgetsnbextension~=3.6.0->ipywidgets>=7.5.1->itkwidgets) (0.7.1)\n",
            "Requirement already satisfied: mistune<2,>=0.8.1 in /usr/local/lib/python3.7/dist-packages (from nbconvert->notebook>=4.4.1->widgetsnbextension~=3.6.0->ipywidgets>=7.5.1->itkwidgets) (0.8.4)\n",
            "Requirement already satisfied: bleach in /usr/local/lib/python3.7/dist-packages (from nbconvert->notebook>=4.4.1->widgetsnbextension~=3.6.0->ipywidgets>=7.5.1->itkwidgets) (5.0.0)\n",
            "Requirement already satisfied: pandocfilters>=1.4.1 in /usr/local/lib/python3.7/dist-packages (from nbconvert->notebook>=4.4.1->widgetsnbextension~=3.6.0->ipywidgets>=7.5.1->itkwidgets) (1.5.0)\n",
            "Requirement already satisfied: webencodings in /usr/local/lib/python3.7/dist-packages (from bleach->nbconvert->notebook>=4.4.1->widgetsnbextension~=3.6.0->ipywidgets>=7.5.1->itkwidgets) (0.5.1)\n",
            "Installing collected packages: matplotlib\n",
            "  Attempting uninstall: matplotlib\n",
            "    Found existing installation: matplotlib 3.1.3\n",
            "    Uninstalling matplotlib-3.1.3:\n",
            "      Successfully uninstalled matplotlib-3.1.3\n",
            "\u001b[31mERROR: pip's dependency resolver does not currently take into account all the packages that are installed. This behaviour is the source of the following dependency conflicts.\n",
            "albumentations 0.1.12 requires imgaug<0.2.7,>=0.2.5, but you have imgaug 0.2.9 which is incompatible.\u001b[0m\n",
            "Successfully installed matplotlib-3.5.2\n"
          ]
        },
        {
          "output_type": "display_data",
          "data": {
            "application/vnd.colab-display-data+json": {
              "pip_warning": {
                "packages": [
                  "matplotlib",
                  "mpl_toolkits"
                ]
              }
            }
          },
          "metadata": {}
        },
        {
          "output_type": "stream",
          "name": "stdout",
          "text": [
            "Looking in indexes: https://pypi.org/simple, https://us-python.pkg.dev/colab-wheels/public/simple/\n",
            "Requirement already satisfied: pydicom in /usr/local/lib/python3.7/dist-packages (2.3.0)\n",
            "Looking in indexes: https://pypi.org/simple, https://us-python.pkg.dev/colab-wheels/public/simple/\n",
            "Requirement already satisfied: ipywidgets in /usr/local/lib/python3.7/dist-packages (7.7.0)\n",
            "Requirement already satisfied: jupyterlab-widgets>=1.0.0 in /usr/local/lib/python3.7/dist-packages (from ipywidgets) (1.1.0)\n",
            "Requirement already satisfied: widgetsnbextension~=3.6.0 in /usr/local/lib/python3.7/dist-packages (from ipywidgets) (3.6.0)\n",
            "Requirement already satisfied: ipython-genutils~=0.2.0 in /usr/local/lib/python3.7/dist-packages (from ipywidgets) (0.2.0)\n",
            "Requirement already satisfied: nbformat>=4.2.0 in /usr/local/lib/python3.7/dist-packages (from ipywidgets) (5.4.0)\n",
            "Requirement already satisfied: ipython>=4.0.0 in /usr/local/lib/python3.7/dist-packages (from ipywidgets) (5.5.0)\n",
            "Requirement already satisfied: ipykernel>=4.5.1 in /usr/local/lib/python3.7/dist-packages (from ipywidgets) (4.10.1)\n",
            "Requirement already satisfied: traitlets>=4.3.1 in /usr/local/lib/python3.7/dist-packages (from ipywidgets) (5.1.1)\n",
            "Requirement already satisfied: tornado>=4.0 in /usr/local/lib/python3.7/dist-packages (from ipykernel>=4.5.1->ipywidgets) (5.1.1)\n",
            "Requirement already satisfied: jupyter-client in /usr/local/lib/python3.7/dist-packages (from ipykernel>=4.5.1->ipywidgets) (5.3.5)\n",
            "Requirement already satisfied: prompt-toolkit<2.0.0,>=1.0.4 in /usr/local/lib/python3.7/dist-packages (from ipython>=4.0.0->ipywidgets) (1.0.18)\n",
            "Requirement already satisfied: setuptools>=18.5 in /usr/local/lib/python3.7/dist-packages (from ipython>=4.0.0->ipywidgets) (57.4.0)\n",
            "Requirement already satisfied: simplegeneric>0.8 in /usr/local/lib/python3.7/dist-packages (from ipython>=4.0.0->ipywidgets) (0.8.1)\n",
            "Requirement already satisfied: pexpect in /usr/local/lib/python3.7/dist-packages (from ipython>=4.0.0->ipywidgets) (4.8.0)\n",
            "Requirement already satisfied: decorator in /usr/local/lib/python3.7/dist-packages (from ipython>=4.0.0->ipywidgets) (4.4.2)\n",
            "Requirement already satisfied: pickleshare in /usr/local/lib/python3.7/dist-packages (from ipython>=4.0.0->ipywidgets) (0.7.5)\n",
            "Requirement already satisfied: pygments in /usr/local/lib/python3.7/dist-packages (from ipython>=4.0.0->ipywidgets) (2.6.1)\n",
            "Requirement already satisfied: jsonschema>=2.6 in /usr/local/lib/python3.7/dist-packages (from nbformat>=4.2.0->ipywidgets) (4.3.3)\n",
            "Requirement already satisfied: fastjsonschema in /usr/local/lib/python3.7/dist-packages (from nbformat>=4.2.0->ipywidgets) (2.15.3)\n",
            "Requirement already satisfied: jupyter-core in /usr/local/lib/python3.7/dist-packages (from nbformat>=4.2.0->ipywidgets) (4.10.0)\n",
            "Requirement already satisfied: importlib-metadata in /usr/local/lib/python3.7/dist-packages (from jsonschema>=2.6->nbformat>=4.2.0->ipywidgets) (4.11.4)\n",
            "Requirement already satisfied: pyrsistent!=0.17.0,!=0.17.1,!=0.17.2,>=0.14.0 in /usr/local/lib/python3.7/dist-packages (from jsonschema>=2.6->nbformat>=4.2.0->ipywidgets) (0.18.1)\n",
            "Requirement already satisfied: typing-extensions in /usr/local/lib/python3.7/dist-packages (from jsonschema>=2.6->nbformat>=4.2.0->ipywidgets) (4.2.0)\n",
            "Requirement already satisfied: importlib-resources>=1.4.0 in /usr/local/lib/python3.7/dist-packages (from jsonschema>=2.6->nbformat>=4.2.0->ipywidgets) (5.7.1)\n",
            "Requirement already satisfied: attrs>=17.4.0 in /usr/local/lib/python3.7/dist-packages (from jsonschema>=2.6->nbformat>=4.2.0->ipywidgets) (21.4.0)\n",
            "Requirement already satisfied: zipp>=3.1.0 in /usr/local/lib/python3.7/dist-packages (from importlib-resources>=1.4.0->jsonschema>=2.6->nbformat>=4.2.0->ipywidgets) (3.8.0)\n",
            "Requirement already satisfied: six>=1.9.0 in /usr/local/lib/python3.7/dist-packages (from prompt-toolkit<2.0.0,>=1.0.4->ipython>=4.0.0->ipywidgets) (1.15.0)\n",
            "Requirement already satisfied: wcwidth in /usr/local/lib/python3.7/dist-packages (from prompt-toolkit<2.0.0,>=1.0.4->ipython>=4.0.0->ipywidgets) (0.2.5)\n",
            "Requirement already satisfied: notebook>=4.4.1 in /usr/local/lib/python3.7/dist-packages (from widgetsnbextension~=3.6.0->ipywidgets) (5.3.1)\n",
            "Requirement already satisfied: nbconvert in /usr/local/lib/python3.7/dist-packages (from notebook>=4.4.1->widgetsnbextension~=3.6.0->ipywidgets) (5.6.1)\n",
            "Requirement already satisfied: Send2Trash in /usr/local/lib/python3.7/dist-packages (from notebook>=4.4.1->widgetsnbextension~=3.6.0->ipywidgets) (1.8.0)\n",
            "Requirement already satisfied: jinja2 in /usr/local/lib/python3.7/dist-packages (from notebook>=4.4.1->widgetsnbextension~=3.6.0->ipywidgets) (2.11.3)\n",
            "Requirement already satisfied: terminado>=0.8.1 in /usr/local/lib/python3.7/dist-packages (from notebook>=4.4.1->widgetsnbextension~=3.6.0->ipywidgets) (0.13.3)\n",
            "Requirement already satisfied: python-dateutil>=2.1 in /usr/local/lib/python3.7/dist-packages (from jupyter-client->ipykernel>=4.5.1->ipywidgets) (2.8.2)\n",
            "Requirement already satisfied: pyzmq>=13 in /usr/local/lib/python3.7/dist-packages (from jupyter-client->ipykernel>=4.5.1->ipywidgets) (23.0.0)\n",
            "Requirement already satisfied: ptyprocess in /usr/local/lib/python3.7/dist-packages (from terminado>=0.8.1->notebook>=4.4.1->widgetsnbextension~=3.6.0->ipywidgets) (0.7.0)\n",
            "Requirement already satisfied: MarkupSafe>=0.23 in /usr/local/lib/python3.7/dist-packages (from jinja2->notebook>=4.4.1->widgetsnbextension~=3.6.0->ipywidgets) (2.0.1)\n",
            "Requirement already satisfied: mistune<2,>=0.8.1 in /usr/local/lib/python3.7/dist-packages (from nbconvert->notebook>=4.4.1->widgetsnbextension~=3.6.0->ipywidgets) (0.8.4)\n",
            "Requirement already satisfied: bleach in /usr/local/lib/python3.7/dist-packages (from nbconvert->notebook>=4.4.1->widgetsnbextension~=3.6.0->ipywidgets) (5.0.0)\n",
            "Requirement already satisfied: pandocfilters>=1.4.1 in /usr/local/lib/python3.7/dist-packages (from nbconvert->notebook>=4.4.1->widgetsnbextension~=3.6.0->ipywidgets) (1.5.0)\n",
            "Requirement already satisfied: entrypoints>=0.2.2 in /usr/local/lib/python3.7/dist-packages (from nbconvert->notebook>=4.4.1->widgetsnbextension~=3.6.0->ipywidgets) (0.4)\n",
            "Requirement already satisfied: testpath in /usr/local/lib/python3.7/dist-packages (from nbconvert->notebook>=4.4.1->widgetsnbextension~=3.6.0->ipywidgets) (0.6.0)\n",
            "Requirement already satisfied: defusedxml in /usr/local/lib/python3.7/dist-packages (from nbconvert->notebook>=4.4.1->widgetsnbextension~=3.6.0->ipywidgets) (0.7.1)\n",
            "Requirement already satisfied: webencodings in /usr/local/lib/python3.7/dist-packages (from bleach->nbconvert->notebook>=4.4.1->widgetsnbextension~=3.6.0->ipywidgets) (0.5.1)\n"
          ]
        }
      ],
      "source": [
        "#pip install packages\n",
        "\n",
        "!pip install itk\n",
        "!pip install itkwidgets\n",
        "!pip install pydicom\n",
        "!pip install ipywidgets"
      ]
    },
    {
      "cell_type": "code",
      "execution_count": 2,
      "metadata": {
        "id": "uGHHQOixOEZq"
      },
      "outputs": [],
      "source": [
        "#import necessary packages\n",
        "\n",
        "import pathlib as Path\n",
        "import numpy as np\n",
        "import nibabel as nib\n",
        "import matplotlib.pyplot as plt\n",
        "%matplotlib inline\n",
        "import itk\n",
        "import itkwidgets\n",
        "from ipywidgets import interact, interactive, IntSlider, ToggleButtons\n",
        "import pandas as pd\n",
        "import torch\n",
        "import torch.nn as nn\n",
        "import torchvision.models\n",
        "from torchsummary import summary\n",
        "from torch.utils.data import DataLoader, Dataset\n",
        "import torchvision.transforms as transforms\n",
        "from torch.nn.utils.rnn import pad_sequence \n",
        "import torch.nn.functional as F\n",
        "import os\n",
        "import pydicom as dicom\n",
        "import matplotlib.patches as mpatches\n",
        "import matplotlib.animation as animation\n",
        "import matplotlib.image as img\n",
        "import zipfile\n",
        "import cv2\n",
        "from google.colab.patches import cv2_imshow\n",
        "from tqdm import tqdm\n",
        "import time\n",
        "from PIL import Image\n",
        "\n",
        "from sklearn.preprocessing import MinMaxScaler\n",
        "from sklearn.model_selection import train_test_split"
      ]
    },
    {
      "cell_type": "code",
      "execution_count": 3,
      "metadata": {
        "id": "luOLPwEejdSZ"
      },
      "outputs": [],
      "source": [
        "class config:\n",
        "  BATCH_SIZE = 20\n",
        "  INPUT_IMAGE_HEIGHT = 224\n",
        "  INPUT_IMAGE_WIDTH = 224\n",
        "  DEVICE = \"cuda\" if torch.cuda.is_available() else \"cpu\"\n",
        "  PIN_MEMORY = True if DEVICE == \"cuda\" else False\n",
        "  LEARNING_RATE = 3e-5\n",
        "  NUM_EPOCHS = 10\n",
        "  MODEL_PATH = \"/output/model.pth\"\n",
        "  PLOT_PATH = \"/output/plot.png\""
      ]
    },
    {
      "cell_type": "markdown",
      "metadata": {
        "id": "-UHlEyKmOxNR"
      },
      "source": [
        "## Download the dataset from google drive"
      ]
    },
    {
      "cell_type": "code",
      "execution_count": 4,
      "metadata": {
        "colab": {
          "base_uri": "https://localhost:8080/"
        },
        "id": "ELIidrIvOYPa",
        "outputId": "e445939d-be66-4a00-9255-fbc3856774a4"
      },
      "outputs": [
        {
          "output_type": "stream",
          "name": "stdout",
          "text": [
            "Drive already mounted at /content/drive; to attempt to forcibly remount, call drive.mount(\"/content/drive\", force_remount=True).\n"
          ]
        }
      ],
      "source": [
        "# mount the google drive\n",
        "from google.colab import drive\n",
        "drive.mount('/content/drive')"
      ]
    },
    {
      "cell_type": "code",
      "execution_count": 5,
      "metadata": {
        "colab": {
          "base_uri": "https://localhost:8080/"
        },
        "id": "xsbr9mWwOvW3",
        "outputId": "3fe6333c-fccf-46f0-d219-8bc544de126b"
      },
      "outputs": [
        {
          "output_type": "stream",
          "name": "stdout",
          "text": [
            "Archive:  /content/drive/MyDrive/lumbar_mid_sagittal.zip\n"
          ]
        }
      ],
      "source": [
        "#unzip the zip file\n",
        "!unzip -u \"/content/drive/MyDrive/lumbar_mid_sagittal.zip\" -d \"/content/drive/MyDrive/\""
      ]
    },
    {
      "cell_type": "code",
      "execution_count": 6,
      "metadata": {
        "colab": {
          "base_uri": "https://localhost:8080/"
        },
        "id": "YAnvvi8MSa4L",
        "outputId": "86e4af54-6848-4b87-b884-f528984db916"
      },
      "outputs": [
        {
          "output_type": "stream",
          "name": "stdout",
          "text": [
            "Total number of MRI scans: 514\n",
            "Total number of MRI labels: 514\n"
          ]
        }
      ],
      "source": [
        "#download the image and ground truth mask\n",
        "image_dir = '/content/drive/MyDrive/lumbar_mid_sagittal/Images/'\n",
        "label_dir = '/content/drive/MyDrive/lumbar_mid_sagittal/Pseudo_Colored_Ground_Truth_Images'\n",
        "\n",
        "#print out the number of images and labels\n",
        "print(f'Total number of MRI scans: {len(os.listdir(image_dir))}')\n",
        "print(f'Total number of MRI labels: {len(os.listdir(label_dir))}')"
      ]
    },
    {
      "cell_type": "code",
      "execution_count": 7,
      "metadata": {
        "colab": {
          "base_uri": "https://localhost:8080/"
        },
        "id": "Re4-XdMEWYgb",
        "outputId": "65f54a8b-fc71-4c7f-acc3-0304485769aa"
      },
      "outputs": [
        {
          "output_type": "stream",
          "name": "stdout",
          "text": [
            "['T1_0001_S8.png', 'T1_0002_S8.png', 'T1_0003_S8.png', 'T1_0004_S7.png', 'T1_0005_S8.png', 'T1_0006_S8.png', 'T1_0007_S8.png', 'T1_0008_S7.png', 'T1_0009_S7.png', 'T1_0010_S8.png', 'T1_0011_S8.png', 'T1_0012_S8.png', 'T1_0013_S8.png', 'T1_0014_S8.png', 'T1_0015_S8.png', 'T1_0016_S8.png', 'T1_0017_S8.png', 'T1_0019_S8.png', 'T1_0020_S15.png', 'T1_0021_S8.png', 'T1_0022_S8.png', 'T1_0023_S8.png', 'T1_0024_S7.png', 'T1_0025_S8.png', 'T1_0026_S8.png', 'T1_0027_S14.png', 'T1_0029_S7.png', 'T1_0030_S8.png', 'T1_0031_S8.png', 'T1_0032_S8.png', 'T1_0033_S8.png', 'T1_0034_S8.png', 'T1_0035_S8.png', 'T1_0036_S8.png', 'T1_0037_S7.png', 'T1_0038_S8.png', 'T1_0039_S8.png', 'T1_0040_S8.png', 'T1_0041_S8.png', 'T1_0042_S15.png', 'T1_0043_S8.png', 'T1_0044_S8.png', 'T1_0046_S8.png', 'T1_0047_S8.png', 'T1_0048_S8.png', 'T1_0050_S8.png', 'T1_0051_S8.png', 'T1_0052_S8.png', 'T1_0053_S8.png', 'T1_0055_S15.png', 'T1_0056_S8.png', 'T1_0057_S8.png', 'T1_0058_S8.png', 'T1_0060_S8.png', 'T1_0061_S8.png', 'T1_0062_S8.png', 'T1_0063_S8.png', 'T1_0064_S8.png', 'T1_0065_S15.png', 'T1_0067_S8.png', 'T1_0068_S8.png', 'T1_0069_S8.png', 'T1_0070_S8.png', 'T1_0071_S8.png', 'T1_0072_S8.png', 'T1_0073_S15.png', 'T1_0074_S7.png', 'T1_0075_S8.png', 'T1_0077_S15.png', 'T1_0078_S8.png', 'T1_0080_S8.png', 'T1_0081_S8.png', 'T1_0082_S8.png', 'T1_0083_S8.png', 'T1_0084_S10.png', 'T1_0085_S8.png', 'T1_0086_S8.png', 'T1_0087_S8.png', 'T1_0088_S7.png', 'T1_0089_S8.png', 'T1_0090_S8.png', 'T1_0091_S8.png', 'T1_0092_S8.png', 'T1_0093_S8.png', 'T1_0094_S7.png', 'T1_0095_S7.png', 'T1_0096_S7.png', 'T1_0097_S8.png', 'T1_0098_S8.png', 'T1_0099_S8.png', 'T1_0100_S8.png', 'T1_0101_S8.png', 'T1_0103_S8.png', 'T1_0104_S7.png', 'T1_0105_S8.png', 'T1_0106_S8.png', 'T1_0107_S15.png', 'T1_0108_S8.png', 'T1_0109_S8.png', 'T1_0112_S8.png', 'T1_0113_S8.png', 'T1_0114_S8.png', 'T1_0115_S8.png', 'T1_0117_S8.png', 'T1_0118_S8.png', 'T1_0119_S8.png', 'T1_0120_S8.png', 'T1_0121_S8.png', 'T1_0122_S8.png', 'T1_0123_S8.png', 'T1_0124_S7.png', 'T1_0125_S8.png', 'T1_0126_S8.png', 'T1_0127_S8.png', 'T1_0128_S8.png', 'T1_0129_S8.png', 'T1_0130_S8.png', 'T1_0131_S7.png', 'T1_0132_S8.png', 'T1_0133_S8.png', 'T1_0134_S8.png', 'T1_0136_S8.png', 'T1_0137_S8.png', 'T1_0138_S6.png', 'T1_0139_S8.png', 'T1_0140_S8.png', 'T1_0143_S8.png', 'T1_0144_S8.png', 'T1_0145_S8.png', 'T1_0146_S8.png', 'T1_0147_S8.png', 'T1_0148_S8.png', 'T1_0149_S8.png', 'T1_0150_S8.png', 'T1_0151_S8.png', 'T1_0152_S8.png', 'T1_0153_S8.png', 'T1_0154_S8.png', 'T1_0155_S8.png', 'T1_0156_S8.png', 'T1_0157_S8.png', 'T1_0158_S8.png', 'T1_0159_S15.png', 'T1_0160_S8.png', 'T1_0161_S15.png', 'T1_0162_S8.png', 'T1_0163_S8.png', 'T1_0164_S7.png', 'T1_0165_S8.png', 'T1_0166_S8.png', 'T1_0167_S8.png', 'T1_0168_S8.png', 'T1_0169_S8.png', 'T1_0170_S8.png', 'T1_0171_S8.png', 'T1_0172_S8.png', 'T1_0173_S7.png', 'T1_0174_S7.png', 'T1_0175_S8.png', 'T1_0176_S8.png', 'T1_0177_S8.png', 'T1_0178_S8.png', 'T1_0179_S8.png', 'T1_0180_S8.png', 'T1_0181_S8.png', 'T1_0183_S8.png', 'T1_0184_S8.png', 'T1_0185_S7.png', 'T1_0186_S8.png', 'T1_0187_S7.png', 'T1_0188_S8.png', 'T1_0190_S8.png', 'T1_0191_S8.png', 'T1_0192_S8.png', 'T1_0193_S8.png', 'T1_0194_S8.png', 'T1_0195_S8.png', 'T1_0196_S8.png', 'T1_0197_S8.png', 'T1_0198_S15.png', 'T1_0199_S8.png', 'T1_0200_S7.png', 'T1_0201_S8.png', 'T1_0202_S8.png', 'T1_0203_S8.png', 'T1_0204_S8.png', 'T1_0205_S8.png', 'T1_0207_S8.png', 'T1_0208_S8.png', 'T1_0209_S8.png', 'T1_0210_S8.png', 'T1_0211_S8.png', 'T1_0212_S8.png', 'T1_0213_S8.png', 'T1_0214_S8.png', 'T1_0215_S8.png', 'T1_0216_S8.png', 'T1_0217_S8.png', 'T1_0218_S8.png', 'T1_0219_S8.png', 'T1_0220_S7.png', 'T1_0221_S8.png', 'T1_0222_S8.png', 'T1_0223_S7.png', 'T1_0224_S8.png', 'T1_0226_S8.png', 'T1_0227_S8.png', 'T1_0228_S8.png', 'T1_0229_S8.png', 'T1_0230_S5.png', 'T1_0232_S8.png', 'T1_0233_S23.png', 'T1_0234_S8.png', 'T1_0235_S8.png', 'T1_0236_S8.png', 'T1_0239_S8.png', 'T1_0240_S8.png', 'T1_0241_S8.png', 'T1_0242_S8.png', 'T1_0243_S15.png', 'T1_0244_S7.png', 'T1_0245_S8.png', 'T1_0246_S14.png', 'T1_0247_S8.png', 'T1_0248_S8.png', 'T1_0249_S8.png', 'T1_0250_S8.png', 'T1_0251_S8.png', 'T1_0252_S8.png', 'T1_0253_S8.png', 'T1_0254_S8.png', 'T1_0255_S8.png', 'T1_0256_S8.png', 'T1_0257_S8.png', 'T1_0258_S8.png', 'T1_0259_S8.png', 'T1_0260_S8.png', 'T1_0261_S8.png', 'T1_0263_S8.png', 'T1_0264_S8.png', 'T1_0265_S8.png', 'T1_0266_S8.png', 'T1_0267_S8.png', 'T1_0268_S8.png', 'T1_0269_S8.png', 'T1_0270_S8.png', 'T1_0271_S8.png', 'T1_0272_S8.png', 'T1_0274_S8.png', 'T1_0275_S8.png', 'T1_0276_S8.png', 'T1_0277_S7.png', 'T1_0278_S8.png', 'T1_0279_S8.png', 'T1_0280_S8.png', 'T1_0281_S8.png', 'T1_0282_S8.png', 'T1_0283_S8.png', 'T1_0284_S8.png', 'T1_0285_S8.png', 'T1_0286_S8.png', 'T1_0287_S8.png', 'T1_0288_S8.png', 'T1_0290_S8.png', 'T1_0291_S8.png', 'T1_0292_S8.png', 'T1_0293_S8.png', 'T1_0294_S8.png', 'T1_0295_S8.png', 'T1_0296_S8.png', 'T1_0297_S8.png', 'T1_0298_S7.png', 'T1_0299_S7.png', 'T1_0300_S8.png', 'T1_0301_S8.png', 'T1_0303_S8.png', 'T1_0304_S8.png', 'T1_0305_S8.png', 'T1_0306_S8.png', 'T1_0307_S8.png', 'T1_0308_S8.png', 'T1_0309_S8.png', 'T1_0310_S8.png', 'T1_0311_S8.png', 'T1_0313_S8.png', 'T1_0314_S8.png', 'T1_0316_S8.png', 'T1_0317_S8.png', 'T1_0318_S8.png', 'T1_0319_S8.png', 'T1_0320_S8.png', 'T1_0322_S8.png', 'T1_0323_S7.png', 'T1_0324_S8.png', 'T1_0325_S8.png', 'T1_0326_S8.png', 'T1_0329_S8.png', 'T1_0331_S8.png', 'T1_0332_S8.png', 'T1_0333_S8.png', 'T1_0334_S8.png', 'T1_0335_S8.png', 'T1_0336_S7.png', 'T1_0337_S8.png', 'T1_0338_S8.png', 'T1_0339_S8.png', 'T1_0340_S8.png', 'T1_0341_S8.png', 'T1_0342_S8.png', 'T1_0343_S8.png', 'T1_0344_S8.png', 'T1_0345_S8.png', 'T1_0346_S8.png', 'T1_0347_S8.png', 'T1_0348_S8.png', 'T1_0349_S8.png', 'T1_0350_S8.png', 'T1_0351_S8.png', 'T1_0352_S8.png', 'T1_0353_S7.png', 'T1_0354_S8.png', 'T1_0355_S8.png', 'T1_0356_S7.png', 'T1_0357_S8.png', 'T1_0358_S8.png', 'T1_0359_S8.png', 'T1_0362_S8.png', 'T1_0363_S8.png', 'T1_0364_S8.png', 'T1_0365_S8.png', 'T1_0366_S8.png', 'T1_0367_S8.png', 'T1_0368_S8.png', 'T1_0370_S8.png', 'T1_0371_S8.png', 'T1_0372_S8.png', 'T1_0373_S8.png', 'T1_0375_S8.png', 'T1_0377_S8.png', 'T1_0378_S8.png', 'T1_0379_S8.png', 'T1_0380_S8.png', 'T1_0381_S8.png', 'T1_0382_S7.png', 'T1_0383_S8.png', 'T1_0384_S8.png', 'T1_0385_S8.png', 'T1_0386_S8.png', 'T1_0387_S8.png', 'T1_0388_S8.png', 'T1_0389_S8.png', 'T1_0390_S8.png', 'T1_0391_S8.png', 'T1_0392_S8.png', 'T1_0393_S8.png', 'T1_0394_S8.png', 'T1_0395_S9.png', 'T1_0396_S8.png', 'T1_0397_S8.png', 'T1_0399_S8.png', 'T1_0400_S8.png', 'T1_0401_S8.png', 'T1_0402_S8.png', 'T1_0403_S8.png', 'T1_0404_S8.png', 'T1_0405_S8.png', 'T1_0406_S8.png', 'T1_0407_S8.png', 'T1_0408_S8.png', 'T1_0409_S8.png', 'T1_0410_S8.png', 'T1_0411_S8.png', 'T1_0412_S8.png', 'T1_0413_S15.png', 'T1_0414_S8.png', 'T1_0415_S8.png', 'T1_0416_S8.png', 'T1_0417_S8.png', 'T1_0419_S8.png', 'T1_0420_S8.png', 'T1_0421_S8.png', 'T1_0422_S8.png', 'T1_0423_S7.png', 'T1_0424_S8.png', 'T1_0425_S8.png', 'T1_0426_S7.png', 'T1_0427_S8.png', 'T1_0428_S8.png', 'T1_0429_S8.png', 'T1_0430_S8.png', 'T1_0431_S8.png', 'T1_0432_S8.png', 'T1_0433_S8.png', 'T1_0434_S8.png', 'T1_0435_S8.png', 'T1_0436_S8.png', 'T1_0437_S8.png', 'T1_0438_S7.png', 'T1_0439_S8.png', 'T1_0441_S8.png', 'T1_0442_S8.png', 'T1_0443_S8.png', 'T1_0444_S8.png', 'T1_0445_S8.png', 'T1_0446_S8.png', 'T1_0447_S8.png', 'T1_0448_S8.png', 'T1_0449_S8.png', 'T1_0450_S8.png', 'T1_0451_S8.png', 'T1_0452_S8.png', 'T1_0453_S8.png', 'T1_0454_S8.png', 'T1_0455_S8.png', 'T1_0456_S7.png', 'T1_0457_S8.png', 'T1_0458_S8.png', 'T1_0459_S15.png', 'T1_0460_S8.png', 'T1_0461_S8.png', 'T1_0462_S8.png', 'T1_0464_S8.png', 'T1_0466_S8.png', 'T1_0467_S8.png', 'T1_0468_S8.png', 'T1_0469_S8.png', 'T1_0470_S8.png', 'T1_0471_S8.png', 'T1_0472_S8.png', 'T1_0473_S8.png', 'T1_0474_S8.png', 'T1_0475_S8.png', 'T1_0476_S8.png', 'T1_0477_S8.png', 'T1_0479_S8.png', 'T1_0482_S8.png', 'T1_0484_S8.png', 'T1_0486_S8.png', 'T1_0487_S15.png', 'T1_0488_S8.png', 'T1_0492_S8.png', 'T1_0493_S8.png', 'T1_0494_S8.png', 'T1_0495_S8.png', 'T1_0496_S8.png', 'T1_0497_S8.png', 'T1_0499_S8.png', 'T1_0500_S8.png', 'T1_0501_S8.png', 'T1_0502_S8.png', 'T1_0503_S8.png', 'T1_0504_S8.png', 'T1_0505_S8.png', 'T1_0506_S8.png', 'T1_0507_S8.png', 'T1_0508_S8.png', 'T1_0509_S8.png', 'T1_0510_S8.png', 'T1_0512_S8.png', 'T1_0514_S8.png', 'T1_0515_S8.png', 'T1_0516_S8.png', 'T1_0517_S8.png', 'T1_0518_S8.png', 'T1_0519_S15.png', 'T1_0520_S8.png', 'T1_0521_S8.png', 'T1_0522_S8.png', 'T1_0523_S8.png', 'T1_0524_S8.png', 'T1_0525_S7.png', 'T1_0526_S8.png', 'T1_0527_S8.png', 'T1_0528_S8.png', 'T1_0529_S8.png', 'T1_0531_S8.png', 'T1_0532_S8.png', 'T1_0533_S8.png', 'T1_0534_S8.png', 'T1_0536_S8.png', 'T1_0537_S8.png', 'T1_0538_S8.png', 'T1_0539_S8.png', 'T1_0540_S8.png', 'T1_0541_S7.png', 'T1_0542_S8.png', 'T1_0543_S8.png', 'T1_0545_S8.png', 'T1_0546_S8.png', 'T1_0547_S8.png', 'T1_0548_S8.png', 'T1_0549_S8.png', 'T1_0550_S8.png', 'T1_0551_S8.png', 'T1_0552_S8.png', 'T1_0555_S15.png', 'T1_0556_S8.png', 'T1_0557_S8.png', 'T1_0558_S8.png', 'T1_0559_S8.png', 'T1_0560_S8.png', 'T1_0561_S7.png', 'T1_0562_S8.png', 'T1_0563_S8.png', 'T1_0564_S8.png', 'T1_0565_S8.png', 'T1_0567_S7.png', 'T1_0568_S8.png', 'T1_0569_S8.png', 'T1_0570_S7.png', 'T1_0571_S9.png', 'T1_0572_S8.png', 'T1_0573_S8.png', 'T1_0575_S8.png']\n"
          ]
        }
      ],
      "source": [
        "DIR_SIZE = len(os.listdir(image_dir))\n",
        "print(sorted(os.listdir(image_dir)))"
      ]
    },
    {
      "cell_type": "markdown",
      "metadata": {
        "id": "Lhfs6hawURbo"
      },
      "source": [
        "## Visualize an example image and label\n",
        "\n"
      ]
    },
    {
      "cell_type": "code",
      "execution_count": 8,
      "metadata": {
        "id": "bSVL6-7jUu2c"
      },
      "outputs": [],
      "source": [
        "#parameters: img_dir -> string that specifies where the images are stored at; label_dir -> similar\n",
        "\n",
        "def view_img_label(img_dir, label_dir):\n",
        "  dir_size = DIR_SIZE\n",
        "  #rand_int = np.random.randint(0, dir_size-1)\n",
        "  rand_int=0\n",
        "  ex_img_dir = os.path.join(image_dir, sorted(os.listdir(image_dir))[rand_int])\n",
        "  print(ex_img_dir)\n",
        "  ex_img = cv2.imread(ex_img_dir)\n",
        "  ex_label_dir = os.path.join(label_dir, sorted(os.listdir(label_dir))[rand_int])\n",
        "  print(ex_label_dir)\n",
        "  ex_label = cv2.imread(ex_label_dir)\n",
        "\n",
        "  #cv2_imshow(ex_img)\n",
        "  #cv2_imshow(ex_label)\n",
        "  return ex_img, ex_label, ex_img_dir, ex_label_dir"
      ]
    },
    {
      "cell_type": "code",
      "execution_count": 9,
      "metadata": {
        "colab": {
          "base_uri": "https://localhost:8080/",
          "height": 901
        },
        "id": "Gvbs8eN-TFJY",
        "outputId": "1e15a026-2ff8-46de-fa7a-2990e4ccf4b7"
      },
      "outputs": [
        {
          "output_type": "stream",
          "name": "stdout",
          "text": [
            "Looking in indexes: https://pypi.org/simple, https://us-python.pkg.dev/colab-wheels/public/simple/\n",
            "Collecting matplotlib==3.1.3\n",
            "  Using cached matplotlib-3.1.3-cp37-cp37m-manylinux1_x86_64.whl (13.1 MB)\n",
            "Requirement already satisfied: cycler>=0.10 in /usr/local/lib/python3.7/dist-packages (from matplotlib==3.1.3) (0.11.0)\n",
            "Requirement already satisfied: numpy>=1.11 in /usr/local/lib/python3.7/dist-packages (from matplotlib==3.1.3) (1.21.6)\n",
            "Requirement already satisfied: pyparsing!=2.0.4,!=2.1.2,!=2.1.6,>=2.0.1 in /usr/local/lib/python3.7/dist-packages (from matplotlib==3.1.3) (3.0.9)\n",
            "Requirement already satisfied: python-dateutil>=2.1 in /usr/local/lib/python3.7/dist-packages (from matplotlib==3.1.3) (2.8.2)\n",
            "Requirement already satisfied: kiwisolver>=1.0.1 in /usr/local/lib/python3.7/dist-packages (from matplotlib==3.1.3) (1.4.2)\n",
            "Requirement already satisfied: typing-extensions in /usr/local/lib/python3.7/dist-packages (from kiwisolver>=1.0.1->matplotlib==3.1.3) (4.2.0)\n",
            "Requirement already satisfied: six>=1.5 in /usr/local/lib/python3.7/dist-packages (from python-dateutil>=2.1->matplotlib==3.1.3) (1.15.0)\n",
            "Installing collected packages: matplotlib\n",
            "  Attempting uninstall: matplotlib\n",
            "    Found existing installation: matplotlib 3.5.2\n",
            "    Uninstalling matplotlib-3.5.2:\n",
            "      Successfully uninstalled matplotlib-3.5.2\n",
            "\u001b[31mERROR: pip's dependency resolver does not currently take into account all the packages that are installed. This behaviour is the source of the following dependency conflicts.\n",
            "ipympl 0.9.1 requires matplotlib<4,>=3.4.0, but you have matplotlib 3.1.3 which is incompatible.\n",
            "albumentations 0.1.12 requires imgaug<0.2.7,>=0.2.5, but you have imgaug 0.2.9 which is incompatible.\u001b[0m\n",
            "Successfully installed matplotlib-3.1.3\n"
          ]
        },
        {
          "output_type": "display_data",
          "data": {
            "application/vnd.colab-display-data+json": {
              "pip_warning": {
                "packages": [
                  "matplotlib",
                  "mpl_toolkits"
                ]
              }
            }
          },
          "metadata": {}
        },
        {
          "output_type": "stream",
          "name": "stdout",
          "text": [
            "/content/drive/MyDrive/lumbar_mid_sagittal/Images/T1_0001_S8.png\n",
            "/content/drive/MyDrive/lumbar_mid_sagittal/Pseudo_Colored_Ground_Truth_Images/T1_0001_S8.png\n",
            "image shape: (320, 320, 3)\n",
            "label shape: (320, 320, 3)\n"
          ]
        },
        {
          "output_type": "display_data",
          "data": {
            "text/plain": [
              "<Figure size 720x720 with 2 Axes>"
            ],
            "image/png": "[encoded data removed]"
          },
          "metadata": {
            "needs_background": "light"
          }
        }
      ],
      "source": [
        "!pip install matplotlib==3.1.3\n",
        "ex_img, ex_label, ex_img_dir, ex_label_dir = view_img_label(image_dir, label_dir)\n",
        "print(f'image shape: {ex_img.shape}')\n",
        "print(f'label shape: {ex_label.shape}')\n",
        "#print(ex_img)\n",
        "figure, ax = plt.subplots(nrows=1, ncols=2, figsize=(10, 10))\n",
        "# plot the original image, its mask, and the predicted mask\n",
        "ax[0].imshow(ex_img)\n",
        "ax[1].imshow(ex_label)\n",
        "\n",
        "# set the titles of the subplots\n",
        "ax[0].set_title(\"Image\")\n",
        "ax[1].set_title(\"Original Mask\")\n",
        "ax[0].grid(True)\n",
        "ax[1].grid(True)\n",
        "\n",
        "# set the layout of the figure and display it\n",
        "figure.tight_layout()\n",
        "figure.show()"
      ]
    },
    {
      "cell_type": "code",
      "execution_count": 10,
      "metadata": {
        "colab": {
          "base_uri": "https://localhost:8080/"
        },
        "id": "yGlQGjwgZcmZ",
        "outputId": "9f1ae746-3118-458a-a11e-7cfc209f9af7"
      },
      "outputs": [
        {
          "output_type": "stream",
          "name": "stdout",
          "text": [
            "[[[ 7  7  7]\n",
            "  [ 5  5  5]\n",
            "  [ 4  4  4]\n",
            "  ...\n",
            "  [ 0  0  0]\n",
            "  [ 0  0  0]\n",
            "  [ 0  0  0]]\n",
            "\n",
            " [[ 9  9  9]\n",
            "  [ 1  1  1]\n",
            "  [ 0  0  0]\n",
            "  ...\n",
            "  [ 0  0  0]\n",
            "  [ 0  0  0]\n",
            "  [ 0  0  0]]\n",
            "\n",
            " [[16 16 16]\n",
            "  [32 32 32]\n",
            "  [37 37 37]\n",
            "  ...\n",
            "  [ 0  0  0]\n",
            "  [ 0  0  0]\n",
            "  [ 0  0  0]]\n",
            "\n",
            " ...\n",
            "\n",
            " [[ 2  2  2]\n",
            "  [ 8  8  8]\n",
            "  [ 9  9  9]\n",
            "  ...\n",
            "  [ 0  0  0]\n",
            "  [ 0  0  0]\n",
            "  [ 0  0  0]]\n",
            "\n",
            " [[ 1  1  1]\n",
            "  [ 2  2  2]\n",
            "  [ 1  1  1]\n",
            "  ...\n",
            "  [ 0  0  0]\n",
            "  [ 0  0  0]\n",
            "  [ 0  0  0]]\n",
            "\n",
            " [[ 2  2  2]\n",
            "  [ 2  2  2]\n",
            "  [ 2  2  2]\n",
            "  ...\n",
            "  [ 0  0  0]\n",
            "  [ 0  0  0]\n",
            "  [ 0  0  0]]]\n"
          ]
        }
      ],
      "source": [
        "print(ex_img)"
      ]
    },
    {
      "cell_type": "markdown",
      "metadata": {
        "id": "axIj-o8HwvIl"
      },
      "source": [
        "## Data formatting\n",
        "- mask shape: [height x width] and contain class indices for each pixel location in the range (0, nb_classes=7)"
      ]
    },
    {
      "cell_type": "code",
      "execution_count": 11,
      "metadata": {
        "colab": {
          "base_uri": "https://localhost:8080/"
        },
        "id": "nIghD_AVxQU7",
        "outputId": "55d9ba18-331f-4d96-d13b-770a4a435cc3"
      },
      "outputs": [
        {
          "output_type": "stream",
          "name": "stdout",
          "text": [
            "[  0 255]\n",
            "320\n",
            "[0 0 0]\n",
            "[[0, 255, 255], [255, 255, 0], [0, 0, 255], [255, 0, 0], [255, 0, 255], [0, 0, 0], [0, 255, 0]]\n"
          ]
        }
      ],
      "source": [
        "#TODO: print out all the unique color labels\n",
        "\n",
        "#flatten out the image -> [[R,G,B]*(width*height)]\n",
        "print(np.unique(ex_label))\n",
        "print(ex_label.shape[0])\n",
        "print(ex_label[3,3])\n",
        "\n",
        "def flatten_img(img):\n",
        "  width = img.shape[0]\n",
        "  height = img.shape[1]\n",
        "\n",
        "  temp = []\n",
        "\n",
        "  for w in range(width):\n",
        "    for h in range(height):\n",
        "      temp.append(img[w, h])\n",
        "  return temp\n",
        "\n",
        "ex_label_flatten = flatten_img(ex_label)\n",
        "\n",
        "unique_data = [list(x) for x in set(tuple(x) for x in ex_label_flatten)]\n",
        "print(unique_data)\n",
        "\n",
        "#[[0, 255, 255], [255, 255, 0], [0, 0, 255], [255, 0, 0], [255, 0, 255], [0, 0, 0], [0, 255, 0]]"
      ]
    },
    {
      "cell_type": "code",
      "execution_count": 12,
      "metadata": {
        "colab": {
          "base_uri": "https://localhost:8080/"
        },
        "id": "u7OpV_p9w7r8",
        "outputId": "1c1b64bb-bb1d-4573-9aba-fcda29a8aa78"
      },
      "outputs": [
        {
          "output_type": "stream",
          "name": "stdout",
          "text": [
            "[[0. 0. 0. ... 0. 0. 0.]\n",
            " [0. 0. 0. ... 0. 0. 0.]\n",
            " [0. 0. 0. ... 0. 0. 0.]\n",
            " ...\n",
            " [0. 0. 0. ... 0. 0. 0.]\n",
            " [0. 0. 0. ... 0. 0. 0.]\n",
            " [0. 0. 0. ... 0. 0. 0.]]\n",
            "[0. 1. 2. 3. 4. 5. 6.]\n",
            "0.0\n",
            "Percentage of background: 94.216796875%\n"
          ]
        }
      ],
      "source": [
        "#given an color-coded mask, format in such that each pixel location in the range contains an integer from 0 to 7\n",
        "colorToClass = {\n",
        "    (0, 0, 0) : 'background',\n",
        "    (255, 255, 0) : 'L1',\n",
        "    (255, 0, 0) : 'L2',\n",
        "    (0, 255, 0) : 'L3',\n",
        "    (0, 255, 255) : 'L4',\n",
        "    (0, 0, 255) : 'L5',\n",
        "    (255, 0, 255) : 'S1'\n",
        "}\n",
        "\n",
        "classToInt = {\n",
        "    'background': 0,\n",
        "    'L1': 1,\n",
        "    'L2': 2,\n",
        "    'L3': 3,\n",
        "    'L4': 4,\n",
        "    'L5': 5,\n",
        "    'S1': 6\n",
        "}\n",
        "\n",
        "IntToColor = {\n",
        "    0: (0, 0, 0),\n",
        "    1: (255, 255, 0),\n",
        "    2: (255, 0, 0),\n",
        "    3: (0, 255, 0),\n",
        "    4: (0, 255, 255),\n",
        "    5: (0, 0, 255),\n",
        "    6: (255, 0, 255)\n",
        "}\n",
        "\n",
        "def RGBtoInt(label_img):\n",
        "  temp = np.zeros((label_img.shape[0], label_img.shape[1]))\n",
        "  for i in range(label_img.shape[0]):\n",
        "    for j in range(label_img.shape[1]):\n",
        "      temp[i, j] = int(classToInt.get(colorToClass.get(tuple(label_img[i, j]))))\n",
        "  return temp\n",
        "\n",
        "#test RGBtoInt function\n",
        "#print(ex_label)\n",
        "test_label_Int = RGBtoInt(ex_label)\n",
        "print(test_label_Int)\n",
        "print(np.unique(test_label_Int))\n",
        "#print(torch.FloatTensor(test_label_Int[100]))\n",
        "print(test_label_Int[0,0])\n",
        "non_background = 0\n",
        "for i in range(test_label_Int.shape[0]):\n",
        "  for j in range(test_label_Int.shape[1]):\n",
        "    if int(test_label_Int[i,j]) == 0:\n",
        "      non_background += 1\n",
        "\n",
        "total_pixels = test_label_Int.shape[0] * test_label_Int.shape[1]\n",
        "print(f'Percentage of background: {non_background/total_pixels*100}%')\n"
      ]
    },
    {
      "cell_type": "markdown",
      "metadata": {
        "id": "Tr31UMBmSTpN"
      },
      "source": [
        "## Resize to (config.HEIGHT, config.WIDTH)\n"
      ]
    },
    {
      "cell_type": "code",
      "execution_count": 13,
      "metadata": {
        "id": "gNf0DbJ7Sa39"
      },
      "outputs": [],
      "source": [
        "def resize_img(img, img_stack=1):\n",
        "  width = config.INPUT_IMAGE_WIDTH #224\n",
        "  height = config.INPUT_IMAGE_HEIGHT #224\n",
        "  img_stack_sm = np.zeros((width, height, img_stack)) #empty list of (3, 224, 224)\n",
        "\n",
        "  if img_stack==1:\n",
        "    img_stack_sm = cv2.resize(img, (width, height), interpolation=cv2.INTER_NEAREST)\n",
        "  else:\n",
        "    for idx in range(img_stack):\n",
        "      img2 = img[:, :, idx]\n",
        "      #print(img2.shape)\n",
        "      img_sm = cv2.resize(img2, (width, height), interpolation=cv2.INTER_NEAREST)\n",
        "      #print(img_sm.shape)\n",
        "      img_stack_sm[:, :, idx] = img_sm\n",
        "  return img_stack_sm\n",
        "\n",
        "#print(ex_img)\n",
        "test_resize_img= resize_img(ex_img, 3)\n",
        "#print(test_resize_img)\n",
        "#print(np.unique(test_resize_img))"
      ]
    },
    {
      "cell_type": "markdown",
      "metadata": {
        "id": "51pdp85jdX1x"
      },
      "source": [
        "## Load all data into SpineData"
      ]
    },
    {
      "cell_type": "code",
      "execution_count": 14,
      "metadata": {
        "id": "mbZxyYgZVE2j"
      },
      "outputs": [],
      "source": [
        "class spineData(Dataset):\n",
        "  def __init__(self, path, label_path, transform):\n",
        "    self.files = sorted(os.listdir(path))\n",
        "    self.labels = sorted(os.listdir(label_path))\n",
        "    self.transform = transform\n",
        "    self.path = path\n",
        "    self.labelpath = label_path\n",
        "\n",
        "  def __len__(self):\n",
        "    return len(self.files)\n",
        "\n",
        "  def __getitem__(self, index):\n",
        "    filename = os.path.join(self.path, self.files[index])\n",
        "    #print(filename)\n",
        "    tensor_image = cv2.imread(filename)\n",
        "    tensor_image = cv2.resize(tensor_image, (config.INPUT_IMAGE_WIDTH, config.INPUT_IMAGE_HEIGHT))\n",
        "    #print('img: ',image)\n",
        "    #tensor_image = resize_img(image, 3)\n",
        "    tensor_image = torch.Tensor(tensor_image/255)\n",
        "    #plt.imshow(tensor_image)\n",
        "    tensor_image = torch.permute(tensor_image, (2,0,1))\n",
        "    #tensor_image = F.interpolate(tensor_image, size=(3, 224, 224), mode='bicubic', align_corners=False)\n",
        "\n",
        "    label_filename = os.path.join(self.labelpath, self.labels[index])\n",
        "    label = cv2.imread(label_filename)\n",
        "    label = resize_img(RGBtoInt(label))\n",
        "    #tensor_label = self.transform(label)\n",
        "    tensor_label = torch.LongTensor(label)\n",
        "    #tensor_label = F.interpolate(tensor_label, size=(224, 224), mode='bicubic', align_corners=False)\n",
        "\n",
        "    return tensor_image, tensor_label"
      ]
    },
    {
      "cell_type": "code",
      "execution_count": 15,
      "metadata": {
        "id": "O1hgj4RPfwgj"
      },
      "outputs": [],
      "source": [
        "transform = transforms.ToTensor()\n",
        "# define transformations\n",
        "# transform = transforms.Compose([transforms.ToPILImage(),\n",
        "#  \ttransforms.Resize((config.INPUT_IMAGE_HEIGHT,\n",
        "# \t\tconfig.INPUT_IMAGE_WIDTH)),\n",
        "# \ttransforms.ToTensor()])\n",
        "spine_dataset = spineData(image_dir, label_dir, transform)"
      ]
    },
    {
      "cell_type": "code",
      "execution_count": 16,
      "metadata": {
        "colab": {
          "base_uri": "https://localhost:8080/"
        },
        "id": "d1Gd84VVgJpQ",
        "outputId": "1575dcec-d9d4-47dd-f571-bb449d310ee4"
      },
      "outputs": [
        {
          "output_type": "stream",
          "name": "stdout",
          "text": [
            "[0 1 2 3 4 5 6]\n",
            "torch.Size([3, 224, 224])\n",
            "torch.Size([224, 224])\n",
            "514\n"
          ]
        }
      ],
      "source": [
        "#plt.imshow(spine_dataset[0][0])\n",
        "\n",
        "print(np.unique(spine_dataset[0][1])) #resize with keeping new labels\n",
        "print(spine_dataset[0][0].shape)\n",
        "print(spine_dataset[0][1].shape)\n",
        "print(len(spine_dataset))"
      ]
    },
    {
      "cell_type": "markdown",
      "metadata": {
        "id": "phREJNLPjLwq"
      },
      "source": [
        "## Make train and val datasets, dataloaders"
      ]
    },
    {
      "cell_type": "code",
      "execution_count": 17,
      "metadata": {
        "colab": {
          "base_uri": "https://localhost:8080/"
        },
        "id": "djMlEPZIgOYM",
        "outputId": "246458a9-b31e-4d07-816f-936b34374b7c"
      },
      "outputs": [
        {
          "output_type": "stream",
          "name": "stdout",
          "text": [
            "total size: 514\n",
            "train size: 462\n",
            "validation size: 52\n",
            "462\n",
            "torch.Size([224, 224])\n"
          ]
        }
      ],
      "source": [
        "print(f'total size: {len(spine_dataset)}')\n",
        "train_size = int(0.9 * len(spine_dataset))\n",
        "val_size = len(spine_dataset) - train_size\n",
        "print(f'train size: {train_size}\\nvalidation size: {val_size}')\n",
        "train, val = torch.utils.data.random_split(spine_dataset, [train_size, val_size])\n",
        "print(len(train))\n",
        "print(val[0][1].shape)"
      ]
    },
    {
      "cell_type": "code",
      "execution_count": 18,
      "metadata": {
        "colab": {
          "base_uri": "https://localhost:8080/"
        },
        "id": "DYjytNPSirrN",
        "outputId": "4e014af4-2326-4844-9806-bc86aca76765"
      },
      "outputs": [
        {
          "output_type": "stream",
          "name": "stdout",
          "text": [
            "train_x = shape: torch.Size([20, 3, 224, 224]); type: torch.float32\n",
            "train_x = min: 0.0; max: 0.9960784316062927\n",
            "val_x = shape: torch.Size([20, 3, 224, 224])\n",
            "val_y = shape: torch.Size([20, 224, 224])\n",
            "24\n",
            "3\n"
          ]
        }
      ],
      "source": [
        "train_dataloader = DataLoader(train, shuffle=True,\n",
        "\tbatch_size=config.BATCH_SIZE, pin_memory=config.PIN_MEMORY,\n",
        "\tnum_workers=os.cpu_count())\n",
        "\n",
        "train_x, train_y = next(iter(train_dataloader))\n",
        "\n",
        "print(f'train_x = shape: {train_x.shape}; type: {train_x.dtype}')\n",
        "print(f'train_x = min: {train_x.min()}; max: {train_x.max()}')\n",
        "#print(f'train_y = shape: {train_y.shape}; class: {train_y.unique()}; type: {train_y.dtype}')\n",
        "\n",
        "val_dataloader = DataLoader(val, shuffle=False,\n",
        "\tbatch_size=config.BATCH_SIZE, pin_memory=config.PIN_MEMORY,\n",
        "\tnum_workers=os.cpu_count())\n",
        "\n",
        "val_x, val_y = next(iter(val_dataloader))\n",
        "print(f'val_x = shape: {val_x.shape}')\n",
        "print(f'val_y = shape: {val_y.shape}')\n",
        "\n",
        "dataloaders = {\n",
        "  'train': train_dataloader,\n",
        "  'val': val_dataloader\n",
        "}\n",
        "\n",
        "print(len(train_dataloader))\n",
        "print(len(val_dataloader))"
      ]
    },
    {
      "cell_type": "markdown",
      "metadata": {
        "id": "agqFgpntkXCY"
      },
      "source": [
        "## 2D U-Net Architecture"
      ]
    },
    {
      "cell_type": "code",
      "execution_count": 19,
      "metadata": {
        "colab": {
          "base_uri": "https://localhost:8080/"
        },
        "id": "Avm1pvijlx8G",
        "outputId": "be896888-bf6f-4b97-c6c7-44d4cdb15542"
      },
      "outputs": [
        {
          "output_type": "execute_result",
          "data": {
            "text/plain": [
              "DeepLabV3(\n",
              "  (backbone): IntermediateLayerGetter(\n",
              "    (conv1): Conv2d(3, 64, kernel_size=(7, 7), stride=(2, 2), padding=(3, 3), bias=False)\n",
              "    (bn1): BatchNorm2d(64, eps=1e-05, momentum=0.1, affine=True, track_running_stats=True)\n",
              "    (relu): ReLU(inplace=True)\n",
              "    (maxpool): MaxPool2d(kernel_size=3, stride=2, padding=1, dilation=1, ceil_mode=False)\n",
              "    (layer1): Sequential(\n",
              "      (0): Bottleneck(\n",
              "        (conv1): Conv2d(64, 64, kernel_size=(1, 1), stride=(1, 1), bias=False)\n",
              "        (bn1): BatchNorm2d(64, eps=1e-05, momentum=0.1, affine=True, track_running_stats=True)\n",
              "        (conv2): Conv2d(64, 64, kernel_size=(3, 3), stride=(1, 1), padding=(1, 1), bias=False)\n",
              "        (bn2): BatchNorm2d(64, eps=1e-05, momentum=0.1, affine=True, track_running_stats=True)\n",
              "        (conv3): Conv2d(64, 256, kernel_size=(1, 1), stride=(1, 1), bias=False)\n",
              "        (bn3): BatchNorm2d(256, eps=1e-05, momentum=0.1, affine=True, track_running_stats=True)\n",
              "        (relu): ReLU(inplace=True)\n",
              "        (downsample): Sequential(\n",
              "          (0): Conv2d(64, 256, kernel_size=(1, 1), stride=(1, 1), bias=False)\n",
              "          (1): BatchNorm2d(256, eps=1e-05, momentum=0.1, affine=True, track_running_stats=True)\n",
              "        )\n",
              "      )\n",
              "      (1): Bottleneck(\n",
              "        (conv1): Conv2d(256, 64, kernel_size=(1, 1), stride=(1, 1), bias=False)\n",
              "        (bn1): BatchNorm2d(64, eps=1e-05, momentum=0.1, affine=True, track_running_stats=True)\n",
              "        (conv2): Conv2d(64, 64, kernel_size=(3, 3), stride=(1, 1), padding=(1, 1), bias=False)\n",
              "        (bn2): BatchNorm2d(64, eps=1e-05, momentum=0.1, affine=True, track_running_stats=True)\n",
              "        (conv3): Conv2d(64, 256, kernel_size=(1, 1), stride=(1, 1), bias=False)\n",
              "        (bn3): BatchNorm2d(256, eps=1e-05, momentum=0.1, affine=True, track_running_stats=True)\n",
              "        (relu): ReLU(inplace=True)\n",
              "      )\n",
              "      (2): Bottleneck(\n",
              "        (conv1): Conv2d(256, 64, kernel_size=(1, 1), stride=(1, 1), bias=False)\n",
              "        (bn1): BatchNorm2d(64, eps=1e-05, momentum=0.1, affine=True, track_running_stats=True)\n",
              "        (conv2): Conv2d(64, 64, kernel_size=(3, 3), stride=(1, 1), padding=(1, 1), bias=False)\n",
              "        (bn2): BatchNorm2d(64, eps=1e-05, momentum=0.1, affine=True, track_running_stats=True)\n",
              "        (conv3): Conv2d(64, 256, kernel_size=(1, 1), stride=(1, 1), bias=False)\n",
              "        (bn3): BatchNorm2d(256, eps=1e-05, momentum=0.1, affine=True, track_running_stats=True)\n",
              "        (relu): ReLU(inplace=True)\n",
              "      )\n",
              "    )\n",
              "    (layer2): Sequential(\n",
              "      (0): Bottleneck(\n",
              "        (conv1): Conv2d(256, 128, kernel_size=(1, 1), stride=(1, 1), bias=False)\n",
              "        (bn1): BatchNorm2d(128, eps=1e-05, momentum=0.1, affine=True, track_running_stats=True)\n",
              "        (conv2): Conv2d(128, 128, kernel_size=(3, 3), stride=(2, 2), padding=(1, 1), bias=False)\n",
              "        (bn2): BatchNorm2d(128, eps=1e-05, momentum=0.1, affine=True, track_running_stats=True)\n",
              "        (conv3): Conv2d(128, 512, kernel_size=(1, 1), stride=(1, 1), bias=False)\n",
              "        (bn3): BatchNorm2d(512, eps=1e-05, momentum=0.1, affine=True, track_running_stats=True)\n",
              "        (relu): ReLU(inplace=True)\n",
              "        (downsample): Sequential(\n",
              "          (0): Conv2d(256, 512, kernel_size=(1, 1), stride=(2, 2), bias=False)\n",
              "          (1): BatchNorm2d(512, eps=1e-05, momentum=0.1, affine=True, track_running_stats=True)\n",
              "        )\n",
              "      )\n",
              "      (1): Bottleneck(\n",
              "        (conv1): Conv2d(512, 128, kernel_size=(1, 1), stride=(1, 1), bias=False)\n",
              "        (bn1): BatchNorm2d(128, eps=1e-05, momentum=0.1, affine=True, track_running_stats=True)\n",
              "        (conv2): Conv2d(128, 128, kernel_size=(3, 3), stride=(1, 1), padding=(1, 1), bias=False)\n",
              "        (bn2): BatchNorm2d(128, eps=1e-05, momentum=0.1, affine=True, track_running_stats=True)\n",
              "        (conv3): Conv2d(128, 512, kernel_size=(1, 1), stride=(1, 1), bias=False)\n",
              "        (bn3): BatchNorm2d(512, eps=1e-05, momentum=0.1, affine=True, track_running_stats=True)\n",
              "        (relu): ReLU(inplace=True)\n",
              "      )\n",
              "      (2): Bottleneck(\n",
              "        (conv1): Conv2d(512, 128, kernel_size=(1, 1), stride=(1, 1), bias=False)\n",
              "        (bn1): BatchNorm2d(128, eps=1e-05, momentum=0.1, affine=True, track_running_stats=True)\n",
              "        (conv2): Conv2d(128, 128, kernel_size=(3, 3), stride=(1, 1), padding=(1, 1), bias=False)\n",
              "        (bn2): BatchNorm2d(128, eps=1e-05, momentum=0.1, affine=True, track_running_stats=True)\n",
              "        (conv3): Conv2d(128, 512, kernel_size=(1, 1), stride=(1, 1), bias=False)\n",
              "        (bn3): BatchNorm2d(512, eps=1e-05, momentum=0.1, affine=True, track_running_stats=True)\n",
              "        (relu): ReLU(inplace=True)\n",
              "      )\n",
              "      (3): Bottleneck(\n",
              "        (conv1): Conv2d(512, 128, kernel_size=(1, 1), stride=(1, 1), bias=False)\n",
              "        (bn1): BatchNorm2d(128, eps=1e-05, momentum=0.1, affine=True, track_running_stats=True)\n",
              "        (conv2): Conv2d(128, 128, kernel_size=(3, 3), stride=(1, 1), padding=(1, 1), bias=False)\n",
              "        (bn2): BatchNorm2d(128, eps=1e-05, momentum=0.1, affine=True, track_running_stats=True)\n",
              "        (conv3): Conv2d(128, 512, kernel_size=(1, 1), stride=(1, 1), bias=False)\n",
              "        (bn3): BatchNorm2d(512, eps=1e-05, momentum=0.1, affine=True, track_running_stats=True)\n",
              "        (relu): ReLU(inplace=True)\n",
              "      )\n",
              "    )\n",
              "    (layer3): Sequential(\n",
              "      (0): Bottleneck(\n",
              "        (conv1): Conv2d(512, 256, kernel_size=(1, 1), stride=(1, 1), bias=False)\n",
              "        (bn1): BatchNorm2d(256, eps=1e-05, momentum=0.1, affine=True, track_running_stats=True)\n",
              "        (conv2): Conv2d(256, 256, kernel_size=(3, 3), stride=(1, 1), padding=(1, 1), bias=False)\n",
              "        (bn2): BatchNorm2d(256, eps=1e-05, momentum=0.1, affine=True, track_running_stats=True)\n",
              "        (conv3): Conv2d(256, 1024, kernel_size=(1, 1), stride=(1, 1), bias=False)\n",
              "        (bn3): BatchNorm2d(1024, eps=1e-05, momentum=0.1, affine=True, track_running_stats=True)\n",
              "        (relu): ReLU(inplace=True)\n",
              "        (downsample): Sequential(\n",
              "          (0): Conv2d(512, 1024, kernel_size=(1, 1), stride=(1, 1), bias=False)\n",
              "          (1): BatchNorm2d(1024, eps=1e-05, momentum=0.1, affine=True, track_running_stats=True)\n",
              "        )\n",
              "      )\n",
              "      (1): Bottleneck(\n",
              "        (conv1): Conv2d(1024, 256, kernel_size=(1, 1), stride=(1, 1), bias=False)\n",
              "        (bn1): BatchNorm2d(256, eps=1e-05, momentum=0.1, affine=True, track_running_stats=True)\n",
              "        (conv2): Conv2d(256, 256, kernel_size=(3, 3), stride=(1, 1), padding=(2, 2), dilation=(2, 2), bias=False)\n",
              "        (bn2): BatchNorm2d(256, eps=1e-05, momentum=0.1, affine=True, track_running_stats=True)\n",
              "        (conv3): Conv2d(256, 1024, kernel_size=(1, 1), stride=(1, 1), bias=False)\n",
              "        (bn3): BatchNorm2d(1024, eps=1e-05, momentum=0.1, affine=True, track_running_stats=True)\n",
              "        (relu): ReLU(inplace=True)\n",
              "      )\n",
              "      (2): Bottleneck(\n",
              "        (conv1): Conv2d(1024, 256, kernel_size=(1, 1), stride=(1, 1), bias=False)\n",
              "        (bn1): BatchNorm2d(256, eps=1e-05, momentum=0.1, affine=True, track_running_stats=True)\n",
              "        (conv2): Conv2d(256, 256, kernel_size=(3, 3), stride=(1, 1), padding=(2, 2), dilation=(2, 2), bias=False)\n",
              "        (bn2): BatchNorm2d(256, eps=1e-05, momentum=0.1, affine=True, track_running_stats=True)\n",
              "        (conv3): Conv2d(256, 1024, kernel_size=(1, 1), stride=(1, 1), bias=False)\n",
              "        (bn3): BatchNorm2d(1024, eps=1e-05, momentum=0.1, affine=True, track_running_stats=True)\n",
              "        (relu): ReLU(inplace=True)\n",
              "      )\n",
              "      (3): Bottleneck(\n",
              "        (conv1): Conv2d(1024, 256, kernel_size=(1, 1), stride=(1, 1), bias=False)\n",
              "        (bn1): BatchNorm2d(256, eps=1e-05, momentum=0.1, affine=True, track_running_stats=True)\n",
              "        (conv2): Conv2d(256, 256, kernel_size=(3, 3), stride=(1, 1), padding=(2, 2), dilation=(2, 2), bias=False)\n",
              "        (bn2): BatchNorm2d(256, eps=1e-05, momentum=0.1, affine=True, track_running_stats=True)\n",
              "        (conv3): Conv2d(256, 1024, kernel_size=(1, 1), stride=(1, 1), bias=False)\n",
              "        (bn3): BatchNorm2d(1024, eps=1e-05, momentum=0.1, affine=True, track_running_stats=True)\n",
              "        (relu): ReLU(inplace=True)\n",
              "      )\n",
              "      (4): Bottleneck(\n",
              "        (conv1): Conv2d(1024, 256, kernel_size=(1, 1), stride=(1, 1), bias=False)\n",
              "        (bn1): BatchNorm2d(256, eps=1e-05, momentum=0.1, affine=True, track_running_stats=True)\n",
              "        (conv2): Conv2d(256, 256, kernel_size=(3, 3), stride=(1, 1), padding=(2, 2), dilation=(2, 2), bias=False)\n",
              "        (bn2): BatchNorm2d(256, eps=1e-05, momentum=0.1, affine=True, track_running_stats=True)\n",
              "        (conv3): Conv2d(256, 1024, kernel_size=(1, 1), stride=(1, 1), bias=False)\n",
              "        (bn3): BatchNorm2d(1024, eps=1e-05, momentum=0.1, affine=True, track_running_stats=True)\n",
              "        (relu): ReLU(inplace=True)\n",
              "      )\n",
              "      (5): Bottleneck(\n",
              "        (conv1): Conv2d(1024, 256, kernel_size=(1, 1), stride=(1, 1), bias=False)\n",
              "        (bn1): BatchNorm2d(256, eps=1e-05, momentum=0.1, affine=True, track_running_stats=True)\n",
              "        (conv2): Conv2d(256, 256, kernel_size=(3, 3), stride=(1, 1), padding=(2, 2), dilation=(2, 2), bias=False)\n",
              "        (bn2): BatchNorm2d(256, eps=1e-05, momentum=0.1, affine=True, track_running_stats=True)\n",
              "        (conv3): Conv2d(256, 1024, kernel_size=(1, 1), stride=(1, 1), bias=False)\n",
              "        (bn3): BatchNorm2d(1024, eps=1e-05, momentum=0.1, affine=True, track_running_stats=True)\n",
              "        (relu): ReLU(inplace=True)\n",
              "      )\n",
              "    )\n",
              "    (layer4): Sequential(\n",
              "      (0): Bottleneck(\n",
              "        (conv1): Conv2d(1024, 512, kernel_size=(1, 1), stride=(1, 1), bias=False)\n",
              "        (bn1): BatchNorm2d(512, eps=1e-05, momentum=0.1, affine=True, track_running_stats=True)\n",
              "        (conv2): Conv2d(512, 512, kernel_size=(3, 3), stride=(1, 1), padding=(2, 2), dilation=(2, 2), bias=False)\n",
              "        (bn2): BatchNorm2d(512, eps=1e-05, momentum=0.1, affine=True, track_running_stats=True)\n",
              "        (conv3): Conv2d(512, 2048, kernel_size=(1, 1), stride=(1, 1), bias=False)\n",
              "        (bn3): BatchNorm2d(2048, eps=1e-05, momentum=0.1, affine=True, track_running_stats=True)\n",
              "        (relu): ReLU(inplace=True)\n",
              "        (downsample): Sequential(\n",
              "          (0): Conv2d(1024, 2048, kernel_size=(1, 1), stride=(1, 1), bias=False)\n",
              "          (1): BatchNorm2d(2048, eps=1e-05, momentum=0.1, affine=True, track_running_stats=True)\n",
              "        )\n",
              "      )\n",
              "      (1): Bottleneck(\n",
              "        (conv1): Conv2d(2048, 512, kernel_size=(1, 1), stride=(1, 1), bias=False)\n",
              "        (bn1): BatchNorm2d(512, eps=1e-05, momentum=0.1, affine=True, track_running_stats=True)\n",
              "        (conv2): Conv2d(512, 512, kernel_size=(3, 3), stride=(1, 1), padding=(4, 4), dilation=(4, 4), bias=False)\n",
              "        (bn2): BatchNorm2d(512, eps=1e-05, momentum=0.1, affine=True, track_running_stats=True)\n",
              "        (conv3): Conv2d(512, 2048, kernel_size=(1, 1), stride=(1, 1), bias=False)\n",
              "        (bn3): BatchNorm2d(2048, eps=1e-05, momentum=0.1, affine=True, track_running_stats=True)\n",
              "        (relu): ReLU(inplace=True)\n",
              "      )\n",
              "      (2): Bottleneck(\n",
              "        (conv1): Conv2d(2048, 512, kernel_size=(1, 1), stride=(1, 1), bias=False)\n",
              "        (bn1): BatchNorm2d(512, eps=1e-05, momentum=0.1, affine=True, track_running_stats=True)\n",
              "        (conv2): Conv2d(512, 512, kernel_size=(3, 3), stride=(1, 1), padding=(4, 4), dilation=(4, 4), bias=False)\n",
              "        (bn2): BatchNorm2d(512, eps=1e-05, momentum=0.1, affine=True, track_running_stats=True)\n",
              "        (conv3): Conv2d(512, 2048, kernel_size=(1, 1), stride=(1, 1), bias=False)\n",
              "        (bn3): BatchNorm2d(2048, eps=1e-05, momentum=0.1, affine=True, track_running_stats=True)\n",
              "        (relu): ReLU(inplace=True)\n",
              "      )\n",
              "    )\n",
              "  )\n",
              "  (classifier): DeepLabHead(\n",
              "    (0): ASPP(\n",
              "      (convs): ModuleList(\n",
              "        (0): Sequential(\n",
              "          (0): Conv2d(2048, 256, kernel_size=(1, 1), stride=(1, 1), bias=False)\n",
              "          (1): BatchNorm2d(256, eps=1e-05, momentum=0.1, affine=True, track_running_stats=True)\n",
              "          (2): ReLU()\n",
              "        )\n",
              "        (1): ASPPConv(\n",
              "          (0): Conv2d(2048, 256, kernel_size=(3, 3), stride=(1, 1), padding=(12, 12), dilation=(12, 12), bias=False)\n",
              "          (1): BatchNorm2d(256, eps=1e-05, momentum=0.1, affine=True, track_running_stats=True)\n",
              "          (2): ReLU()\n",
              "        )\n",
              "        (2): ASPPConv(\n",
              "          (0): Conv2d(2048, 256, kernel_size=(3, 3), stride=(1, 1), padding=(24, 24), dilation=(24, 24), bias=False)\n",
              "          (1): BatchNorm2d(256, eps=1e-05, momentum=0.1, affine=True, track_running_stats=True)\n",
              "          (2): ReLU()\n",
              "        )\n",
              "        (3): ASPPConv(\n",
              "          (0): Conv2d(2048, 256, kernel_size=(3, 3), stride=(1, 1), padding=(36, 36), dilation=(36, 36), bias=False)\n",
              "          (1): BatchNorm2d(256, eps=1e-05, momentum=0.1, affine=True, track_running_stats=True)\n",
              "          (2): ReLU()\n",
              "        )\n",
              "        (4): ASPPPooling(\n",
              "          (0): AdaptiveAvgPool2d(output_size=1)\n",
              "          (1): Conv2d(2048, 256, kernel_size=(1, 1), stride=(1, 1), bias=False)\n",
              "          (2): BatchNorm2d(256, eps=1e-05, momentum=0.1, affine=True, track_running_stats=True)\n",
              "          (3): ReLU()\n",
              "        )\n",
              "      )\n",
              "      (project): Sequential(\n",
              "        (0): Conv2d(1280, 256, kernel_size=(1, 1), stride=(1, 1), bias=False)\n",
              "        (1): BatchNorm2d(256, eps=1e-05, momentum=0.1, affine=True, track_running_stats=True)\n",
              "        (2): ReLU()\n",
              "        (3): Dropout(p=0.5, inplace=False)\n",
              "      )\n",
              "    )\n",
              "    (1): Conv2d(256, 256, kernel_size=(3, 3), stride=(1, 1), padding=(1, 1), bias=False)\n",
              "    (2): BatchNorm2d(256, eps=1e-05, momentum=0.1, affine=True, track_running_stats=True)\n",
              "    (3): ReLU()\n",
              "    (4): Conv2d(256, 7, kernel_size=(1, 1), stride=(1, 1))\n",
              "  )\n",
              ")"
            ]
          },
          "metadata": {},
          "execution_count": 19
        }
      ],
      "source": [
        "import torchvision\n",
        "model = torchvision.models.segmentation.deeplabv3_resnet50(pretrained=False, progress=True, num_classes=7, aux_loss=None)\n",
        "model = model.to(config.DEVICE)\n",
        "model"
      ]
    },
    {
      "cell_type": "code",
      "execution_count": 20,
      "metadata": {
        "colab": {
          "base_uri": "https://localhost:8080/",
          "height": 143
        },
        "id": "2Mblyr5eA1i7",
        "outputId": "6e39dc1c-9c39-4d6c-98ff-89dd4bb53263"
      },
      "outputs": [
        {
          "output_type": "execute_result",
          "data": {
            "text/plain": [
              "'\\nimport torch \\nimport torch.nn as nn\\nimport torchvision.transforms.functional as TF \\n\\nclass UNET(nn.Module):\\n    \\n    def __init__(self, in_channels=3, classes=1):\\n        super(UNET, self).__init__()\\n        self.layers = [in_channels, 64, 128, 256, 512, 1024]\\n        \\n        self.double_conv_downs = nn.ModuleList(\\n            [self.__double_conv(layer, layer_n) for layer, layer_n in zip(self.layers[:-1], self.layers[1:])])\\n        \\n        self.up_trans = nn.ModuleList(\\n            [nn.ConvTranspose2d(layer, layer_n, kernel_size=2, stride=2)\\n             for layer, layer_n in zip(self.layers[::-1][:-2], self.layers[::-1][1:-1])])\\n            \\n        self.double_conv_ups = nn.ModuleList(\\n        [self.__double_conv(layer, layer//2) for layer in self.layers[::-1][:-2]])\\n        \\n        self.max_pool_2x2 = nn.MaxPool2d(kernel_size=2, stride=2)\\n        \\n        self.final_conv = nn.Conv2d(64, classes, kernel_size=1)\\n\\n        \\n    def __double_conv(self, in_channels, out_channels):\\n        conv = nn.Sequential(\\n            nn.Conv2d(in_channels, out_channels, kernel_size=3, padding=1, bias=False),\\n            nn.BatchNorm2d(out_channels),\\n            nn.ReLU(inplace=True),\\n            nn.Conv2d(out_channels, out_channels, kernel_size=3, padding=1),\\n            nn.ReLU(inplace=True)\\n        )\\n        return conv\\n    \\n    def forward(self, x):\\n        # down layers\\n        concat_layers = []\\n        \\n        for down in self.double_conv_downs:\\n            x = down(x)\\n            if down != self.double_conv_downs[-1]:\\n                concat_layers.append(x)\\n                x = self.max_pool_2x2(x)\\n        \\n        concat_layers = concat_layers[::-1]\\n        \\n        # up layers\\n        for up_trans, double_conv_up, concat_layer  in zip(self.up_trans, self.double_conv_ups, concat_layers):\\n            x = up_trans(x)\\n            if x.shape != concat_layer.shape:\\n                x = TF.resize(x, concat_layer.shape[2:])\\n            \\n            concatenated = torch.cat((concat_layer, x), dim=1)\\n            x = double_conv_up(concatenated)\\n            \\n        x = self.final_conv(x)\\n        \\n        return x \\n'"
            ],
            "application/vnd.google.colaboratory.intrinsic+json": {
              "type": "string"
            }
          },
          "metadata": {},
          "execution_count": 20
        }
      ],
      "source": [
        "'''\n",
        "import torch \n",
        "import torch.nn as nn\n",
        "import torchvision.transforms.functional as TF \n",
        "\n",
        "class UNET(nn.Module):\n",
        "    \n",
        "    def __init__(self, in_channels=3, classes=1):\n",
        "        super(UNET, self).__init__()\n",
        "        self.layers = [in_channels, 64, 128, 256, 512, 1024]\n",
        "        \n",
        "        self.double_conv_downs = nn.ModuleList(\n",
        "            [self.__double_conv(layer, layer_n) for layer, layer_n in zip(self.layers[:-1], self.layers[1:])])\n",
        "        \n",
        "        self.up_trans = nn.ModuleList(\n",
        "            [nn.ConvTranspose2d(layer, layer_n, kernel_size=2, stride=2)\n",
        "             for layer, layer_n in zip(self.layers[::-1][:-2], self.layers[::-1][1:-1])])\n",
        "            \n",
        "        self.double_conv_ups = nn.ModuleList(\n",
        "        [self.__double_conv(layer, layer//2) for layer in self.layers[::-1][:-2]])\n",
        "        \n",
        "        self.max_pool_2x2 = nn.MaxPool2d(kernel_size=2, stride=2)\n",
        "        \n",
        "        self.final_conv = nn.Conv2d(64, classes, kernel_size=1)\n",
        "\n",
        "        \n",
        "    def __double_conv(self, in_channels, out_channels):\n",
        "        conv = nn.Sequential(\n",
        "            nn.Conv2d(in_channels, out_channels, kernel_size=3, padding=1, bias=False),\n",
        "            nn.BatchNorm2d(out_channels),\n",
        "            nn.ReLU(inplace=True),\n",
        "            nn.Conv2d(out_channels, out_channels, kernel_size=3, padding=1),\n",
        "            nn.ReLU(inplace=True)\n",
        "        )\n",
        "        return conv\n",
        "    \n",
        "    def forward(self, x):\n",
        "        # down layers\n",
        "        concat_layers = []\n",
        "        \n",
        "        for down in self.double_conv_downs:\n",
        "            x = down(x)\n",
        "            if down != self.double_conv_downs[-1]:\n",
        "                concat_layers.append(x)\n",
        "                x = self.max_pool_2x2(x)\n",
        "        \n",
        "        concat_layers = concat_layers[::-1]\n",
        "        \n",
        "        # up layers\n",
        "        for up_trans, double_conv_up, concat_layer  in zip(self.up_trans, self.double_conv_ups, concat_layers):\n",
        "            x = up_trans(x)\n",
        "            if x.shape != concat_layer.shape:\n",
        "                x = TF.resize(x, concat_layer.shape[2:])\n",
        "            \n",
        "            concatenated = torch.cat((concat_layer, x), dim=1)\n",
        "            x = double_conv_up(concatenated)\n",
        "            \n",
        "        x = self.final_conv(x)\n",
        "        \n",
        "        return x \n",
        "'''"
      ]
    },
    {
      "cell_type": "code",
      "execution_count": 21,
      "metadata": {
        "id": "Ol8uhVRa8RFr"
      },
      "outputs": [],
      "source": [
        "#model = UNET(in_channels=3, classes=7).to(config.DEVICE)\n",
        "#model"
      ]
    },
    {
      "cell_type": "code",
      "execution_count": 22,
      "metadata": {
        "id": "CV4YZtV08U_f"
      },
      "outputs": [],
      "source": [
        "#summary(model, input_size=(3, 224, 224))"
      ]
    },
    {
      "cell_type": "code",
      "execution_count": 23,
      "metadata": {
        "colab": {
          "base_uri": "https://localhost:8080/"
        },
        "id": "Y8zLZAHT9HWB",
        "outputId": "0a1c8dd0-f351-45a7-8232-c0617285df88"
      },
      "outputs": [
        {
          "output_type": "stream",
          "name": "stdout",
          "text": [
            "23\n"
          ]
        }
      ],
      "source": [
        "optimizer = torch.optim.Adam(model.parameters(), lr=config.LEARNING_RATE)\n",
        "loss_function = nn.CrossEntropyLoss()\n",
        "\n",
        "# calculate steps per epoch for training and test set\n",
        "trainSteps = len(train) // config.BATCH_SIZE\n",
        "testSteps = len(val) // config.BATCH_SIZE\n",
        "\n",
        "# initialize a dictionary to store training history\n",
        "H = {\"train_loss\": [], \"test_loss\": []}\n",
        "\n",
        "print(trainSteps)"
      ]
    },
    {
      "cell_type": "code",
      "execution_count": 24,
      "metadata": {
        "id": "M_6dgO27BfPm",
        "colab": {
          "base_uri": "https://localhost:8080/"
        },
        "outputId": "3c2b349b-6ae0-4ede-f5d5-e8b73c7d0191"
      },
      "outputs": [
        {
          "output_type": "stream",
          "name": "stdout",
          "text": [
            "[INFO] training the network...\n"
          ]
        },
        {
          "output_type": "stream",
          "name": "stderr",
          "text": [
            "\r  0%|          | 0/10 [00:00<?, ?it/s]"
          ]
        },
        {
          "output_type": "stream",
          "name": "stdout",
          "text": [
            "torch.Size([20, 7, 224, 224])\n",
            "torch.Size([20, 7, 224, 224])\n",
            "torch.Size([20, 7, 224, 224])\n",
            "torch.Size([20, 7, 224, 224])\n",
            "torch.Size([20, 7, 224, 224])\n",
            "torch.Size([20, 7, 224, 224])\n",
            "torch.Size([20, 7, 224, 224])\n",
            "torch.Size([20, 7, 224, 224])\n",
            "torch.Size([20, 7, 224, 224])\n",
            "torch.Size([20, 7, 224, 224])\n",
            "torch.Size([20, 7, 224, 224])\n",
            "torch.Size([20, 7, 224, 224])\n",
            "torch.Size([20, 7, 224, 224])\n",
            "torch.Size([20, 7, 224, 224])\n",
            "torch.Size([20, 7, 224, 224])\n",
            "torch.Size([20, 7, 224, 224])\n",
            "torch.Size([20, 7, 224, 224])\n",
            "torch.Size([20, 7, 224, 224])\n",
            "torch.Size([20, 7, 224, 224])\n",
            "torch.Size([20, 7, 224, 224])\n",
            "torch.Size([20, 7, 224, 224])\n",
            "torch.Size([20, 7, 224, 224])\n",
            "torch.Size([20, 7, 224, 224])\n",
            "torch.Size([2, 7, 224, 224])\n"
          ]
        },
        {
          "output_type": "stream",
          "name": "stderr",
          "text": [
            "\r 10%|█         | 1/10 [06:09<55:25, 369.45s/it]"
          ]
        },
        {
          "output_type": "stream",
          "name": "stdout",
          "text": [
            "[INFO] EPOCH: 1/10\n",
            "Train loss: 1.802010, Test loss: 2.9254\n",
            "torch.Size([20, 7, 224, 224])\n",
            "torch.Size([20, 7, 224, 224])\n",
            "torch.Size([20, 7, 224, 224])\n",
            "torch.Size([20, 7, 224, 224])\n",
            "torch.Size([20, 7, 224, 224])\n",
            "torch.Size([20, 7, 224, 224])\n",
            "torch.Size([20, 7, 224, 224])\n",
            "torch.Size([20, 7, 224, 224])\n",
            "torch.Size([20, 7, 224, 224])\n",
            "torch.Size([20, 7, 224, 224])\n",
            "torch.Size([20, 7, 224, 224])\n",
            "torch.Size([20, 7, 224, 224])\n",
            "torch.Size([20, 7, 224, 224])\n",
            "torch.Size([20, 7, 224, 224])\n",
            "torch.Size([20, 7, 224, 224])\n",
            "torch.Size([20, 7, 224, 224])\n",
            "torch.Size([20, 7, 224, 224])\n",
            "torch.Size([20, 7, 224, 224])\n",
            "torch.Size([20, 7, 224, 224])\n",
            "torch.Size([20, 7, 224, 224])\n",
            "torch.Size([20, 7, 224, 224])\n",
            "torch.Size([20, 7, 224, 224])\n",
            "torch.Size([20, 7, 224, 224])\n",
            "torch.Size([2, 7, 224, 224])\n"
          ]
        },
        {
          "output_type": "stream",
          "name": "stderr",
          "text": [
            "\r 20%|██        | 2/10 [12:11<48:42, 365.30s/it]"
          ]
        },
        {
          "output_type": "stream",
          "name": "stdout",
          "text": [
            "[INFO] EPOCH: 2/10\n",
            "Train loss: 1.268010, Test loss: 1.4133\n",
            "torch.Size([20, 7, 224, 224])\n",
            "torch.Size([20, 7, 224, 224])\n",
            "torch.Size([20, 7, 224, 224])\n",
            "torch.Size([20, 7, 224, 224])\n",
            "torch.Size([20, 7, 224, 224])\n",
            "torch.Size([20, 7, 224, 224])\n",
            "torch.Size([20, 7, 224, 224])\n",
            "torch.Size([20, 7, 224, 224])\n",
            "torch.Size([20, 7, 224, 224])\n",
            "torch.Size([20, 7, 224, 224])\n",
            "torch.Size([20, 7, 224, 224])\n",
            "torch.Size([20, 7, 224, 224])\n",
            "torch.Size([20, 7, 224, 224])\n",
            "torch.Size([20, 7, 224, 224])\n",
            "torch.Size([20, 7, 224, 224])\n",
            "torch.Size([20, 7, 224, 224])\n",
            "torch.Size([20, 7, 224, 224])\n",
            "torch.Size([20, 7, 224, 224])\n",
            "torch.Size([20, 7, 224, 224])\n",
            "torch.Size([20, 7, 224, 224])\n",
            "torch.Size([20, 7, 224, 224])\n",
            "torch.Size([20, 7, 224, 224])\n",
            "torch.Size([20, 7, 224, 224])\n",
            "torch.Size([2, 7, 224, 224])\n"
          ]
        },
        {
          "output_type": "stream",
          "name": "stderr",
          "text": [
            "\r 30%|███       | 3/10 [18:11<42:20, 362.93s/it]"
          ]
        },
        {
          "output_type": "stream",
          "name": "stdout",
          "text": [
            "[INFO] EPOCH: 3/10\n",
            "Train loss: 0.949822, Test loss: 0.9792\n",
            "torch.Size([20, 7, 224, 224])\n",
            "torch.Size([20, 7, 224, 224])\n",
            "torch.Size([20, 7, 224, 224])\n",
            "torch.Size([20, 7, 224, 224])\n",
            "torch.Size([20, 7, 224, 224])\n",
            "torch.Size([20, 7, 224, 224])\n",
            "torch.Size([20, 7, 224, 224])\n",
            "torch.Size([20, 7, 224, 224])\n",
            "torch.Size([20, 7, 224, 224])\n",
            "torch.Size([20, 7, 224, 224])\n",
            "torch.Size([20, 7, 224, 224])\n",
            "torch.Size([20, 7, 224, 224])\n",
            "torch.Size([20, 7, 224, 224])\n",
            "torch.Size([20, 7, 224, 224])\n",
            "torch.Size([20, 7, 224, 224])\n",
            "torch.Size([20, 7, 224, 224])\n",
            "torch.Size([20, 7, 224, 224])\n",
            "torch.Size([20, 7, 224, 224])\n",
            "torch.Size([20, 7, 224, 224])\n",
            "torch.Size([20, 7, 224, 224])\n",
            "torch.Size([20, 7, 224, 224])\n",
            "torch.Size([20, 7, 224, 224])\n",
            "torch.Size([20, 7, 224, 224])\n",
            "torch.Size([2, 7, 224, 224])\n"
          ]
        },
        {
          "output_type": "stream",
          "name": "stderr",
          "text": [
            "\r 40%|████      | 4/10 [24:14<36:16, 362.71s/it]"
          ]
        },
        {
          "output_type": "stream",
          "name": "stdout",
          "text": [
            "[INFO] EPOCH: 4/10\n",
            "Train loss: 0.781542, Test loss: 1.0621\n",
            "torch.Size([20, 7, 224, 224])\n",
            "torch.Size([20, 7, 224, 224])\n",
            "torch.Size([20, 7, 224, 224])\n",
            "torch.Size([20, 7, 224, 224])\n",
            "torch.Size([20, 7, 224, 224])\n",
            "torch.Size([20, 7, 224, 224])\n",
            "torch.Size([20, 7, 224, 224])\n",
            "torch.Size([20, 7, 224, 224])\n",
            "torch.Size([20, 7, 224, 224])\n",
            "torch.Size([20, 7, 224, 224])\n",
            "torch.Size([20, 7, 224, 224])\n",
            "torch.Size([20, 7, 224, 224])\n",
            "torch.Size([20, 7, 224, 224])\n",
            "torch.Size([20, 7, 224, 224])\n",
            "torch.Size([20, 7, 224, 224])\n",
            "torch.Size([20, 7, 224, 224])\n",
            "torch.Size([20, 7, 224, 224])\n",
            "torch.Size([20, 7, 224, 224])\n",
            "torch.Size([20, 7, 224, 224])\n",
            "torch.Size([20, 7, 224, 224])\n",
            "torch.Size([20, 7, 224, 224])\n",
            "torch.Size([20, 7, 224, 224])\n",
            "torch.Size([20, 7, 224, 224])\n",
            "torch.Size([2, 7, 224, 224])\n"
          ]
        },
        {
          "output_type": "stream",
          "name": "stderr",
          "text": [
            "\r 50%|█████     | 5/10 [30:11<30:04, 360.83s/it]"
          ]
        },
        {
          "output_type": "stream",
          "name": "stdout",
          "text": [
            "[INFO] EPOCH: 5/10\n",
            "Train loss: 0.702953, Test loss: 1.0692\n",
            "torch.Size([20, 7, 224, 224])\n",
            "torch.Size([20, 7, 224, 224])\n",
            "torch.Size([20, 7, 224, 224])\n",
            "torch.Size([20, 7, 224, 224])\n",
            "torch.Size([20, 7, 224, 224])\n",
            "torch.Size([20, 7, 224, 224])\n",
            "torch.Size([20, 7, 224, 224])\n",
            "torch.Size([20, 7, 224, 224])\n",
            "torch.Size([20, 7, 224, 224])\n",
            "torch.Size([20, 7, 224, 224])\n",
            "torch.Size([20, 7, 224, 224])\n",
            "torch.Size([20, 7, 224, 224])\n",
            "torch.Size([20, 7, 224, 224])\n",
            "torch.Size([20, 7, 224, 224])\n",
            "torch.Size([20, 7, 224, 224])\n",
            "torch.Size([20, 7, 224, 224])\n",
            "torch.Size([20, 7, 224, 224])\n",
            "torch.Size([20, 7, 224, 224])\n",
            "torch.Size([20, 7, 224, 224])\n",
            "torch.Size([20, 7, 224, 224])\n",
            "torch.Size([20, 7, 224, 224])\n",
            "torch.Size([20, 7, 224, 224])\n",
            "torch.Size([20, 7, 224, 224])\n",
            "torch.Size([2, 7, 224, 224])\n"
          ]
        },
        {
          "output_type": "stream",
          "name": "stderr",
          "text": [
            "\r 60%|██████    | 6/10 [36:14<24:05, 361.42s/it]"
          ]
        },
        {
          "output_type": "stream",
          "name": "stdout",
          "text": [
            "[INFO] EPOCH: 6/10\n",
            "Train loss: 0.633527, Test loss: 0.8644\n",
            "torch.Size([20, 7, 224, 224])\n",
            "torch.Size([20, 7, 224, 224])\n",
            "torch.Size([20, 7, 224, 224])\n",
            "torch.Size([20, 7, 224, 224])\n",
            "torch.Size([20, 7, 224, 224])\n",
            "torch.Size([20, 7, 224, 224])\n",
            "torch.Size([20, 7, 224, 224])\n",
            "torch.Size([20, 7, 224, 224])\n",
            "torch.Size([20, 7, 224, 224])\n",
            "torch.Size([20, 7, 224, 224])\n",
            "torch.Size([20, 7, 224, 224])\n",
            "torch.Size([20, 7, 224, 224])\n",
            "torch.Size([20, 7, 224, 224])\n",
            "torch.Size([20, 7, 224, 224])\n",
            "torch.Size([20, 7, 224, 224])\n",
            "torch.Size([20, 7, 224, 224])\n",
            "torch.Size([20, 7, 224, 224])\n",
            "torch.Size([20, 7, 224, 224])\n",
            "torch.Size([20, 7, 224, 224])\n",
            "torch.Size([20, 7, 224, 224])\n",
            "torch.Size([20, 7, 224, 224])\n",
            "torch.Size([20, 7, 224, 224])\n",
            "torch.Size([20, 7, 224, 224])\n",
            "torch.Size([2, 7, 224, 224])\n"
          ]
        },
        {
          "output_type": "stream",
          "name": "stderr",
          "text": [
            "\r 70%|███████   | 7/10 [42:10<17:59, 359.67s/it]"
          ]
        },
        {
          "output_type": "stream",
          "name": "stdout",
          "text": [
            "[INFO] EPOCH: 7/10\n",
            "Train loss: 0.577878, Test loss: 0.7384\n",
            "torch.Size([20, 7, 224, 224])\n",
            "torch.Size([20, 7, 224, 224])\n",
            "torch.Size([20, 7, 224, 224])\n",
            "torch.Size([20, 7, 224, 224])\n",
            "torch.Size([20, 7, 224, 224])\n",
            "torch.Size([20, 7, 224, 224])\n",
            "torch.Size([20, 7, 224, 224])\n",
            "torch.Size([20, 7, 224, 224])\n",
            "torch.Size([20, 7, 224, 224])\n",
            "torch.Size([20, 7, 224, 224])\n",
            "torch.Size([20, 7, 224, 224])\n",
            "torch.Size([20, 7, 224, 224])\n",
            "torch.Size([20, 7, 224, 224])\n",
            "torch.Size([20, 7, 224, 224])\n",
            "torch.Size([20, 7, 224, 224])\n",
            "torch.Size([20, 7, 224, 224])\n",
            "torch.Size([20, 7, 224, 224])\n",
            "torch.Size([20, 7, 224, 224])\n",
            "torch.Size([20, 7, 224, 224])\n",
            "torch.Size([20, 7, 224, 224])\n",
            "torch.Size([20, 7, 224, 224])\n",
            "torch.Size([20, 7, 224, 224])\n",
            "torch.Size([20, 7, 224, 224])\n",
            "torch.Size([2, 7, 224, 224])\n"
          ]
        },
        {
          "output_type": "stream",
          "name": "stderr",
          "text": [
            "\r 80%|████████  | 8/10 [47:59<11:52, 356.36s/it]"
          ]
        },
        {
          "output_type": "stream",
          "name": "stdout",
          "text": [
            "[INFO] EPOCH: 8/10\n",
            "Train loss: 0.523218, Test loss: 0.6688\n",
            "torch.Size([20, 7, 224, 224])\n",
            "torch.Size([20, 7, 224, 224])\n",
            "torch.Size([20, 7, 224, 224])\n",
            "torch.Size([20, 7, 224, 224])\n",
            "torch.Size([20, 7, 224, 224])\n",
            "torch.Size([20, 7, 224, 224])\n",
            "torch.Size([20, 7, 224, 224])\n",
            "torch.Size([20, 7, 224, 224])\n",
            "torch.Size([20, 7, 224, 224])\n",
            "torch.Size([20, 7, 224, 224])\n",
            "torch.Size([20, 7, 224, 224])\n",
            "torch.Size([20, 7, 224, 224])\n",
            "torch.Size([20, 7, 224, 224])\n",
            "torch.Size([20, 7, 224, 224])\n",
            "torch.Size([20, 7, 224, 224])\n",
            "torch.Size([20, 7, 224, 224])\n",
            "torch.Size([20, 7, 224, 224])\n",
            "torch.Size([20, 7, 224, 224])\n",
            "torch.Size([20, 7, 224, 224])\n",
            "torch.Size([20, 7, 224, 224])\n",
            "torch.Size([20, 7, 224, 224])\n",
            "torch.Size([20, 7, 224, 224])\n",
            "torch.Size([20, 7, 224, 224])\n",
            "torch.Size([2, 7, 224, 224])\n"
          ]
        },
        {
          "output_type": "stream",
          "name": "stderr",
          "text": [
            "\r 90%|█████████ | 9/10 [53:52<05:55, 355.18s/it]"
          ]
        },
        {
          "output_type": "stream",
          "name": "stdout",
          "text": [
            "[INFO] EPOCH: 9/10\n",
            "Train loss: 0.482649, Test loss: 0.6454\n",
            "torch.Size([20, 7, 224, 224])\n",
            "torch.Size([20, 7, 224, 224])\n",
            "torch.Size([20, 7, 224, 224])\n",
            "torch.Size([20, 7, 224, 224])\n",
            "torch.Size([20, 7, 224, 224])\n",
            "torch.Size([20, 7, 224, 224])\n",
            "torch.Size([20, 7, 224, 224])\n",
            "torch.Size([20, 7, 224, 224])\n",
            "torch.Size([20, 7, 224, 224])\n",
            "torch.Size([20, 7, 224, 224])\n",
            "torch.Size([20, 7, 224, 224])\n",
            "torch.Size([20, 7, 224, 224])\n",
            "torch.Size([20, 7, 224, 224])\n",
            "torch.Size([20, 7, 224, 224])\n",
            "torch.Size([20, 7, 224, 224])\n",
            "torch.Size([20, 7, 224, 224])\n",
            "torch.Size([20, 7, 224, 224])\n",
            "torch.Size([20, 7, 224, 224])\n",
            "torch.Size([20, 7, 224, 224])\n",
            "torch.Size([20, 7, 224, 224])\n",
            "torch.Size([20, 7, 224, 224])\n",
            "torch.Size([20, 7, 224, 224])\n",
            "torch.Size([20, 7, 224, 224])\n",
            "torch.Size([2, 7, 224, 224])\n"
          ]
        },
        {
          "output_type": "stream",
          "name": "stderr",
          "text": [
            "100%|██████████| 10/10 [59:43<00:00, 358.38s/it]"
          ]
        },
        {
          "output_type": "stream",
          "name": "stdout",
          "text": [
            "[INFO] EPOCH: 10/10\n",
            "Train loss: 0.446793, Test loss: 0.5825\n",
            "[INFO] total time taken to train the model: 3583.78s\n"
          ]
        },
        {
          "output_type": "stream",
          "name": "stderr",
          "text": [
            "\n"
          ]
        }
      ],
      "source": [
        "print(\"[INFO] training the network...\")\n",
        "startTime = time.time()\n",
        "for e in tqdm(range(config.NUM_EPOCHS)):\n",
        "\t# set the model in training mode\n",
        "  model.train()\n",
        "\t# initialize the total training and validation loss\n",
        "  totalTrainLoss = 0\n",
        "  totalTestLoss = 0\n",
        "\t# loop over the training set\n",
        "  for (i, (x, y)) in enumerate(train_dataloader):\n",
        "\t\t# send the input to the device\n",
        "    (x, y) = (x.type(torch.cuda.FloatTensor).to(config.DEVICE), y.to(config.DEVICE))\n",
        "\t\t# perform a forward pass and calculate the training loss\n",
        "    pred = model(x)\n",
        "    pred = pred['out']\n",
        "    print(pred.shape)\n",
        "    loss = loss_function(pred, y)\n",
        "\t\t# first, zero out any previously accumulated gradients, then\n",
        "\t\t# perform backpropagation, and then update model parameters\n",
        "    optimizer.zero_grad()\n",
        "    loss.backward()\n",
        "    optimizer.step()\n",
        "\t\t# add the loss to the total training loss so far\n",
        "    totalTrainLoss += loss\n",
        "\t# switch off autograd\n",
        "  with torch.no_grad():\n",
        "\t\t# set the model in evaluation mode\n",
        "    model.eval()\n",
        "\t\t# loop over the validation set\n",
        "    for (x, y) in val_dataloader:\n",
        "\t\t\t# send the input to the device\n",
        "      (x, y) = (x.type(torch.cuda.FloatTensor).to(config.DEVICE), y.to(config.DEVICE))\n",
        "\t\t\t# make the predictions and calculate the validation loss\n",
        "      pred = model(x)\n",
        "      pred = pred['out']\n",
        "      totalTestLoss += loss_function(pred, y)\n",
        "\t# calculate the average training and validation loss\n",
        "  avgTrainLoss = totalTrainLoss / trainSteps\n",
        "  avgTestLoss = totalTestLoss / testSteps\n",
        "\t# update our training history\n",
        "  H[\"train_loss\"].append(avgTrainLoss.cpu().detach().numpy())\n",
        "  H[\"test_loss\"].append(avgTestLoss.cpu().detach().numpy())\n",
        "\t# print the model training and validation information\n",
        "  print(\"[INFO] EPOCH: {}/{}\".format(e + 1, config.NUM_EPOCHS))\n",
        "  print(\"Train loss: {:.6f}, Test loss: {:.4f}\".format(\n",
        "\t\tavgTrainLoss, avgTestLoss))\n",
        "# display the total time needed to perform the training\n",
        "endTime = time.time()\n",
        "print(\"[INFO] total time taken to train the model: {:.2f}s\".format(\n",
        "\tendTime - startTime))"
      ]
    },
    {
      "cell_type": "code",
      "execution_count": 25,
      "metadata": {
        "id": "X1a7z3q53sQZ",
        "colab": {
          "base_uri": "https://localhost:8080/",
          "height": 317
        },
        "outputId": "004fd679-f7ca-4a6a-c8b7-650b562060d4"
      },
      "outputs": [
        {
          "output_type": "execute_result",
          "data": {
            "text/plain": [
              "<matplotlib.legend.Legend at 0x7fe6e2596990>"
            ]
          },
          "metadata": {},
          "execution_count": 25
        },
        {
          "output_type": "display_data",
          "data": {
            "text/plain": [
              "<Figure size 432x288 with 1 Axes>"
            ],
            "image/png": "[encoded data removed]"
          },
          "metadata": {}
        }
      ],
      "source": [
        "# plot the training loss\n",
        "plt.style.use(\"ggplot\")\n",
        "plt.figure()\n",
        "plt.plot(H[\"train_loss\"], label=\"train_loss\")\n",
        "plt.plot(H[\"test_loss\"], label=\"test_loss\")\n",
        "plt.title(\"Training Loss on Dataset\")\n",
        "plt.xlabel(\"Epoch #\")\n",
        "plt.ylabel(\"Loss\")\n",
        "plt.legend(loc=\"lower left\")\n",
        "#plt.savefig(config.PLOT_PATH)\n",
        "# serialize the model to disk\n",
        "#torch.save(model, config.MODEL_PATH)"
      ]
    },
    {
      "cell_type": "code",
      "execution_count": 26,
      "metadata": {
        "id": "bJI21kW-7LqT"
      },
      "outputs": [],
      "source": [
        "def diceCoefficient(y_true, y_pred):\n",
        "    intersection = torch.logical_and(y_true, y_pred)\n",
        "    return (2*torch.sum(intersection)/(torch.sum(y_true)+torch.sum(y_pred))).item()\n",
        "def falsepos(y_true, y_pred): #false positive rate = FP/(TN+FP)\n",
        "    intersection = torch.logical_and(y_true, y_pred)\n",
        "    FP = (torch.sum(y_pred) - torch.sum(intersection))\n",
        "    actual_neg = config.INPUT_IMAGE_HEIGHT*config.INPUT_IMAGE_WIDTH - torch.sum(y_true)\n",
        "    return (FP/actual_neg).item()\n",
        "def falseneg(y_true, y_pred): #false negative rate: \n",
        "    intersection = torch.sum(torch.logical_and(y_true, y_pred))\n",
        "    FN = torch.sum(y_true) - intersection\n",
        "    actual_pos = torch.sum(y_true)\n",
        "    return (FN/actual_pos).item()\n",
        "def jaccard_index(y_true, y_pred):\n",
        "    intersection = torch.logical_and(y_true, y_pred)\n",
        "    union = torch.logical_or(y_true, y_pred)\n",
        "    return torch.sum(intersection)/torch.sum(union)"
      ]
    },
    {
      "cell_type": "code",
      "execution_count": 27,
      "metadata": {
        "id": "i31dI-lJ_NcP"
      },
      "outputs": [],
      "source": [
        "def prepare_plot(origImage, origMask, predMask):\n",
        "\t# initialize our figure\n",
        "\tfigure, ax = plt.subplots(nrows=1, ncols=3, figsize=(10, 10))\n",
        "\t# plot the original image, its mask, and the predicted mask\n",
        "\tax[0].imshow(origImage)\n",
        "\tax[1].imshow(origMask)\n",
        "\tax[2].imshow(predMask)\n",
        "\t# set the titles of the subplots\n",
        "\tax[0].set_title(\"Image\")\n",
        "\tax[1].set_title(\"Original Mask\")\n",
        "\tax[2].set_title(\"Predicted Mask\")\n",
        "\t# set the layout of the figure and display it\n",
        "\tfigure.tight_layout()\n",
        "\tfigure.show()"
      ]
    },
    {
      "cell_type": "code",
      "source": [
        "IntToColor = {\n",
        "    0: 'background',\n",
        "    1: 'L1',\n",
        "    2: 'L2',\n",
        "    3: 'L3',\n",
        "    4: 'L4',\n",
        "    5: 'L5',\n",
        "    6: 'S1'\n",
        "}\n",
        "\n",
        "classToColor = {\n",
        "    'background': (0, 0, 0),\n",
        "    'L1': (255, 255, 0),\n",
        "    'L2': (255, 0, 0),\n",
        "    'L3': (0, 255, 0),\n",
        "    'L4': (0, 255, 255),\n",
        "    'L5': (0, 0, 255),\n",
        "    'S1': (255, 0, 255)\n",
        "}\n",
        "\n",
        "def IntToRGB(img):\n",
        "  temp = np.zeros((img.shape[0], img.shape[1], 3))\n",
        "  for i in range(img.shape[0]):\n",
        "    for j in range(img.shape[1]):\n",
        "      temp[i, j, :] = list(classToColor.get(IntToColor.get(img[i,j].item())))\n",
        "  return temp"
      ],
      "metadata": {
        "id": "-k-21d7XUcmW"
      },
      "execution_count": 28,
      "outputs": []
    },
    {
      "cell_type": "code",
      "execution_count": 29,
      "metadata": {
        "id": "DA0r2YHP7ijz",
        "colab": {
          "base_uri": "https://localhost:8080/",
          "height": 1000
        },
        "outputId": "b6b0068c-8a1a-43d2-a6ad-3f4c0e166d67"
      },
      "outputs": [
        {
          "output_type": "stream",
          "name": "stdout",
          "text": [
            "(320, 320, 3)\n",
            "(224, 224, 3)\n",
            "[[[0 0 0]\n",
            "  [0 0 0]\n",
            "  [0 0 0]\n",
            "  ...\n",
            "  [0 0 0]\n",
            "  [0 0 0]\n",
            "  [0 0 0]]\n",
            "\n",
            " [[0 0 0]\n",
            "  [0 0 0]\n",
            "  [0 0 0]\n",
            "  ...\n",
            "  [0 0 0]\n",
            "  [0 0 0]\n",
            "  [0 0 0]]\n",
            "\n",
            " [[0 0 0]\n",
            "  [0 0 0]\n",
            "  [0 0 0]\n",
            "  ...\n",
            "  [0 0 0]\n",
            "  [0 0 0]\n",
            "  [0 0 0]]\n",
            "\n",
            " ...\n",
            "\n",
            " [[0 0 0]\n",
            "  [0 0 0]\n",
            "  [0 0 0]\n",
            "  ...\n",
            "  [0 0 0]\n",
            "  [0 0 0]\n",
            "  [0 0 0]]\n",
            "\n",
            " [[0 0 0]\n",
            "  [0 0 0]\n",
            "  [0 0 0]\n",
            "  ...\n",
            "  [0 0 0]\n",
            "  [0 0 0]\n",
            "  [0 0 0]]\n",
            "\n",
            " [[0 0 0]\n",
            "  [0 0 0]\n",
            "  [0 0 0]\n",
            "  ...\n",
            "  [0 0 0]\n",
            "  [0 0 0]\n",
            "  [0 0 0]]]\n",
            "torch.Size([1, 3, 224, 224])\n"
          ]
        },
        {
          "output_type": "stream",
          "name": "stderr",
          "text": [
            "Clipping input data to the valid range for imshow with RGB data ([0..1] for floats or [0..255] for integers).\n"
          ]
        },
        {
          "output_type": "display_data",
          "data": {
            "text/plain": [
              "<Figure size 720x720 with 3 Axes>"
            ],
            "image/png": "[encoded data removed]"
          },
          "metadata": {}
        }
      ],
      "source": [
        "from skimage import io\n",
        "from skimage import color\n",
        "from skimage import segmentation\n",
        "\n",
        "with torch.no_grad():\n",
        "  model.eval()\n",
        "  image = cv2.imread(ex_img_dir)\n",
        "  image = cv2.cvtColor(image, cv2.COLOR_BGR2RGB)\n",
        "  image = image.astype(\"float32\") / 255.0\n",
        "  print(image.shape)\n",
        "  image = cv2.resize(image, (config.INPUT_IMAGE_WIDTH, config.INPUT_IMAGE_HEIGHT))\n",
        "  print(image.shape)\n",
        "  orig = image.copy()\n",
        "\n",
        "  gtMask = cv2.imread(ex_label_dir)\n",
        "  gtMask = cv2.resize(gtMask, (config.INPUT_IMAGE_WIDTH, config.INPUT_IMAGE_HEIGHT))\n",
        "  print(gtMask)\n",
        "  gt_Mask_t = torch.tensor(gtMask)\n",
        "\n",
        "  image = np.transpose(image, (2, 0, 1))\n",
        "  image = np.expand_dims(image, 0)\n",
        "  image = torch.from_numpy(image).to(config.DEVICE)\n",
        "  print(image.shape)\n",
        "  # make the prediction, pass the results through the sigmoid\n",
        "  # function, and convert the result to a NumPy array\n",
        "  predMask = model(image)\n",
        "  predMask = predMask['out']\n",
        "  #print((predMask.detach().cpu())[:,0,:,120])\n",
        "  #print((predMask.detach().cpu())[:,1,:,120])\n",
        "  #print(predMask.shape)\n",
        "  predMask = torch.argmax(predMask, 1).detach().cpu().squeeze()\n",
        "  predMask = IntToRGB(predMask)\n",
        "  #print(classToColor.get(IntToColor.get(predMask[2,5].item())))\n",
        "  #print(predMask[2,5].item())\n",
        "  #predMask = torch.sigmoid(predMask)\n",
        "  #predMask = predMask.cpu().numpy()\n",
        "  # filter out the weak predictions and convert them to integers\n",
        "  # predMask = predMask.astype(np.uint8)\n",
        "  # predMask = torch.tensor(predMask)\n",
        "  # predMask = torch.argmax(predMask, dim=1)\n",
        "\n",
        "  prepare_plot(orig, gtMask, predMask)"
      ]
    },
    {
      "cell_type": "code",
      "source": [
        "jaccard_index(gt_Mask_t, torch.Tensor(predMask)).item()"
      ],
      "metadata": {
        "colab": {
          "base_uri": "https://localhost:8080/"
        },
        "id": "HSJyvo6eXcQM",
        "outputId": "42beb919-21a9-433c-9179-0bb68630a313"
      },
      "execution_count": 34,
      "outputs": [
        {
          "output_type": "execute_result",
          "data": {
            "text/plain": [
              "0.7260197401046753"
            ]
          },
          "metadata": {},
          "execution_count": 34
        }
      ]
    },
    {
      "cell_type": "code",
      "source": [
        ""
      ],
      "metadata": {
        "id": "Qjyaom-aneAB"
      },
      "execution_count": null,
      "outputs": []
    }
  ],
  "metadata": {
    "accelerator": "GPU",
    "colab": {
      "name": "lumbar_spine.ipynb",
      "provenance": [],
      "collapsed_sections": [],
      "authorship_tag": "ABX9TyPKLJDd7gYBTJqTwuh9TiP9",
      "include_colab_link": true
    },
    "kernelspec": {
      "display_name": "Python 3",
      "name": "python3"
    },
    "language_info": {
      "name": "python"
    }
  },
  "nbformat": 4,
  "nbformat_minor": 0
}