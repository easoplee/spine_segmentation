{
  "nbformat": 4,
  "nbformat_minor": 0,
  "metadata": {
    "colab": {
      "name": "lumbar_spine_binary.ipynb",
      "provenance": [],
      "authorship_tag": "ABX9TyNPNGby5NNu9a+j4V5cHLET",
      "include_colab_link": true
    },
    "kernelspec": {
      "name": "python3",
      "display_name": "Python 3"
    },
    "language_info": {
      "name": "python"
    },
    "accelerator": "GPU"
  },
  "cells": [
    {
      "cell_type": "markdown",
      "metadata": {
        "id": "view-in-github",
        "colab_type": "text"
      },
      "source": [
        "<a href=\"https://colab.research.google.com/github/easoplee/spine_segmentation/blob/main/lumbar_spine_binary.ipynb\" target=\"_parent\"><img src=\"https://colab.research.google.com/assets/colab-badge.svg\" alt=\"Open In Colab\"/></a>"
      ]
    },
    {
      "cell_type": "markdown",
      "source": [
        "# Lumbar Spine Bone (L1-S1) Segmentation\n",
        "- dataset can be accessed from: https://data.mendeley.com/datasets/k3b363f3vz/2"
      ],
      "metadata": {
        "id": "TOm42xiov8Eq"
      }
    },
    {
      "cell_type": "markdown",
      "source": [
        "### Import necessary packages"
      ],
      "metadata": {
        "id": "Do4_hZsTOqO6"
      }
    },
    {
      "cell_type": "code",
      "source": [
        "#pip install packages\n",
        "\n",
        "!pip install itk\n",
        "!pip install itkwidgets\n",
        "!pip install pydicom\n",
        "!pip install ipywidgets"
      ],
      "metadata": {
        "id": "StodJyjVO5Mm"
      },
      "execution_count": null,
      "outputs": []
    },
    {
      "cell_type": "code",
      "execution_count": 2,
      "metadata": {
        "id": "uGHHQOixOEZq"
      },
      "outputs": [],
      "source": [
        "#import necessary packages\n",
        "\n",
        "import pathlib as Path\n",
        "import numpy as np\n",
        "import nibabel as nib\n",
        "import matplotlib.pyplot as plt\n",
        "%matplotlib inline\n",
        "import itk\n",
        "import itkwidgets\n",
        "from ipywidgets import interact, interactive, IntSlider, ToggleButtons\n",
        "import pandas as pd\n",
        "import torch\n",
        "import torch.nn as nn\n",
        "import torchvision.models\n",
        "from torchsummary import summary\n",
        "from torch.utils.data import DataLoader, Dataset\n",
        "import torchvision.transforms as transforms\n",
        "from torch.nn.utils.rnn import pad_sequence \n",
        "import torch.nn.functional as F\n",
        "import os\n",
        "import pydicom as dicom\n",
        "import matplotlib.patches as mpatches\n",
        "import matplotlib.animation as animation\n",
        "import matplotlib.image as img\n",
        "import zipfile\n",
        "import cv2\n",
        "from google.colab.patches import cv2_imshow\n",
        "from tqdm import tqdm\n",
        "import time\n",
        "from PIL import Image\n",
        "\n",
        "from sklearn.preprocessing import MinMaxScaler\n",
        "from sklearn.model_selection import train_test_split"
      ]
    },
    {
      "cell_type": "code",
      "source": [
        "class config:\n",
        "  BATCH_SIZE = 20\n",
        "  INPUT_IMAGE_HEIGHT = 224\n",
        "  INPUT_IMAGE_WIDTH = 224\n",
        "  DEVICE = \"cuda\" if torch.cuda.is_available() else \"cpu\"\n",
        "  PIN_MEMORY = True if DEVICE == \"cuda\" else False\n",
        "  LEARNING_RATE = 3e-5\n",
        "  NUM_EPOCHS = 5\n",
        "  MODEL_PATH = \"/output/model.pth\"\n",
        "  PLOT_PATH = \"/output/plot.png\""
      ],
      "metadata": {
        "id": "luOLPwEejdSZ"
      },
      "execution_count": 3,
      "outputs": []
    },
    {
      "cell_type": "markdown",
      "source": [
        "## Download the dataset from google drive"
      ],
      "metadata": {
        "id": "-UHlEyKmOxNR"
      }
    },
    {
      "cell_type": "code",
      "source": [
        "# mount the google drive\n",
        "from google.colab import drive\n",
        "drive.mount('/content/drive')"
      ],
      "metadata": {
        "colab": {
          "base_uri": "https://localhost:8080/"
        },
        "id": "ELIidrIvOYPa",
        "outputId": "f800760e-b806-427f-98c5-0934d5e34580"
      },
      "execution_count": 4,
      "outputs": [
        {
          "output_type": "stream",
          "name": "stdout",
          "text": [
            "Drive already mounted at /content/drive; to attempt to forcibly remount, call drive.mount(\"/content/drive\", force_remount=True).\n"
          ]
        }
      ]
    },
    {
      "cell_type": "code",
      "source": [
        "#unzip the zip file\n",
        "!unzip -u \"/content/drive/MyDrive/lumbar_mid_sagittal.zip\" -d \"/content/drive/MyDrive/\""
      ],
      "metadata": {
        "colab": {
          "base_uri": "https://localhost:8080/"
        },
        "id": "xsbr9mWwOvW3",
        "outputId": "b3e45477-1eb2-4b62-a31f-3abbda867eed"
      },
      "execution_count": 5,
      "outputs": [
        {
          "output_type": "stream",
          "name": "stdout",
          "text": [
            "Archive:  /content/drive/MyDrive/lumbar_mid_sagittal.zip\n"
          ]
        }
      ]
    },
    {
      "cell_type": "code",
      "source": [
        "#download the image and ground truth mask\n",
        "image_dir = '/content/drive/MyDrive/lumbar_mid_sagittal/Images/'\n",
        "label_dir = '/content/drive/MyDrive/lumbar_mid_sagittal/Pseudo_Colored_Ground_Truth_Images'\n",
        "\n",
        "#print out the number of images and labels\n",
        "print(f'Total number of MRI scans: {len(os.listdir(image_dir))}')\n",
        "print(f'Total number of MRI labels: {len(os.listdir(label_dir))}')"
      ],
      "metadata": {
        "colab": {
          "base_uri": "https://localhost:8080/"
        },
        "id": "YAnvvi8MSa4L",
        "outputId": "94da6d0c-61cc-4938-ca40-f15123b320da"
      },
      "execution_count": 6,
      "outputs": [
        {
          "output_type": "stream",
          "name": "stdout",
          "text": [
            "Total number of MRI scans: 514\n",
            "Total number of MRI labels: 514\n"
          ]
        }
      ]
    },
    {
      "cell_type": "code",
      "source": [
        "DIR_SIZE = len(os.listdir(image_dir))\n",
        "print(sorted(os.listdir(image_dir)))"
      ],
      "metadata": {
        "colab": {
          "base_uri": "https://localhost:8080/"
        },
        "id": "Re4-XdMEWYgb",
        "outputId": "55d11a8b-5beb-4f2e-9aea-02f7b18a2ac1"
      },
      "execution_count": 7,
      "outputs": [
        {
          "output_type": "stream",
          "name": "stdout",
          "text": [
            "['T1_0001_S8.png', 'T1_0002_S8.png', 'T1_0003_S8.png', 'T1_0004_S7.png', 'T1_0005_S8.png', 'T1_0006_S8.png', 'T1_0007_S8.png', 'T1_0008_S7.png', 'T1_0009_S7.png', 'T1_0010_S8.png', 'T1_0011_S8.png', 'T1_0012_S8.png', 'T1_0013_S8.png', 'T1_0014_S8.png', 'T1_0015_S8.png', 'T1_0016_S8.png', 'T1_0017_S8.png', 'T1_0019_S8.png', 'T1_0020_S15.png', 'T1_0021_S8.png', 'T1_0022_S8.png', 'T1_0023_S8.png', 'T1_0024_S7.png', 'T1_0025_S8.png', 'T1_0026_S8.png', 'T1_0027_S14.png', 'T1_0029_S7.png', 'T1_0030_S8.png', 'T1_0031_S8.png', 'T1_0032_S8.png', 'T1_0033_S8.png', 'T1_0034_S8.png', 'T1_0035_S8.png', 'T1_0036_S8.png', 'T1_0037_S7.png', 'T1_0038_S8.png', 'T1_0039_S8.png', 'T1_0040_S8.png', 'T1_0041_S8.png', 'T1_0042_S15.png', 'T1_0043_S8.png', 'T1_0044_S8.png', 'T1_0046_S8.png', 'T1_0047_S8.png', 'T1_0048_S8.png', 'T1_0050_S8.png', 'T1_0051_S8.png', 'T1_0052_S8.png', 'T1_0053_S8.png', 'T1_0055_S15.png', 'T1_0056_S8.png', 'T1_0057_S8.png', 'T1_0058_S8.png', 'T1_0060_S8.png', 'T1_0061_S8.png', 'T1_0062_S8.png', 'T1_0063_S8.png', 'T1_0064_S8.png', 'T1_0065_S15.png', 'T1_0067_S8.png', 'T1_0068_S8.png', 'T1_0069_S8.png', 'T1_0070_S8.png', 'T1_0071_S8.png', 'T1_0072_S8.png', 'T1_0073_S15.png', 'T1_0074_S7.png', 'T1_0075_S8.png', 'T1_0077_S15.png', 'T1_0078_S8.png', 'T1_0080_S8.png', 'T1_0081_S8.png', 'T1_0082_S8.png', 'T1_0083_S8.png', 'T1_0084_S10.png', 'T1_0085_S8.png', 'T1_0086_S8.png', 'T1_0087_S8.png', 'T1_0088_S7.png', 'T1_0089_S8.png', 'T1_0090_S8.png', 'T1_0091_S8.png', 'T1_0092_S8.png', 'T1_0093_S8.png', 'T1_0094_S7.png', 'T1_0095_S7.png', 'T1_0096_S7.png', 'T1_0097_S8.png', 'T1_0098_S8.png', 'T1_0099_S8.png', 'T1_0100_S8.png', 'T1_0101_S8.png', 'T1_0103_S8.png', 'T1_0104_S7.png', 'T1_0105_S8.png', 'T1_0106_S8.png', 'T1_0107_S15.png', 'T1_0108_S8.png', 'T1_0109_S8.png', 'T1_0112_S8.png', 'T1_0113_S8.png', 'T1_0114_S8.png', 'T1_0115_S8.png', 'T1_0117_S8.png', 'T1_0118_S8.png', 'T1_0119_S8.png', 'T1_0120_S8.png', 'T1_0121_S8.png', 'T1_0122_S8.png', 'T1_0123_S8.png', 'T1_0124_S7.png', 'T1_0125_S8.png', 'T1_0126_S8.png', 'T1_0127_S8.png', 'T1_0128_S8.png', 'T1_0129_S8.png', 'T1_0130_S8.png', 'T1_0131_S7.png', 'T1_0132_S8.png', 'T1_0133_S8.png', 'T1_0134_S8.png', 'T1_0136_S8.png', 'T1_0137_S8.png', 'T1_0138_S6.png', 'T1_0139_S8.png', 'T1_0140_S8.png', 'T1_0143_S8.png', 'T1_0144_S8.png', 'T1_0145_S8.png', 'T1_0146_S8.png', 'T1_0147_S8.png', 'T1_0148_S8.png', 'T1_0149_S8.png', 'T1_0150_S8.png', 'T1_0151_S8.png', 'T1_0152_S8.png', 'T1_0153_S8.png', 'T1_0154_S8.png', 'T1_0155_S8.png', 'T1_0156_S8.png', 'T1_0157_S8.png', 'T1_0158_S8.png', 'T1_0159_S15.png', 'T1_0160_S8.png', 'T1_0161_S15.png', 'T1_0162_S8.png', 'T1_0163_S8.png', 'T1_0164_S7.png', 'T1_0165_S8.png', 'T1_0166_S8.png', 'T1_0167_S8.png', 'T1_0168_S8.png', 'T1_0169_S8.png', 'T1_0170_S8.png', 'T1_0171_S8.png', 'T1_0172_S8.png', 'T1_0173_S7.png', 'T1_0174_S7.png', 'T1_0175_S8.png', 'T1_0176_S8.png', 'T1_0177_S8.png', 'T1_0178_S8.png', 'T1_0179_S8.png', 'T1_0180_S8.png', 'T1_0181_S8.png', 'T1_0183_S8.png', 'T1_0184_S8.png', 'T1_0185_S7.png', 'T1_0186_S8.png', 'T1_0187_S7.png', 'T1_0188_S8.png', 'T1_0190_S8.png', 'T1_0191_S8.png', 'T1_0192_S8.png', 'T1_0193_S8.png', 'T1_0194_S8.png', 'T1_0195_S8.png', 'T1_0196_S8.png', 'T1_0197_S8.png', 'T1_0198_S15.png', 'T1_0199_S8.png', 'T1_0200_S7.png', 'T1_0201_S8.png', 'T1_0202_S8.png', 'T1_0203_S8.png', 'T1_0204_S8.png', 'T1_0205_S8.png', 'T1_0207_S8.png', 'T1_0208_S8.png', 'T1_0209_S8.png', 'T1_0210_S8.png', 'T1_0211_S8.png', 'T1_0212_S8.png', 'T1_0213_S8.png', 'T1_0214_S8.png', 'T1_0215_S8.png', 'T1_0216_S8.png', 'T1_0217_S8.png', 'T1_0218_S8.png', 'T1_0219_S8.png', 'T1_0220_S7.png', 'T1_0221_S8.png', 'T1_0222_S8.png', 'T1_0223_S7.png', 'T1_0224_S8.png', 'T1_0226_S8.png', 'T1_0227_S8.png', 'T1_0228_S8.png', 'T1_0229_S8.png', 'T1_0230_S5.png', 'T1_0232_S8.png', 'T1_0233_S23.png', 'T1_0234_S8.png', 'T1_0235_S8.png', 'T1_0236_S8.png', 'T1_0239_S8.png', 'T1_0240_S8.png', 'T1_0241_S8.png', 'T1_0242_S8.png', 'T1_0243_S15.png', 'T1_0244_S7.png', 'T1_0245_S8.png', 'T1_0246_S14.png', 'T1_0247_S8.png', 'T1_0248_S8.png', 'T1_0249_S8.png', 'T1_0250_S8.png', 'T1_0251_S8.png', 'T1_0252_S8.png', 'T1_0253_S8.png', 'T1_0254_S8.png', 'T1_0255_S8.png', 'T1_0256_S8.png', 'T1_0257_S8.png', 'T1_0258_S8.png', 'T1_0259_S8.png', 'T1_0260_S8.png', 'T1_0261_S8.png', 'T1_0263_S8.png', 'T1_0264_S8.png', 'T1_0265_S8.png', 'T1_0266_S8.png', 'T1_0267_S8.png', 'T1_0268_S8.png', 'T1_0269_S8.png', 'T1_0270_S8.png', 'T1_0271_S8.png', 'T1_0272_S8.png', 'T1_0274_S8.png', 'T1_0275_S8.png', 'T1_0276_S8.png', 'T1_0277_S7.png', 'T1_0278_S8.png', 'T1_0279_S8.png', 'T1_0280_S8.png', 'T1_0281_S8.png', 'T1_0282_S8.png', 'T1_0283_S8.png', 'T1_0284_S8.png', 'T1_0285_S8.png', 'T1_0286_S8.png', 'T1_0287_S8.png', 'T1_0288_S8.png', 'T1_0290_S8.png', 'T1_0291_S8.png', 'T1_0292_S8.png', 'T1_0293_S8.png', 'T1_0294_S8.png', 'T1_0295_S8.png', 'T1_0296_S8.png', 'T1_0297_S8.png', 'T1_0298_S7.png', 'T1_0299_S7.png', 'T1_0300_S8.png', 'T1_0301_S8.png', 'T1_0303_S8.png', 'T1_0304_S8.png', 'T1_0305_S8.png', 'T1_0306_S8.png', 'T1_0307_S8.png', 'T1_0308_S8.png', 'T1_0309_S8.png', 'T1_0310_S8.png', 'T1_0311_S8.png', 'T1_0313_S8.png', 'T1_0314_S8.png', 'T1_0316_S8.png', 'T1_0317_S8.png', 'T1_0318_S8.png', 'T1_0319_S8.png', 'T1_0320_S8.png', 'T1_0322_S8.png', 'T1_0323_S7.png', 'T1_0324_S8.png', 'T1_0325_S8.png', 'T1_0326_S8.png', 'T1_0329_S8.png', 'T1_0331_S8.png', 'T1_0332_S8.png', 'T1_0333_S8.png', 'T1_0334_S8.png', 'T1_0335_S8.png', 'T1_0336_S7.png', 'T1_0337_S8.png', 'T1_0338_S8.png', 'T1_0339_S8.png', 'T1_0340_S8.png', 'T1_0341_S8.png', 'T1_0342_S8.png', 'T1_0343_S8.png', 'T1_0344_S8.png', 'T1_0345_S8.png', 'T1_0346_S8.png', 'T1_0347_S8.png', 'T1_0348_S8.png', 'T1_0349_S8.png', 'T1_0350_S8.png', 'T1_0351_S8.png', 'T1_0352_S8.png', 'T1_0353_S7.png', 'T1_0354_S8.png', 'T1_0355_S8.png', 'T1_0356_S7.png', 'T1_0357_S8.png', 'T1_0358_S8.png', 'T1_0359_S8.png', 'T1_0362_S8.png', 'T1_0363_S8.png', 'T1_0364_S8.png', 'T1_0365_S8.png', 'T1_0366_S8.png', 'T1_0367_S8.png', 'T1_0368_S8.png', 'T1_0370_S8.png', 'T1_0371_S8.png', 'T1_0372_S8.png', 'T1_0373_S8.png', 'T1_0375_S8.png', 'T1_0377_S8.png', 'T1_0378_S8.png', 'T1_0379_S8.png', 'T1_0380_S8.png', 'T1_0381_S8.png', 'T1_0382_S7.png', 'T1_0383_S8.png', 'T1_0384_S8.png', 'T1_0385_S8.png', 'T1_0386_S8.png', 'T1_0387_S8.png', 'T1_0388_S8.png', 'T1_0389_S8.png', 'T1_0390_S8.png', 'T1_0391_S8.png', 'T1_0392_S8.png', 'T1_0393_S8.png', 'T1_0394_S8.png', 'T1_0395_S9.png', 'T1_0396_S8.png', 'T1_0397_S8.png', 'T1_0399_S8.png', 'T1_0400_S8.png', 'T1_0401_S8.png', 'T1_0402_S8.png', 'T1_0403_S8.png', 'T1_0404_S8.png', 'T1_0405_S8.png', 'T1_0406_S8.png', 'T1_0407_S8.png', 'T1_0408_S8.png', 'T1_0409_S8.png', 'T1_0410_S8.png', 'T1_0411_S8.png', 'T1_0412_S8.png', 'T1_0413_S15.png', 'T1_0414_S8.png', 'T1_0415_S8.png', 'T1_0416_S8.png', 'T1_0417_S8.png', 'T1_0419_S8.png', 'T1_0420_S8.png', 'T1_0421_S8.png', 'T1_0422_S8.png', 'T1_0423_S7.png', 'T1_0424_S8.png', 'T1_0425_S8.png', 'T1_0426_S7.png', 'T1_0427_S8.png', 'T1_0428_S8.png', 'T1_0429_S8.png', 'T1_0430_S8.png', 'T1_0431_S8.png', 'T1_0432_S8.png', 'T1_0433_S8.png', 'T1_0434_S8.png', 'T1_0435_S8.png', 'T1_0436_S8.png', 'T1_0437_S8.png', 'T1_0438_S7.png', 'T1_0439_S8.png', 'T1_0441_S8.png', 'T1_0442_S8.png', 'T1_0443_S8.png', 'T1_0444_S8.png', 'T1_0445_S8.png', 'T1_0446_S8.png', 'T1_0447_S8.png', 'T1_0448_S8.png', 'T1_0449_S8.png', 'T1_0450_S8.png', 'T1_0451_S8.png', 'T1_0452_S8.png', 'T1_0453_S8.png', 'T1_0454_S8.png', 'T1_0455_S8.png', 'T1_0456_S7.png', 'T1_0457_S8.png', 'T1_0458_S8.png', 'T1_0459_S15.png', 'T1_0460_S8.png', 'T1_0461_S8.png', 'T1_0462_S8.png', 'T1_0464_S8.png', 'T1_0466_S8.png', 'T1_0467_S8.png', 'T1_0468_S8.png', 'T1_0469_S8.png', 'T1_0470_S8.png', 'T1_0471_S8.png', 'T1_0472_S8.png', 'T1_0473_S8.png', 'T1_0474_S8.png', 'T1_0475_S8.png', 'T1_0476_S8.png', 'T1_0477_S8.png', 'T1_0479_S8.png', 'T1_0482_S8.png', 'T1_0484_S8.png', 'T1_0486_S8.png', 'T1_0487_S15.png', 'T1_0488_S8.png', 'T1_0492_S8.png', 'T1_0493_S8.png', 'T1_0494_S8.png', 'T1_0495_S8.png', 'T1_0496_S8.png', 'T1_0497_S8.png', 'T1_0499_S8.png', 'T1_0500_S8.png', 'T1_0501_S8.png', 'T1_0502_S8.png', 'T1_0503_S8.png', 'T1_0504_S8.png', 'T1_0505_S8.png', 'T1_0506_S8.png', 'T1_0507_S8.png', 'T1_0508_S8.png', 'T1_0509_S8.png', 'T1_0510_S8.png', 'T1_0512_S8.png', 'T1_0514_S8.png', 'T1_0515_S8.png', 'T1_0516_S8.png', 'T1_0517_S8.png', 'T1_0518_S8.png', 'T1_0519_S15.png', 'T1_0520_S8.png', 'T1_0521_S8.png', 'T1_0522_S8.png', 'T1_0523_S8.png', 'T1_0524_S8.png', 'T1_0525_S7.png', 'T1_0526_S8.png', 'T1_0527_S8.png', 'T1_0528_S8.png', 'T1_0529_S8.png', 'T1_0531_S8.png', 'T1_0532_S8.png', 'T1_0533_S8.png', 'T1_0534_S8.png', 'T1_0536_S8.png', 'T1_0537_S8.png', 'T1_0538_S8.png', 'T1_0539_S8.png', 'T1_0540_S8.png', 'T1_0541_S7.png', 'T1_0542_S8.png', 'T1_0543_S8.png', 'T1_0545_S8.png', 'T1_0546_S8.png', 'T1_0547_S8.png', 'T1_0548_S8.png', 'T1_0549_S8.png', 'T1_0550_S8.png', 'T1_0551_S8.png', 'T1_0552_S8.png', 'T1_0555_S15.png', 'T1_0556_S8.png', 'T1_0557_S8.png', 'T1_0558_S8.png', 'T1_0559_S8.png', 'T1_0560_S8.png', 'T1_0561_S7.png', 'T1_0562_S8.png', 'T1_0563_S8.png', 'T1_0564_S8.png', 'T1_0565_S8.png', 'T1_0567_S7.png', 'T1_0568_S8.png', 'T1_0569_S8.png', 'T1_0570_S7.png', 'T1_0571_S9.png', 'T1_0572_S8.png', 'T1_0573_S8.png', 'T1_0575_S8.png']\n"
          ]
        }
      ]
    },
    {
      "cell_type": "markdown",
      "source": [
        "## Visualize an example image and label\n",
        "\n"
      ],
      "metadata": {
        "id": "Lhfs6hawURbo"
      }
    },
    {
      "cell_type": "code",
      "source": [
        "#parameters: img_dir -> string that specifies where the images are stored at; label_dir -> similar\n",
        "\n",
        "def view_img_label(img_dir, label_dir):\n",
        "  dir_size = DIR_SIZE\n",
        "  #rand_int = np.random.randint(0, dir_size-1)\n",
        "  rand_int=0\n",
        "  ex_img_dir = os.path.join(image_dir, sorted(os.listdir(image_dir))[rand_int])\n",
        "  print(ex_img_dir)\n",
        "  ex_img = cv2.imread(ex_img_dir)\n",
        "  ex_label_dir = os.path.join(label_dir, sorted(os.listdir(label_dir))[rand_int])\n",
        "  print(ex_label_dir)\n",
        "  ex_label = cv2.imread(ex_label_dir)\n",
        "\n",
        "  #cv2_imshow(ex_img)\n",
        "  #cv2_imshow(ex_label)\n",
        "  return ex_img, ex_label, ex_img_dir, ex_label_dir"
      ],
      "metadata": {
        "id": "bSVL6-7jUu2c"
      },
      "execution_count": 8,
      "outputs": []
    },
    {
      "cell_type": "code",
      "source": [
        "ex_img, ex_label, ex_img_dir, ex_label_dir = view_img_label(image_dir, label_dir)\n",
        "print(f'image shape: {ex_img.shape}')\n",
        "print(f'label shape: {ex_label.shape}')\n",
        "#print(ex_img)\n",
        "figure, ax = plt.subplots(nrows=1, ncols=2, figsize=(10, 10))\n",
        "# plot the original image, its mask, and the predicted mask\n",
        "ax[0].imshow(ex_img)\n",
        "ax[1].imshow(ex_label)\n",
        "\n",
        "# set the titles of the subplots\n",
        "ax[0].set_title(\"Image\")\n",
        "ax[1].set_title(\"Original Mask\")\n",
        "ax[0].grid(True)\n",
        "ax[1].grid(True)\n",
        "\n",
        "# set the layout of the figure and display it\n",
        "figure.tight_layout()\n",
        "figure.show()"
      ],
      "metadata": {
        "colab": {
          "base_uri": "https://localhost:8080/",
          "height": 453
        },
        "id": "Gvbs8eN-TFJY",
        "outputId": "5772a855-a758-439d-fea4-1d536debecb7"
      },
      "execution_count": 9,
      "outputs": [
        {
          "output_type": "stream",
          "name": "stdout",
          "text": [
            "/content/drive/MyDrive/lumbar_mid_sagittal/Images/T1_0001_S8.png\n",
            "/content/drive/MyDrive/lumbar_mid_sagittal/Pseudo_Colored_Ground_Truth_Images/T1_0001_S8.png\n",
            "image shape: (320, 320, 3)\n",
            "label shape: (320, 320, 3)\n"
          ]
        },
        {
          "output_type": "display_data",
          "data": {
            "text/plain": [
              "<Figure size 720x720 with 2 Axes>"
            ],
            "image/png": "[encoded data removed]"
          },
          "metadata": {
            "needs_background": "light"
          }
        }
      ]
    },
    {
      "cell_type": "code",
      "source": [
        "print(ex_img)"
      ],
      "metadata": {
        "colab": {
          "base_uri": "https://localhost:8080/"
        },
        "id": "yGlQGjwgZcmZ",
        "outputId": "854f01b8-6a72-491a-8ab5-fab7eda25d63"
      },
      "execution_count": 10,
      "outputs": [
        {
          "output_type": "stream",
          "name": "stdout",
          "text": [
            "[[[ 7  7  7]\n",
            "  [ 5  5  5]\n",
            "  [ 4  4  4]\n",
            "  ...\n",
            "  [ 0  0  0]\n",
            "  [ 0  0  0]\n",
            "  [ 0  0  0]]\n",
            "\n",
            " [[ 9  9  9]\n",
            "  [ 1  1  1]\n",
            "  [ 0  0  0]\n",
            "  ...\n",
            "  [ 0  0  0]\n",
            "  [ 0  0  0]\n",
            "  [ 0  0  0]]\n",
            "\n",
            " [[16 16 16]\n",
            "  [32 32 32]\n",
            "  [37 37 37]\n",
            "  ...\n",
            "  [ 0  0  0]\n",
            "  [ 0  0  0]\n",
            "  [ 0  0  0]]\n",
            "\n",
            " ...\n",
            "\n",
            " [[ 2  2  2]\n",
            "  [ 8  8  8]\n",
            "  [ 9  9  9]\n",
            "  ...\n",
            "  [ 0  0  0]\n",
            "  [ 0  0  0]\n",
            "  [ 0  0  0]]\n",
            "\n",
            " [[ 1  1  1]\n",
            "  [ 2  2  2]\n",
            "  [ 1  1  1]\n",
            "  ...\n",
            "  [ 0  0  0]\n",
            "  [ 0  0  0]\n",
            "  [ 0  0  0]]\n",
            "\n",
            " [[ 2  2  2]\n",
            "  [ 2  2  2]\n",
            "  [ 2  2  2]\n",
            "  ...\n",
            "  [ 0  0  0]\n",
            "  [ 0  0  0]\n",
            "  [ 0  0  0]]]\n"
          ]
        }
      ]
    },
    {
      "cell_type": "markdown",
      "source": [
        "## Data formatting\n",
        "- mask shape: [height x width] and contain class indices for each pixel location in the range (0, nb_classes=7)"
      ],
      "metadata": {
        "id": "axIj-o8HwvIl"
      }
    },
    {
      "cell_type": "code",
      "source": [
        "#TODO: print out all the unique color labels\n",
        "\n",
        "#flatten out the image -> [[R,G,B]*(width*height)]\n",
        "print(np.unique(ex_label))\n",
        "print(ex_label.shape[0])\n",
        "print(ex_label[3,3])\n",
        "\n",
        "def flatten_img(img):\n",
        "  width = img.shape[0]\n",
        "  height = img.shape[1]\n",
        "\n",
        "  temp = []\n",
        "\n",
        "  for w in range(width):\n",
        "    for h in range(height):\n",
        "      temp.append(img[w, h])\n",
        "  return temp\n",
        "\n",
        "ex_label_flatten = flatten_img(ex_label)\n",
        "\n",
        "unique_data = [list(x) for x in set(tuple(x) for x in ex_label_flatten)]\n",
        "print(unique_data)\n",
        "\n",
        "#[[0, 255, 255], [255, 255, 0], [0, 0, 255], [255, 0, 0], [255, 0, 255], [0, 0, 0], [0, 255, 0]]"
      ],
      "metadata": {
        "colab": {
          "base_uri": "https://localhost:8080/"
        },
        "id": "nIghD_AVxQU7",
        "outputId": "c5716e64-5137-4736-ef0e-77df8997803b"
      },
      "execution_count": 11,
      "outputs": [
        {
          "output_type": "stream",
          "name": "stdout",
          "text": [
            "[  0 255]\n",
            "320\n",
            "[0 0 0]\n",
            "[[0, 255, 255], [255, 255, 0], [0, 0, 255], [255, 0, 0], [255, 0, 255], [0, 0, 0], [0, 255, 0]]\n"
          ]
        }
      ]
    },
    {
      "cell_type": "code",
      "source": [
        "#given an color-coded mask, format in such that each pixel location in the range contains an integer from 0 to 7\n",
        "colorToClass = {\n",
        "    (0, 0, 0) : 'background',\n",
        "    (255, 255, 0) : 'L1',\n",
        "    (255, 0, 0) : 'L2',\n",
        "    (0, 255, 0) : 'L3',\n",
        "    (0, 255, 255) : 'L4',\n",
        "    (0, 0, 255) : 'L5',\n",
        "    (255, 0, 255) : 'S1'\n",
        "}\n",
        "\n",
        "classToInt = {\n",
        "    'background': 0,\n",
        "    'L1': 1,\n",
        "    'L2': 1,\n",
        "    'L3': 1,\n",
        "    'L4': 1,\n",
        "    'L5': 1,\n",
        "    'S1': 1\n",
        "}\n",
        "\n",
        "def RGBtoInt(label_img):\n",
        "  temp = np.zeros((label_img.shape[0], label_img.shape[1]))\n",
        "  for i in range(label_img.shape[0]):\n",
        "    for j in range(label_img.shape[1]):\n",
        "      temp[i, j] = int(classToInt.get(colorToClass.get(tuple(label_img[i, j]))))\n",
        "  return temp\n",
        "\n",
        "#test RGBtoInt function\n",
        "#print(ex_label)\n",
        "test_label_Int = RGBtoInt(ex_label)\n",
        "print(test_label_Int)\n",
        "print(np.unique(test_label_Int))\n",
        "#print(torch.FloatTensor(test_label_Int[100]))\n",
        "print(test_label_Int[0,0])\n",
        "non_background = 0\n",
        "for i in range(test_label_Int.shape[0]):\n",
        "  for j in range(test_label_Int.shape[1]):\n",
        "    if int(test_label_Int[i,j]) == 0:\n",
        "      non_background += 1\n",
        "\n",
        "total_pixels = test_label_Int.shape[0] * test_label_Int.shape[1]\n",
        "print(f'Percentage of background: {non_background/total_pixels*100}%')\n"
      ],
      "metadata": {
        "colab": {
          "base_uri": "https://localhost:8080/"
        },
        "id": "u7OpV_p9w7r8",
        "outputId": "9b85ad5b-f57b-4082-a717-eda7d39e2e46"
      },
      "execution_count": 12,
      "outputs": [
        {
          "output_type": "stream",
          "name": "stdout",
          "text": [
            "[[0. 0. 0. ... 0. 0. 0.]\n",
            " [0. 0. 0. ... 0. 0. 0.]\n",
            " [0. 0. 0. ... 0. 0. 0.]\n",
            " ...\n",
            " [0. 0. 0. ... 0. 0. 0.]\n",
            " [0. 0. 0. ... 0. 0. 0.]\n",
            " [0. 0. 0. ... 0. 0. 0.]]\n",
            "[0. 1.]\n",
            "0.0\n",
            "Percentage of background: 94.216796875%\n"
          ]
        }
      ]
    },
    {
      "cell_type": "markdown",
      "source": [
        "## Resize to (config.HEIGHT, config.WIDTH)\n"
      ],
      "metadata": {
        "id": "Tr31UMBmSTpN"
      }
    },
    {
      "cell_type": "code",
      "source": [
        "def resize_img(img, img_stack=1):\n",
        "  width = config.INPUT_IMAGE_WIDTH #224\n",
        "  height = config.INPUT_IMAGE_HEIGHT #224\n",
        "  img_stack_sm = np.zeros((width, height, img_stack)) #empty list of (3, 224, 224)\n",
        "\n",
        "  if img_stack==1:\n",
        "    img_stack_sm = cv2.resize(img, (width, height), interpolation=cv2.INTER_NEAREST)\n",
        "  else:\n",
        "    for idx in range(img_stack):\n",
        "      img2 = img[:, :, idx]\n",
        "      #print(img2.shape)\n",
        "      img_sm = cv2.resize(img2, (width, height), interpolation=cv2.INTER_NEAREST)\n",
        "      #print(img_sm.shape)\n",
        "      img_stack_sm[:, :, idx] = img_sm\n",
        "  return img_stack_sm\n",
        "\n",
        "#print(ex_img)\n",
        "test_resize_img= resize_img(ex_img, 3)\n",
        "#print(test_resize_img)\n",
        "#print(np.unique(test_resize_img))"
      ],
      "metadata": {
        "id": "gNf0DbJ7Sa39"
      },
      "execution_count": 13,
      "outputs": []
    },
    {
      "cell_type": "markdown",
      "source": [
        "## Load all data into SpineData"
      ],
      "metadata": {
        "id": "51pdp85jdX1x"
      }
    },
    {
      "cell_type": "code",
      "source": [
        "class spineData(Dataset):\n",
        "  def __init__(self, path, label_path, transform):\n",
        "    self.files = sorted(os.listdir(path))\n",
        "    self.labels = sorted(os.listdir(label_path))\n",
        "    self.transform = transform\n",
        "    self.path = path\n",
        "    self.labelpath = label_path\n",
        "\n",
        "  def __len__(self):\n",
        "    return len(self.files)\n",
        "\n",
        "  def __getitem__(self, index):\n",
        "    filename = os.path.join(self.path, self.files[index])\n",
        "    #print(filename)\n",
        "    tensor_image = cv2.imread(filename)\n",
        "    tensor_image = cv2.resize(tensor_image, (config.INPUT_IMAGE_WIDTH, config.INPUT_IMAGE_HEIGHT))\n",
        "    #print('img: ',image)\n",
        "    #tensor_image = resize_img(image, 3)\n",
        "    tensor_image = torch.LongTensor(tensor_image)\n",
        "    #plt.imshow(tensor_image)\n",
        "    tensor_image = torch.permute(tensor_image, (2,0,1))\n",
        "    #tensor_image = F.interpolate(tensor_image, size=(3, 224, 224), mode='bicubic', align_corners=False)\n",
        "\n",
        "    label_filename = os.path.join(self.labelpath, self.labels[index])\n",
        "    label = cv2.imread(label_filename)\n",
        "    label = resize_img(RGBtoInt(label))\n",
        "    #tensor_label = self.transform(label)\n",
        "    tensor_label = torch.LongTensor(label)\n",
        "    #tensor_label = F.interpolate(tensor_label, size=(224, 224), mode='bicubic', align_corners=False)\n",
        "\n",
        "    return tensor_image, tensor_label"
      ],
      "metadata": {
        "id": "mbZxyYgZVE2j"
      },
      "execution_count": 14,
      "outputs": []
    },
    {
      "cell_type": "code",
      "source": [
        "transform = transforms.ToTensor()\n",
        "# define transformations\n",
        "# transform = transforms.Compose([transforms.ToPILImage(),\n",
        "#  \ttransforms.Resize((config.INPUT_IMAGE_HEIGHT,\n",
        "# \t\tconfig.INPUT_IMAGE_WIDTH)),\n",
        "# \ttransforms.ToTensor()])\n",
        "spine_dataset = spineData(image_dir, label_dir, transform)"
      ],
      "metadata": {
        "id": "O1hgj4RPfwgj"
      },
      "execution_count": 15,
      "outputs": []
    },
    {
      "cell_type": "code",
      "source": [
        "#plt.imshow(spine_dataset[0][0])\n",
        "\n",
        "print(np.unique(spine_dataset[0][1])) #resize with keeping new labels\n",
        "print(spine_dataset[0][0].shape)\n",
        "print(spine_dataset[0][1].shape)\n",
        "print(len(spine_dataset))"
      ],
      "metadata": {
        "colab": {
          "base_uri": "https://localhost:8080/"
        },
        "id": "d1Gd84VVgJpQ",
        "outputId": "b5e34987-e092-4387-bbc2-a75c3b466292"
      },
      "execution_count": 16,
      "outputs": [
        {
          "output_type": "stream",
          "name": "stdout",
          "text": [
            "[0 1]\n",
            "torch.Size([3, 224, 224])\n",
            "torch.Size([224, 224])\n",
            "514\n"
          ]
        }
      ]
    },
    {
      "cell_type": "markdown",
      "source": [
        "## Make train and val datasets, dataloaders"
      ],
      "metadata": {
        "id": "phREJNLPjLwq"
      }
    },
    {
      "cell_type": "code",
      "source": [
        "print(f'total size: {len(spine_dataset)}')\n",
        "train_size = int(0.9 * len(spine_dataset))\n",
        "val_size = len(spine_dataset) - train_size\n",
        "print(f'train size: {train_size}\\nvalidation size: {val_size}')\n",
        "train, val = torch.utils.data.random_split(spine_dataset, [train_size, val_size])\n",
        "print(len(train))\n",
        "print(val[0][1].shape)"
      ],
      "metadata": {
        "colab": {
          "base_uri": "https://localhost:8080/"
        },
        "id": "djMlEPZIgOYM",
        "outputId": "8f396640-b109-4bfb-9cf0-73df6894288f"
      },
      "execution_count": 17,
      "outputs": [
        {
          "output_type": "stream",
          "name": "stdout",
          "text": [
            "total size: 514\n",
            "train size: 462\n",
            "validation size: 52\n",
            "462\n",
            "torch.Size([224, 224])\n"
          ]
        }
      ]
    },
    {
      "cell_type": "code",
      "source": [
        "train_dataloader = DataLoader(train, shuffle=True,\n",
        "\tbatch_size=config.BATCH_SIZE, pin_memory=config.PIN_MEMORY,\n",
        "\tnum_workers=os.cpu_count())\n",
        "\n",
        "train_x, train_y = next(iter(train_dataloader))\n",
        "\n",
        "print(f'train_x = shape: {train_x.shape}; type: {train_x.dtype}')\n",
        "print(f'train_x = min: {train_x.min()}; max: {train_x.max()}')\n",
        "#print(f'train_y = shape: {train_y.shape}; class: {train_y.unique()}; type: {train_y.dtype}')\n",
        "\n",
        "val_dataloader = DataLoader(val, shuffle=False,\n",
        "\tbatch_size=config.BATCH_SIZE, pin_memory=config.PIN_MEMORY,\n",
        "\tnum_workers=os.cpu_count())\n",
        "\n",
        "val_x, val_y = next(iter(val_dataloader))\n",
        "print(f'val_x = shape: {val_x.shape}')\n",
        "print(f'val_y = shape: {val_y.shape}')\n",
        "\n",
        "dataloaders = {\n",
        "  'train': train_dataloader,\n",
        "  'val': val_dataloader\n",
        "}\n",
        "\n",
        "print(len(train_dataloader))\n",
        "print(len(val_dataloader))"
      ],
      "metadata": {
        "colab": {
          "base_uri": "https://localhost:8080/"
        },
        "id": "DYjytNPSirrN",
        "outputId": "2beb5a6a-e086-4d09-d95a-863d603bcdc7"
      },
      "execution_count": 18,
      "outputs": [
        {
          "output_type": "stream",
          "name": "stdout",
          "text": [
            "train_x = shape: torch.Size([20, 3, 224, 224]); type: torch.int64\n",
            "train_x = min: 0; max: 253\n",
            "val_x = shape: torch.Size([20, 3, 224, 224])\n",
            "val_y = shape: torch.Size([20, 224, 224])\n",
            "24\n",
            "3\n"
          ]
        }
      ]
    },
    {
      "cell_type": "markdown",
      "source": [
        "## 2D U-Net Architecture"
      ],
      "metadata": {
        "id": "agqFgpntkXCY"
      }
    },
    {
      "cell_type": "code",
      "source": [
        "import torch \n",
        "import torch.nn as nn\n",
        "import torchvision.transforms.functional as TF \n",
        "\n",
        "class UNET(nn.Module):\n",
        "    \n",
        "    def __init__(self, in_channels=3, classes=1):\n",
        "        super(UNET, self).__init__()\n",
        "        self.layers = [in_channels, 64, 128, 256, 512, 1024]\n",
        "        \n",
        "        self.double_conv_downs = nn.ModuleList(\n",
        "            [self.__double_conv(layer, layer_n) for layer, layer_n in zip(self.layers[:-1], self.layers[1:])])\n",
        "        \n",
        "        self.up_trans = nn.ModuleList(\n",
        "            [nn.ConvTranspose2d(layer, layer_n, kernel_size=2, stride=2)\n",
        "             for layer, layer_n in zip(self.layers[::-1][:-2], self.layers[::-1][1:-1])])\n",
        "            \n",
        "        self.double_conv_ups = nn.ModuleList(\n",
        "        [self.__double_conv(layer, layer//2) for layer in self.layers[::-1][:-2]])\n",
        "        \n",
        "        self.max_pool_2x2 = nn.MaxPool2d(kernel_size=2, stride=2)\n",
        "        \n",
        "        self.final_conv = nn.Conv2d(64, classes, kernel_size=1)\n",
        "\n",
        "        \n",
        "    def __double_conv(self, in_channels, out_channels):\n",
        "        conv = nn.Sequential(\n",
        "            nn.Conv2d(in_channels, out_channels, kernel_size=3, padding=1, bias=False),\n",
        "            nn.BatchNorm2d(out_channels),\n",
        "            nn.ReLU(inplace=True),\n",
        "            nn.Conv2d(out_channels, out_channels, kernel_size=3, padding=1),\n",
        "            nn.ReLU(inplace=True)\n",
        "        )\n",
        "        return conv\n",
        "    \n",
        "    def forward(self, x):\n",
        "        # down layers\n",
        "        concat_layers = []\n",
        "        \n",
        "        for down in self.double_conv_downs:\n",
        "            x = down(x)\n",
        "            if down != self.double_conv_downs[-1]:\n",
        "                concat_layers.append(x)\n",
        "                x = self.max_pool_2x2(x)\n",
        "        \n",
        "        concat_layers = concat_layers[::-1]\n",
        "        \n",
        "        # up layers\n",
        "        for up_trans, double_conv_up, concat_layer  in zip(self.up_trans, self.double_conv_ups, concat_layers):\n",
        "            x = up_trans(x)\n",
        "            if x.shape != concat_layer.shape:\n",
        "                x = TF.resize(x, concat_layer.shape[2:])\n",
        "            \n",
        "            concatenated = torch.cat((concat_layer, x), dim=1)\n",
        "            x = double_conv_up(concatenated)\n",
        "            \n",
        "        x = self.final_conv(x)\n",
        "        \n",
        "        return x "
      ],
      "metadata": {
        "id": "2Mblyr5eA1i7"
      },
      "execution_count": 19,
      "outputs": []
    },
    {
      "cell_type": "code",
      "source": [
        "model = UNET(in_channels=3, classes=2).to(config.DEVICE)\n",
        "model"
      ],
      "metadata": {
        "colab": {
          "base_uri": "https://localhost:8080/"
        },
        "id": "Ol8uhVRa8RFr",
        "outputId": "a5d295f0-724d-4c31-9ed8-cf88d6dfcdd6"
      },
      "execution_count": 20,
      "outputs": [
        {
          "output_type": "execute_result",
          "data": {
            "text/plain": [
              "UNET(\n",
              "  (double_conv_downs): ModuleList(\n",
              "    (0): Sequential(\n",
              "      (0): Conv2d(3, 64, kernel_size=(3, 3), stride=(1, 1), padding=(1, 1), bias=False)\n",
              "      (1): BatchNorm2d(64, eps=1e-05, momentum=0.1, affine=True, track_running_stats=True)\n",
              "      (2): ReLU(inplace=True)\n",
              "      (3): Conv2d(64, 64, kernel_size=(3, 3), stride=(1, 1), padding=(1, 1))\n",
              "      (4): ReLU(inplace=True)\n",
              "    )\n",
              "    (1): Sequential(\n",
              "      (0): Conv2d(64, 128, kernel_size=(3, 3), stride=(1, 1), padding=(1, 1), bias=False)\n",
              "      (1): BatchNorm2d(128, eps=1e-05, momentum=0.1, affine=True, track_running_stats=True)\n",
              "      (2): ReLU(inplace=True)\n",
              "      (3): Conv2d(128, 128, kernel_size=(3, 3), stride=(1, 1), padding=(1, 1))\n",
              "      (4): ReLU(inplace=True)\n",
              "    )\n",
              "    (2): Sequential(\n",
              "      (0): Conv2d(128, 256, kernel_size=(3, 3), stride=(1, 1), padding=(1, 1), bias=False)\n",
              "      (1): BatchNorm2d(256, eps=1e-05, momentum=0.1, affine=True, track_running_stats=True)\n",
              "      (2): ReLU(inplace=True)\n",
              "      (3): Conv2d(256, 256, kernel_size=(3, 3), stride=(1, 1), padding=(1, 1))\n",
              "      (4): ReLU(inplace=True)\n",
              "    )\n",
              "    (3): Sequential(\n",
              "      (0): Conv2d(256, 512, kernel_size=(3, 3), stride=(1, 1), padding=(1, 1), bias=False)\n",
              "      (1): BatchNorm2d(512, eps=1e-05, momentum=0.1, affine=True, track_running_stats=True)\n",
              "      (2): ReLU(inplace=True)\n",
              "      (3): Conv2d(512, 512, kernel_size=(3, 3), stride=(1, 1), padding=(1, 1))\n",
              "      (4): ReLU(inplace=True)\n",
              "    )\n",
              "    (4): Sequential(\n",
              "      (0): Conv2d(512, 1024, kernel_size=(3, 3), stride=(1, 1), padding=(1, 1), bias=False)\n",
              "      (1): BatchNorm2d(1024, eps=1e-05, momentum=0.1, affine=True, track_running_stats=True)\n",
              "      (2): ReLU(inplace=True)\n",
              "      (3): Conv2d(1024, 1024, kernel_size=(3, 3), stride=(1, 1), padding=(1, 1))\n",
              "      (4): ReLU(inplace=True)\n",
              "    )\n",
              "  )\n",
              "  (up_trans): ModuleList(\n",
              "    (0): ConvTranspose2d(1024, 512, kernel_size=(2, 2), stride=(2, 2))\n",
              "    (1): ConvTranspose2d(512, 256, kernel_size=(2, 2), stride=(2, 2))\n",
              "    (2): ConvTranspose2d(256, 128, kernel_size=(2, 2), stride=(2, 2))\n",
              "    (3): ConvTranspose2d(128, 64, kernel_size=(2, 2), stride=(2, 2))\n",
              "  )\n",
              "  (double_conv_ups): ModuleList(\n",
              "    (0): Sequential(\n",
              "      (0): Conv2d(1024, 512, kernel_size=(3, 3), stride=(1, 1), padding=(1, 1), bias=False)\n",
              "      (1): BatchNorm2d(512, eps=1e-05, momentum=0.1, affine=True, track_running_stats=True)\n",
              "      (2): ReLU(inplace=True)\n",
              "      (3): Conv2d(512, 512, kernel_size=(3, 3), stride=(1, 1), padding=(1, 1))\n",
              "      (4): ReLU(inplace=True)\n",
              "    )\n",
              "    (1): Sequential(\n",
              "      (0): Conv2d(512, 256, kernel_size=(3, 3), stride=(1, 1), padding=(1, 1), bias=False)\n",
              "      (1): BatchNorm2d(256, eps=1e-05, momentum=0.1, affine=True, track_running_stats=True)\n",
              "      (2): ReLU(inplace=True)\n",
              "      (3): Conv2d(256, 256, kernel_size=(3, 3), stride=(1, 1), padding=(1, 1))\n",
              "      (4): ReLU(inplace=True)\n",
              "    )\n",
              "    (2): Sequential(\n",
              "      (0): Conv2d(256, 128, kernel_size=(3, 3), stride=(1, 1), padding=(1, 1), bias=False)\n",
              "      (1): BatchNorm2d(128, eps=1e-05, momentum=0.1, affine=True, track_running_stats=True)\n",
              "      (2): ReLU(inplace=True)\n",
              "      (3): Conv2d(128, 128, kernel_size=(3, 3), stride=(1, 1), padding=(1, 1))\n",
              "      (4): ReLU(inplace=True)\n",
              "    )\n",
              "    (3): Sequential(\n",
              "      (0): Conv2d(128, 64, kernel_size=(3, 3), stride=(1, 1), padding=(1, 1), bias=False)\n",
              "      (1): BatchNorm2d(64, eps=1e-05, momentum=0.1, affine=True, track_running_stats=True)\n",
              "      (2): ReLU(inplace=True)\n",
              "      (3): Conv2d(64, 64, kernel_size=(3, 3), stride=(1, 1), padding=(1, 1))\n",
              "      (4): ReLU(inplace=True)\n",
              "    )\n",
              "  )\n",
              "  (max_pool_2x2): MaxPool2d(kernel_size=2, stride=2, padding=0, dilation=1, ceil_mode=False)\n",
              "  (final_conv): Conv2d(64, 2, kernel_size=(1, 1), stride=(1, 1))\n",
              ")"
            ]
          },
          "metadata": {},
          "execution_count": 20
        }
      ]
    },
    {
      "cell_type": "code",
      "source": [
        "summary(model, input_size=(3, 224, 224))"
      ],
      "metadata": {
        "colab": {
          "base_uri": "https://localhost:8080/"
        },
        "id": "CV4YZtV08U_f",
        "outputId": "32c2034e-5935-4f1a-bab7-2ab677694fde"
      },
      "execution_count": 21,
      "outputs": [
        {
          "output_type": "stream",
          "name": "stdout",
          "text": [
            "----------------------------------------------------------------\n",
            "        Layer (type)               Output Shape         Param #\n",
            "================================================================\n",
            "            Conv2d-1         [-1, 64, 224, 224]           1,728\n",
            "       BatchNorm2d-2         [-1, 64, 224, 224]             128\n",
            "              ReLU-3         [-1, 64, 224, 224]               0\n",
            "            Conv2d-4         [-1, 64, 224, 224]          36,928\n",
            "              ReLU-5         [-1, 64, 224, 224]               0\n",
            "         MaxPool2d-6         [-1, 64, 112, 112]               0\n",
            "            Conv2d-7        [-1, 128, 112, 112]          73,728\n",
            "       BatchNorm2d-8        [-1, 128, 112, 112]             256\n",
            "              ReLU-9        [-1, 128, 112, 112]               0\n",
            "           Conv2d-10        [-1, 128, 112, 112]         147,584\n",
            "             ReLU-11        [-1, 128, 112, 112]               0\n",
            "        MaxPool2d-12          [-1, 128, 56, 56]               0\n",
            "           Conv2d-13          [-1, 256, 56, 56]         294,912\n",
            "      BatchNorm2d-14          [-1, 256, 56, 56]             512\n",
            "             ReLU-15          [-1, 256, 56, 56]               0\n",
            "           Conv2d-16          [-1, 256, 56, 56]         590,080\n",
            "             ReLU-17          [-1, 256, 56, 56]               0\n",
            "        MaxPool2d-18          [-1, 256, 28, 28]               0\n",
            "           Conv2d-19          [-1, 512, 28, 28]       1,179,648\n",
            "      BatchNorm2d-20          [-1, 512, 28, 28]           1,024\n",
            "             ReLU-21          [-1, 512, 28, 28]               0\n",
            "           Conv2d-22          [-1, 512, 28, 28]       2,359,808\n",
            "             ReLU-23          [-1, 512, 28, 28]               0\n",
            "        MaxPool2d-24          [-1, 512, 14, 14]               0\n",
            "           Conv2d-25         [-1, 1024, 14, 14]       4,718,592\n",
            "      BatchNorm2d-26         [-1, 1024, 14, 14]           2,048\n",
            "             ReLU-27         [-1, 1024, 14, 14]               0\n",
            "           Conv2d-28         [-1, 1024, 14, 14]       9,438,208\n",
            "             ReLU-29         [-1, 1024, 14, 14]               0\n",
            "  ConvTranspose2d-30          [-1, 512, 28, 28]       2,097,664\n",
            "           Conv2d-31          [-1, 512, 28, 28]       4,718,592\n",
            "      BatchNorm2d-32          [-1, 512, 28, 28]           1,024\n",
            "             ReLU-33          [-1, 512, 28, 28]               0\n",
            "           Conv2d-34          [-1, 512, 28, 28]       2,359,808\n",
            "             ReLU-35          [-1, 512, 28, 28]               0\n",
            "  ConvTranspose2d-36          [-1, 256, 56, 56]         524,544\n",
            "           Conv2d-37          [-1, 256, 56, 56]       1,179,648\n",
            "      BatchNorm2d-38          [-1, 256, 56, 56]             512\n",
            "             ReLU-39          [-1, 256, 56, 56]               0\n",
            "           Conv2d-40          [-1, 256, 56, 56]         590,080\n",
            "             ReLU-41          [-1, 256, 56, 56]               0\n",
            "  ConvTranspose2d-42        [-1, 128, 112, 112]         131,200\n",
            "           Conv2d-43        [-1, 128, 112, 112]         294,912\n",
            "      BatchNorm2d-44        [-1, 128, 112, 112]             256\n",
            "             ReLU-45        [-1, 128, 112, 112]               0\n",
            "           Conv2d-46        [-1, 128, 112, 112]         147,584\n",
            "             ReLU-47        [-1, 128, 112, 112]               0\n",
            "  ConvTranspose2d-48         [-1, 64, 224, 224]          32,832\n",
            "           Conv2d-49         [-1, 64, 224, 224]          73,728\n",
            "      BatchNorm2d-50         [-1, 64, 224, 224]             128\n",
            "             ReLU-51         [-1, 64, 224, 224]               0\n",
            "           Conv2d-52         [-1, 64, 224, 224]          36,928\n",
            "             ReLU-53         [-1, 64, 224, 224]               0\n",
            "           Conv2d-54          [-1, 2, 224, 224]             130\n",
            "================================================================\n",
            "Total params: 31,034,754\n",
            "Trainable params: 31,034,754\n",
            "Non-trainable params: 0\n",
            "----------------------------------------------------------------\n",
            "Input size (MB): 0.57\n",
            "Forward/backward pass size (MB): 525.22\n",
            "Params size (MB): 118.39\n",
            "Estimated Total Size (MB): 644.18\n",
            "----------------------------------------------------------------\n"
          ]
        }
      ]
    },
    {
      "cell_type": "code",
      "source": [
        "optimizer = torch.optim.Adam(model.parameters(), lr=config.LEARNING_RATE)\n",
        "loss_function = nn.CrossEntropyLoss()\n",
        "\n",
        "# calculate steps per epoch for training and test set\n",
        "trainSteps = len(train) // config.BATCH_SIZE\n",
        "testSteps = len(val) // config.BATCH_SIZE\n",
        "\n",
        "# initialize a dictionary to store training history\n",
        "H = {\"train_loss\": [], \"test_loss\": []}\n",
        "\n",
        "print(trainSteps)"
      ],
      "metadata": {
        "colab": {
          "base_uri": "https://localhost:8080/"
        },
        "id": "Y8zLZAHT9HWB",
        "outputId": "66728956-1c8b-49a2-82fc-b0d826db62e8"
      },
      "execution_count": 22,
      "outputs": [
        {
          "output_type": "stream",
          "name": "stdout",
          "text": [
            "23\n"
          ]
        }
      ]
    },
    {
      "cell_type": "code",
      "source": [
        "print(\"[INFO] training the network...\")\n",
        "startTime = time.time()\n",
        "for e in tqdm(range(config.NUM_EPOCHS)):\n",
        "\t# set the model in training mode\n",
        "  model.train()\n",
        "\t# initialize the total training and validation loss\n",
        "  totalTrainLoss = 0\n",
        "  totalTestLoss = 0\n",
        "\t# loop over the training set\n",
        "  for (i, (x, y)) in enumerate(train_dataloader):\n",
        "\t\t# send the input to the device\n",
        "    (x, y) = (x.type(torch.cuda.FloatTensor).to(config.DEVICE), y.to(config.DEVICE))\n",
        "\t\t# perform a forward pass and calculate the training loss\n",
        "    pred = model(x)\n",
        "    print(pred.shape)\n",
        "    loss = loss_function(pred, y)\n",
        "\t\t# first, zero out any previously accumulated gradients, then\n",
        "\t\t# perform backpropagation, and then update model parameters\n",
        "    optimizer.zero_grad()\n",
        "    loss.backward()\n",
        "    optimizer.step()\n",
        "\t\t# add the loss to the total training loss so far\n",
        "    totalTrainLoss += loss\n",
        "\t# switch off autograd\n",
        "  with torch.no_grad():\n",
        "\t\t# set the model in evaluation mode\n",
        "    model.eval()\n",
        "\t\t# loop over the validation set\n",
        "    for (x, y) in val_dataloader:\n",
        "\t\t\t# send the input to the device\n",
        "      (x, y) = (x.type(torch.cuda.FloatTensor).to(config.DEVICE), y.to(config.DEVICE))\n",
        "\t\t\t# make the predictions and calculate the validation loss\n",
        "      pred = model(x)\n",
        "      totalTestLoss += loss_function(pred, y)\n",
        "\t# calculate the average training and validation loss\n",
        "  avgTrainLoss = totalTrainLoss / trainSteps\n",
        "  avgTestLoss = totalTestLoss / testSteps\n",
        "\t# update our training history\n",
        "  H[\"train_loss\"].append(avgTrainLoss.cpu().detach().numpy())\n",
        "  H[\"test_loss\"].append(avgTestLoss.cpu().detach().numpy())\n",
        "\t# print the model training and validation information\n",
        "  print(\"[INFO] EPOCH: {}/{}\".format(e + 1, config.NUM_EPOCHS))\n",
        "  print(\"Train loss: {:.6f}, Test loss: {:.4f}\".format(\n",
        "\t\tavgTrainLoss, avgTestLoss))\n",
        "# display the total time needed to perform the training\n",
        "endTime = time.time()\n",
        "print(\"[INFO] total time taken to train the model: {:.2f}s\".format(\n",
        "\tendTime - startTime))"
      ],
      "metadata": {
        "colab": {
          "base_uri": "https://localhost:8080/"
        },
        "id": "M_6dgO27BfPm",
        "outputId": "5bbb421e-5f1c-4e06-e3e3-383888a11416"
      },
      "execution_count": 23,
      "outputs": [
        {
          "output_type": "stream",
          "name": "stdout",
          "text": [
            "[INFO] training the network...\n"
          ]
        },
        {
          "output_type": "stream",
          "name": "stderr",
          "text": [
            "\r  0%|          | 0/5 [00:00<?, ?it/s]"
          ]
        },
        {
          "output_type": "stream",
          "name": "stdout",
          "text": [
            "torch.Size([20, 2, 224, 224])\n",
            "torch.Size([20, 2, 224, 224])\n",
            "torch.Size([20, 2, 224, 224])\n",
            "torch.Size([20, 2, 224, 224])\n",
            "torch.Size([20, 2, 224, 224])\n",
            "torch.Size([20, 2, 224, 224])\n",
            "torch.Size([20, 2, 224, 224])\n",
            "torch.Size([20, 2, 224, 224])\n",
            "torch.Size([20, 2, 224, 224])\n",
            "torch.Size([20, 2, 224, 224])\n",
            "torch.Size([20, 2, 224, 224])\n",
            "torch.Size([20, 2, 224, 224])\n",
            "torch.Size([20, 2, 224, 224])\n",
            "torch.Size([20, 2, 224, 224])\n",
            "torch.Size([20, 2, 224, 224])\n",
            "torch.Size([20, 2, 224, 224])\n",
            "torch.Size([20, 2, 224, 224])\n",
            "torch.Size([20, 2, 224, 224])\n",
            "torch.Size([20, 2, 224, 224])\n",
            "torch.Size([20, 2, 224, 224])\n",
            "torch.Size([20, 2, 224, 224])\n",
            "torch.Size([20, 2, 224, 224])\n",
            "torch.Size([20, 2, 224, 224])\n",
            "torch.Size([2, 2, 224, 224])\n"
          ]
        },
        {
          "output_type": "stream",
          "name": "stderr",
          "text": [
            "\r 20%|██        | 1/5 [05:39<22:39, 339.80s/it]"
          ]
        },
        {
          "output_type": "stream",
          "name": "stdout",
          "text": [
            "[INFO] EPOCH: 1/5\n",
            "Train loss: 0.560183, Test loss: 0.9231\n",
            "torch.Size([20, 2, 224, 224])\n",
            "torch.Size([20, 2, 224, 224])\n",
            "torch.Size([20, 2, 224, 224])\n",
            "torch.Size([20, 2, 224, 224])\n",
            "torch.Size([20, 2, 224, 224])\n",
            "torch.Size([20, 2, 224, 224])\n",
            "torch.Size([20, 2, 224, 224])\n",
            "torch.Size([20, 2, 224, 224])\n",
            "torch.Size([20, 2, 224, 224])\n",
            "torch.Size([20, 2, 224, 224])\n",
            "torch.Size([20, 2, 224, 224])\n",
            "torch.Size([20, 2, 224, 224])\n",
            "torch.Size([20, 2, 224, 224])\n",
            "torch.Size([20, 2, 224, 224])\n",
            "torch.Size([20, 2, 224, 224])\n",
            "torch.Size([20, 2, 224, 224])\n",
            "torch.Size([20, 2, 224, 224])\n",
            "torch.Size([20, 2, 224, 224])\n",
            "torch.Size([20, 2, 224, 224])\n",
            "torch.Size([20, 2, 224, 224])\n",
            "torch.Size([20, 2, 224, 224])\n",
            "torch.Size([20, 2, 224, 224])\n",
            "torch.Size([20, 2, 224, 224])\n",
            "torch.Size([2, 2, 224, 224])\n"
          ]
        },
        {
          "output_type": "stream",
          "name": "stderr",
          "text": [
            "\r 40%|████      | 2/5 [11:15<16:52, 337.55s/it]"
          ]
        },
        {
          "output_type": "stream",
          "name": "stdout",
          "text": [
            "[INFO] EPOCH: 2/5\n",
            "Train loss: 0.358570, Test loss: 0.4713\n",
            "torch.Size([20, 2, 224, 224])\n",
            "torch.Size([20, 2, 224, 224])\n",
            "torch.Size([20, 2, 224, 224])\n",
            "torch.Size([20, 2, 224, 224])\n",
            "torch.Size([20, 2, 224, 224])\n",
            "torch.Size([20, 2, 224, 224])\n",
            "torch.Size([20, 2, 224, 224])\n",
            "torch.Size([20, 2, 224, 224])\n",
            "torch.Size([20, 2, 224, 224])\n",
            "torch.Size([20, 2, 224, 224])\n",
            "torch.Size([20, 2, 224, 224])\n",
            "torch.Size([20, 2, 224, 224])\n",
            "torch.Size([20, 2, 224, 224])\n",
            "torch.Size([20, 2, 224, 224])\n",
            "torch.Size([20, 2, 224, 224])\n",
            "torch.Size([20, 2, 224, 224])\n",
            "torch.Size([20, 2, 224, 224])\n",
            "torch.Size([20, 2, 224, 224])\n",
            "torch.Size([20, 2, 224, 224])\n",
            "torch.Size([20, 2, 224, 224])\n",
            "torch.Size([20, 2, 224, 224])\n",
            "torch.Size([20, 2, 224, 224])\n",
            "torch.Size([20, 2, 224, 224])\n",
            "torch.Size([2, 2, 224, 224])\n"
          ]
        },
        {
          "output_type": "stream",
          "name": "stderr",
          "text": [
            "\r 60%|██████    | 3/5 [16:52<11:13, 336.99s/it]"
          ]
        },
        {
          "output_type": "stream",
          "name": "stdout",
          "text": [
            "[INFO] EPOCH: 3/5\n",
            "Train loss: 0.234043, Test loss: 0.2633\n",
            "torch.Size([20, 2, 224, 224])\n",
            "torch.Size([20, 2, 224, 224])\n",
            "torch.Size([20, 2, 224, 224])\n",
            "torch.Size([20, 2, 224, 224])\n",
            "torch.Size([20, 2, 224, 224])\n",
            "torch.Size([20, 2, 224, 224])\n",
            "torch.Size([20, 2, 224, 224])\n",
            "torch.Size([20, 2, 224, 224])\n",
            "torch.Size([20, 2, 224, 224])\n",
            "torch.Size([20, 2, 224, 224])\n",
            "torch.Size([20, 2, 224, 224])\n",
            "torch.Size([20, 2, 224, 224])\n",
            "torch.Size([20, 2, 224, 224])\n",
            "torch.Size([20, 2, 224, 224])\n",
            "torch.Size([20, 2, 224, 224])\n",
            "torch.Size([20, 2, 224, 224])\n",
            "torch.Size([20, 2, 224, 224])\n",
            "torch.Size([20, 2, 224, 224])\n",
            "torch.Size([20, 2, 224, 224])\n",
            "torch.Size([20, 2, 224, 224])\n",
            "torch.Size([20, 2, 224, 224])\n",
            "torch.Size([20, 2, 224, 224])\n",
            "torch.Size([20, 2, 224, 224])\n",
            "torch.Size([2, 2, 224, 224])\n"
          ]
        },
        {
          "output_type": "stream",
          "name": "stderr",
          "text": [
            "\r 80%|████████  | 4/5 [22:26<05:36, 336.05s/it]"
          ]
        },
        {
          "output_type": "stream",
          "name": "stdout",
          "text": [
            "[INFO] EPOCH: 4/5\n",
            "Train loss: 0.161242, Test loss: 0.1988\n",
            "torch.Size([20, 2, 224, 224])\n",
            "torch.Size([20, 2, 224, 224])\n",
            "torch.Size([20, 2, 224, 224])\n",
            "torch.Size([20, 2, 224, 224])\n",
            "torch.Size([20, 2, 224, 224])\n",
            "torch.Size([20, 2, 224, 224])\n",
            "torch.Size([20, 2, 224, 224])\n",
            "torch.Size([20, 2, 224, 224])\n",
            "torch.Size([20, 2, 224, 224])\n",
            "torch.Size([20, 2, 224, 224])\n",
            "torch.Size([20, 2, 224, 224])\n",
            "torch.Size([20, 2, 224, 224])\n",
            "torch.Size([20, 2, 224, 224])\n",
            "torch.Size([20, 2, 224, 224])\n",
            "torch.Size([20, 2, 224, 224])\n",
            "torch.Size([20, 2, 224, 224])\n",
            "torch.Size([20, 2, 224, 224])\n",
            "torch.Size([20, 2, 224, 224])\n",
            "torch.Size([20, 2, 224, 224])\n",
            "torch.Size([20, 2, 224, 224])\n",
            "torch.Size([20, 2, 224, 224])\n",
            "torch.Size([20, 2, 224, 224])\n",
            "torch.Size([20, 2, 224, 224])\n",
            "torch.Size([2, 2, 224, 224])\n"
          ]
        },
        {
          "output_type": "stream",
          "name": "stderr",
          "text": [
            "100%|██████████| 5/5 [28:01<00:00, 336.39s/it]"
          ]
        },
        {
          "output_type": "stream",
          "name": "stdout",
          "text": [
            "[INFO] EPOCH: 5/5\n",
            "Train loss: 0.119813, Test loss: 0.1575\n",
            "[INFO] total time taken to train the model: 1681.94s\n"
          ]
        },
        {
          "output_type": "stream",
          "name": "stderr",
          "text": [
            "\n"
          ]
        }
      ]
    },
    {
      "cell_type": "code",
      "source": [
        "# plot the training loss\n",
        "plt.style.use(\"ggplot\")\n",
        "plt.figure()\n",
        "plt.plot(H[\"train_loss\"], label=\"train_loss\")\n",
        "plt.plot(H[\"test_loss\"], label=\"test_loss\")\n",
        "plt.title(\"Training Loss on Dataset\")\n",
        "plt.xlabel(\"Epoch #\")\n",
        "plt.ylabel(\"Loss\")\n",
        "plt.legend(loc=\"lower left\")\n",
        "#plt.savefig(config.PLOT_PATH)\n",
        "# serialize the model to disk\n",
        "#torch.save(model, config.MODEL_PATH)"
      ],
      "metadata": {
        "colab": {
          "base_uri": "https://localhost:8080/",
          "height": 317
        },
        "id": "X1a7z3q53sQZ",
        "outputId": "2979e58c-7b36-429d-b612-a68b20115088"
      },
      "execution_count": 24,
      "outputs": [
        {
          "output_type": "execute_result",
          "data": {
            "text/plain": [
              "<matplotlib.legend.Legend at 0x7f30c1a0c4d0>"
            ]
          },
          "metadata": {},
          "execution_count": 24
        },
        {
          "output_type": "display_data",
          "data": {
            "text/plain": [
              "<Figure size 432x288 with 1 Axes>"
            ],
            "image/png": "[encoded data removed]"
          },
          "metadata": {}
        }
      ]
    },
    {
      "cell_type": "code",
      "source": [
        "def diceCoefficient(y_true, y_pred):\n",
        "    intersection = torch.logical_and(y_true, y_pred)\n",
        "    return (2*torch.sum(intersection)/(torch.sum(y_true)+torch.sum(y_pred))).item()\n",
        "def falsepos(y_true, y_pred): #false positive rate = FP/(TN+FP)\n",
        "    intersection = torch.logical_and(y_true, y_pred)\n",
        "    FP = (torch.sum(y_pred) - torch.sum(intersection))\n",
        "    actual_neg = config.INPUT_IMAGE_HEIGHT*config.INPUT_IMAGE_WIDTH - torch.sum(y_true)\n",
        "    return (FP/actual_neg).item()\n",
        "def falseneg(y_true, y_pred): #false negative rate: \n",
        "    intersection = torch.sum(torch.logical_and(y_true, y_pred))\n",
        "    FN = torch.sum(y_true) - intersection\n",
        "    actual_pos = torch.sum(y_true)\n",
        "    return (FN/actual_pos).item()\n",
        "def jaccard_index(y_true, y_pred):\n",
        "    intersection = torch.logical_and(y_true, y_pred)\n",
        "    union = torch.logical_or(y_true, y_pred)\n",
        "    return torch.sum(intersection)/torch.sum(union)"
      ],
      "metadata": {
        "id": "bJI21kW-7LqT"
      },
      "execution_count": 25,
      "outputs": []
    },
    {
      "cell_type": "code",
      "source": [
        "def prepare_plot(origImage, origMask, predMask):\n",
        "\t# initialize our figure\n",
        "\tfigure, ax = plt.subplots(nrows=1, ncols=3, figsize=(10, 10))\n",
        "\t# plot the original image, its mask, and the predicted mask\n",
        "\tax[0].imshow(origImage)\n",
        "\tax[1].imshow(origMask)\n",
        "\tax[2].imshow(predMask)\n",
        "\t# set the titles of the subplots\n",
        "\tax[0].set_title(\"Image\")\n",
        "\tax[1].set_title(\"Original Mask\")\n",
        "\tax[2].set_title(\"Predicted Mask\")\n",
        "\t# set the layout of the figure and display it\n",
        "\tfigure.tight_layout()\n",
        "\tfigure.show()"
      ],
      "metadata": {
        "id": "i31dI-lJ_NcP"
      },
      "execution_count": 26,
      "outputs": []
    },
    {
      "cell_type": "code",
      "source": [
        "from skimage import io\n",
        "from skimage import color\n",
        "from skimage import segmentation\n",
        "\n",
        "with torch.no_grad():\n",
        "  image = cv2.imread(ex_img_dir)\n",
        "  image = cv2.cvtColor(image, cv2.COLOR_BGR2RGB)\n",
        "  image = image.astype(\"float32\") / 255.0\n",
        "  print(image.shape)\n",
        "  image = cv2.resize(image, (config.INPUT_IMAGE_WIDTH, config.INPUT_IMAGE_HEIGHT))\n",
        "  print(image.shape)\n",
        "  orig = image.copy()\n",
        "\n",
        "  gtMask = cv2.imread(ex_label_dir)\n",
        "  gtMask = cv2.resize(gtMask, (config.INPUT_IMAGE_WIDTH, config.INPUT_IMAGE_HEIGHT))\n",
        "  print(gtMask)\n",
        "  gt_Mask_t = torch.tensor(gtMask)\n",
        "\n",
        "  image = np.transpose(image, (2, 0, 1))\n",
        "  image = np.expand_dims(image, 0)\n",
        "  image = torch.from_numpy(image).to(config.DEVICE)\n",
        "  # make the prediction, pass the results through the sigmoid\n",
        "  # function, and convert the result to a NumPy array\n",
        "  predMask = model(image)\n",
        "  print((predMask.detach().cpu())[:,0,:,100])\n",
        "  print((predMask.detach().cpu())[:,1,:,100])\n",
        "  predMask = torch.argmax(predMask, 1).detach().cpu().squeeze()\n",
        "\n",
        "  print(np.unique(predMask))\n",
        "  \n",
        "  #predMask = torch.sigmoid(predMask)\n",
        "  #predMask = predMask.cpu().numpy()\n",
        "  # filter out the weak predictions and convert them to integers\n",
        "  # predMask = predMask.astype(np.uint8)\n",
        "  # predMask = torch.tensor(predMask)\n",
        "  # predMask = torch.argmax(predMask, dim=1)\n",
        "\n",
        "  prepare_plot(orig, gtMask, predMask)"
      ],
      "metadata": {
        "colab": {
          "base_uri": "https://localhost:8080/",
          "height": 1000
        },
        "id": "DA0r2YHP7ijz",
        "outputId": "996ae108-a7e1-478e-d8f6-697ec65a4820"
      },
      "execution_count": 28,
      "outputs": [
        {
          "output_type": "stream",
          "name": "stdout",
          "text": [
            "(320, 320, 3)\n",
            "(224, 224, 3)\n",
            "[[[0 0 0]\n",
            "  [0 0 0]\n",
            "  [0 0 0]\n",
            "  ...\n",
            "  [0 0 0]\n",
            "  [0 0 0]\n",
            "  [0 0 0]]\n",
            "\n",
            " [[0 0 0]\n",
            "  [0 0 0]\n",
            "  [0 0 0]\n",
            "  ...\n",
            "  [0 0 0]\n",
            "  [0 0 0]\n",
            "  [0 0 0]]\n",
            "\n",
            " [[0 0 0]\n",
            "  [0 0 0]\n",
            "  [0 0 0]\n",
            "  ...\n",
            "  [0 0 0]\n",
            "  [0 0 0]\n",
            "  [0 0 0]]\n",
            "\n",
            " ...\n",
            "\n",
            " [[0 0 0]\n",
            "  [0 0 0]\n",
            "  [0 0 0]\n",
            "  ...\n",
            "  [0 0 0]\n",
            "  [0 0 0]\n",
            "  [0 0 0]]\n",
            "\n",
            " [[0 0 0]\n",
            "  [0 0 0]\n",
            "  [0 0 0]\n",
            "  ...\n",
            "  [0 0 0]\n",
            "  [0 0 0]\n",
            "  [0 0 0]]\n",
            "\n",
            " [[0 0 0]\n",
            "  [0 0 0]\n",
            "  [0 0 0]\n",
            "  ...\n",
            "  [0 0 0]\n",
            "  [0 0 0]\n",
            "  [0 0 0]]]\n",
            "tensor([[0.7779, 1.2029, 1.7832, 1.5974, 1.8152, 1.5658, 1.7457, 1.5205, 1.7288,\n",
            "         1.5148, 1.7306, 1.5145, 1.7230, 1.5104, 1.7227, 1.5098, 1.7196, 1.5098,\n",
            "         1.7200, 1.5105, 1.7191, 1.5100, 1.7188, 1.5084, 1.7154, 1.5064, 1.7148,\n",
            "         1.5060, 1.7130, 1.5048, 1.7135, 1.5042, 1.7123, 1.5038, 1.7142, 1.5058,\n",
            "         1.7133, 1.5057, 1.7137, 1.5051, 1.7126, 1.5045, 1.7143, 1.5070, 1.7151,\n",
            "         1.5081, 1.7180, 1.5102, 1.7208, 1.5118, 1.7238, 1.5135, 1.7216, 1.5120,\n",
            "         1.7211, 1.5114, 1.7196, 1.5112, 1.7230, 1.5147, 1.7244, 1.5148, 1.7246,\n",
            "         1.5147, 1.7246, 1.5140, 1.7241, 1.5131, 1.7199, 1.5108, 1.7194, 1.5101,\n",
            "         1.7185, 1.5096, 1.7201, 1.5116, 1.7204, 1.5118, 1.7215, 1.5118, 1.7206,\n",
            "         1.5101, 1.7204, 1.5113, 1.7192, 1.5115, 1.7223, 1.5134, 1.7229, 1.5128,\n",
            "         1.7232, 1.5141, 1.7226, 1.5137, 1.7242, 1.5143, 1.7233, 1.5119, 1.7216,\n",
            "         1.5120, 1.7197, 1.5115, 1.7206, 1.5110, 1.7205, 1.5117, 1.7222, 1.5124,\n",
            "         1.7204, 1.5112, 1.7207, 1.5117, 1.7211, 1.5113, 1.7231, 1.5145, 1.7235,\n",
            "         1.5145, 1.7234, 1.5133, 1.7220, 1.5125, 1.7234, 1.5142, 1.7228, 1.5128,\n",
            "         1.7212, 1.5113, 1.7202, 1.5100, 1.7204, 1.5111, 1.7193, 1.5116, 1.7210,\n",
            "         1.5112, 1.7196, 1.5095, 1.7191, 1.5102, 1.7181, 1.5101, 1.7207, 1.5131,\n",
            "         1.7246, 1.5141, 1.7242, 1.5122, 1.7176, 1.5079, 1.7152, 1.5071, 1.7166,\n",
            "         1.5086, 1.7193, 1.5105, 1.7191, 1.5106, 1.7199, 1.5107, 1.7199, 1.5102,\n",
            "         1.7207, 1.5119, 1.7209, 1.5134, 1.7238, 1.5141, 1.7227, 1.5123, 1.7226,\n",
            "         1.5137, 1.7224, 1.5138, 1.7239, 1.5142, 1.7241, 1.5133, 1.7239, 1.5140,\n",
            "         1.7215, 1.5123, 1.7211, 1.5113, 1.7200, 1.5110, 1.7222, 1.5139, 1.7223,\n",
            "         1.5107, 1.7180, 1.5089, 1.7195, 1.5092, 1.7180, 1.5084, 1.7150, 1.5069,\n",
            "         1.7154, 1.5064, 1.7138, 1.5040, 1.7131, 1.5049, 1.7133, 1.5048, 1.7138,\n",
            "         1.5047, 1.7151, 1.5072, 1.7204, 1.5115, 1.7265, 1.5136, 1.7380, 1.5258,\n",
            "         1.7668, 1.5567, 1.8221, 1.5986, 1.8822, 1.5711, 1.5154, 0.7406]])\n",
            "tensor([[-0.6207, -1.3046, -1.3078, -1.4727, -1.3523, -1.4081, -1.2877, -1.3669,\n",
            "         -1.2736, -1.3615, -1.2696, -1.3583, -1.2657, -1.3500, -1.2620, -1.3530,\n",
            "         -1.2632, -1.3505, -1.2620, -1.3533, -1.2638, -1.3492, -1.2620, -1.3513,\n",
            "         -1.2609, -1.3483, -1.2589, -1.3496, -1.2594, -1.3447, -1.2577, -1.3481,\n",
            "         -1.2576, -1.3462, -1.2565, -1.3493, -1.2588, -1.3459, -1.2573, -1.3487,\n",
            "         -1.2576, -1.3472, -1.2580, -1.3504, -1.2609, -1.3477, -1.2616, -1.3529,\n",
            "         -1.2636, -1.3527, -1.2640, -1.3556, -1.2660, -1.3512, -1.2635, -1.3539,\n",
            "         -1.2632, -1.3528, -1.2638, -1.3565, -1.2674, -1.3535, -1.2667, -1.3572,\n",
            "         -1.2663, -1.3541, -1.2643, -1.3554, -1.2647, -1.3502, -1.2621, -1.3527,\n",
            "         -1.2620, -1.3508, -1.2620, -1.3539, -1.2646, -1.3507, -1.2641, -1.3542,\n",
            "         -1.2637, -1.3516, -1.2618, -1.3536, -1.2640, -1.3513, -1.2637, -1.3552,\n",
            "         -1.2651, -1.3536, -1.2640, -1.3561, -1.2661, -1.3528, -1.2658, -1.3560,\n",
            "         -1.2655, -1.3530, -1.2628, -1.3547, -1.2643, -1.3507, -1.2630, -1.3538,\n",
            "         -1.2633, -1.3519, -1.2632, -1.3548, -1.2650, -1.3507, -1.2637, -1.3543,\n",
            "         -1.2640, -1.3529, -1.2639, -1.3562, -1.2666, -1.3533, -1.2648, -1.3555,\n",
            "         -1.2645, -1.3534, -1.2642, -1.3561, -1.2661, -1.3516, -1.2643, -1.3540,\n",
            "         -1.2631, -1.3514, -1.2619, -1.3540, -1.2642, -1.3509, -1.2631, -1.3537,\n",
            "         -1.2630, -1.3509, -1.2616, -1.3528, -1.2631, -1.3497, -1.2638, -1.3555,\n",
            "         -1.2656, -1.3544, -1.2645, -1.3546, -1.2632, -1.3479, -1.2596, -1.3507,\n",
            "         -1.2603, -1.3498, -1.2614, -1.3534, -1.2639, -1.3498, -1.2632, -1.3536,\n",
            "         -1.2631, -1.3515, -1.2622, -1.3544, -1.2649, -1.3525, -1.2649, -1.3558,\n",
            "         -1.2651, -1.3534, -1.2638, -1.3557, -1.2660, -1.3524, -1.2657, -1.3565,\n",
            "         -1.2658, -1.3543, -1.2644, -1.3559, -1.2655, -1.3515, -1.2630, -1.3538,\n",
            "         -1.2630, -1.3525, -1.2637, -1.3552, -1.2650, -1.3502, -1.2629, -1.3526,\n",
            "         -1.2618, -1.3506, -1.2606, -1.3513, -1.2614, -1.3469, -1.2604, -1.3491,\n",
            "         -1.2592, -1.3462, -1.2571, -1.3487, -1.2591, -1.3448, -1.2591, -1.3479,\n",
            "         -1.2608, -1.3474, -1.2625, -1.3532, -1.2680, -1.3539, -1.2730, -1.3732,\n",
            "         -1.2883, -1.4117, -1.3277, -1.4399, -1.3502, -1.3978, -1.1579, -0.4740]])\n",
            "[0]\n"
          ]
        },
        {
          "output_type": "display_data",
          "data": {
            "text/plain": [
              "<Figure size 720x720 with 3 Axes>"
            ],
            "image/png": "[encoded data removed]"
          },
          "metadata": {}
        }
      ]
    },
    {
      "cell_type": "code",
      "source": [
        ""
      ],
      "metadata": {
        "id": "Jw7t2fCp7pVv"
      },
      "execution_count": 27,
      "outputs": []
    }
  ]
}